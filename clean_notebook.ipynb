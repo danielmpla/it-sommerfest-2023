{
 "cells": [
  {
   "cell_type": "markdown",
   "id": "bf871790",
   "metadata": {},
   "source": [
    "# Machine Learning Notebook für das IT Sommerfest 2023\n",
    "\n",
    "In diesem Jupyter Notebook werden alle Grundlagen wiederholt und anhand von Tensorflow demonstriert.\n",
    "\n",
    "## Schritt 1: Aufsetzen der Umgebung für das maschinelle Lernmodell"
   ]
  },
  {
   "cell_type": "markdown",
   "id": "a7c95af3",
   "metadata": {},
   "source": [
    "### Schritt 1.1: Wichtige Bibliotheken importieren, Umgebung vorbereiten\n",
    "\n",
    "Hier werden alle Bibliotheken kurz beschrieben. Numpy ist eine Python-Bibliothek, die Operationen mit Matrizen und Arrays unterstützt, mehr dazu unter https://www.w3schools.com/python/numpy/numpy_intro.asp. Mit den Funktionen der Matplotlib können Grafiken und Funktionsdarstellungen erstellt werden https://www.w3schools.com/python/matplotlib_intro.asp. Das Modul os ermöglicht den Aufruf von Systemfunktionen aus Python heraus, mehr dazu hier https://docs.python.org/3/library/os.html. Mit der time Bibliothek kann man z.B. die Ausführungszeit eines Programms messen https://docs.python.org/3/library/time.html."
   ]
  },
  {
   "cell_type": "code",
   "execution_count": 1,
   "id": "ee7d3378",
   "metadata": {},
   "outputs": [],
   "source": [
    "import numpy as np\n",
    "import matplotlib.pyplot as plt\n",
    "import matplotlib.image as mpimg\n",
    "import os\n",
    "import time"
   ]
  },
  {
   "cell_type": "markdown",
   "id": "57c562e2",
   "metadata": {},
   "source": [
    "### Schritt 1.2: Importieren der TensorFlow-Bibliothek\n",
    "\n",
    "TensorFlow ist ein Framework zur Erstellung maschineller Lernmodelle. Mit TensorFlow können neuronale Netze einfach definiert und trainiert werden."
   ]
  },
  {
   "cell_type": "code",
   "execution_count": 2,
   "id": "811c31bf",
   "metadata": {},
   "outputs": [],
   "source": [
    "import tensorflow as tf\n",
    "from tensorflow.keras.layers import Conv2D, MaxPooling2D, Flatten, Dense, Dropout\n",
    "from tensorflow.keras.models import Sequential\n",
    "from tensorflow.keras.optimizers import Adam, RMSprop, SGD\n",
    "from tensorflow.keras.preprocessing.image import ImageDataGenerator,DirectoryIterator\n",
    "from tensorflow.keras.datasets import mnist\n",
    "from tensorflow.keras.utils import to_categorical, plot_model"
   ]
  },
  {
   "cell_type": "markdown",
   "id": "b17cb2dc",
   "metadata": {},
   "source": [
    "## Schritt 2: Vorbereitung der Daten\n",
    "\n",
    "In diesem Schritt werden geeignete Daten für das Lernen gesucht, bereitgestellt und in die Umgebung geladen."
   ]
  },
  {
   "cell_type": "markdown",
   "id": "c793a712",
   "metadata": {},
   "source": [
    "### Schritt 2.1: Finden eines geeigneten Datensatzes\n",
    "\n",
    "Um aus den Daten Muster zu erkennen oder zu lernen, kann es notwendig sein, die Struktur oder Form der Daten zu verändern, um sie besser weiterverarbeiten zu können. Als Grundlage dient der Datensatz Katze, Hund und Panda von Kaggle: https://www.kaggle.com/datasets/ashishsaxena2209/animal-image-datasetdog-cat-and-panda. \n",
    "\n",
    "Unter https://www.kaggle.com/ gibt es viele weitere Datensätze zum Ausprobieren und Verstehen von Machine Learning Ansätzen.\n",
    "\n",
    "Die Daten des cat-dog-panda Datensatzes wurden heruntergeladen und auf der Festplatte C: gespeichert."
   ]
  },
  {
   "cell_type": "markdown",
   "id": "e27c01ad",
   "metadata": {},
   "source": [
    "### Schritt 2.2: Setzen der Pfadvariablen, in der die Bilddaten liegen\n",
    "\n",
    "Mit der Definition dieser Variablen weiß das System, wo sich die Daten befinden und kann auf sie zugreifen."
   ]
  },
  {
   "cell_type": "code",
   "execution_count": 3,
   "id": "20e20888",
   "metadata": {},
   "outputs": [],
   "source": [
    "##\n",
    "# Bitte passen Sie den Pfad der Bilder an!\n",
    "##\n",
    "dir_ = os.path.join('Cat Dog Panda/')"
   ]
  },
  {
   "cell_type": "markdown",
   "id": "f4e4a4b2",
   "metadata": {},
   "source": [
    "### Schritt 2.3: Aufteilung des Datensatzes in einen Trainings- und einen Testteil.\n",
    "\n",
    "Hier wird die Skalierung und Aufteilung des Datensatzes festgelegt und ein Objekt erzeugt, mit dem später weitergearbeitet wird. Mit der Skalierung werden die Bilder etwas verkleinert, damit der Computer sie besser verarbeiten kann. Mit dem Parameter \"validation_split\" kann das Verhältnis von Trainingsdaten zu Testdaten festgelegt werden, d.h. 0.8 also 80% aller Bilder werden zum Üben (Trainieren) der KI verwendet. Die restlichen 0.2, also 20%, werden für den Trainingsdatensatz verwendet, um die Leistungsfähigkeit (Genauigkeit) der KI (des Vorhersagemodells) zu überprüfen."
   ]
  },
  {
   "cell_type": "code",
   "execution_count": 4,
   "id": "eb750e30",
   "metadata": {},
   "outputs": [],
   "source": [
    "train_datagen = ImageDataGenerator(rescale=1/255, # Skallierungsfaktor\n",
    "                                  validation_split = 0.2) # prozentualer Wert wie viele Daten, Testdaten sind"
   ]
  },
  {
   "cell_type": "markdown",
   "id": "d4ac2793",
   "metadata": {},
   "source": [
    "### Schritt 2.4: Vorbereitung des Testdatensatzes\n",
    "\n",
    "In ''train_genrator'' sind die Bilder für das Training enthalten. Die Bilder haben eine definierte Größe von 100 x 100 Bildpunkten (Pixel). Die ''batch_size'' ist die Anzahl der Bilder, die das Modell durchlaufen muss, bevor es aktualisiert wird. Um mehr über die ''batch_size'' zu erfahren, gibt es unter dem Link: https://machinelearningmastery.com/difference-between-a-batch-and-an-epoch/#:~:text=The%20batch%20size%20is%20a%20number%20of%20samples%20processed%20before,samples%20in%20the%20training%20dataset weitere Informationen. Die Variable ''class_mode'' beschreibt die Art des maschinellen Lernproblems, d.h. es handelt sich um eine kategorische Einteilung in Klassen, wie z.B. ''gut'' und ''schlecht'' oder ''Spam'' und ''kein Spam''. Die Variable \"shuffle\" gibt an, dass die Bilder nicht neu gemischt werden. Zum Schluss wird nur noch der Bezeichner für den Datensatz gesetzt. Da es sich bei dem Datensatz um die Trainingsdaten handelt, wird als Bezeichner ''training'' gewählt."
   ]
  },
  {
   "cell_type": "code",
   "execution_count": 5,
   "id": "7345469d",
   "metadata": {},
   "outputs": [
    {
     "name": "stdout",
     "output_type": "stream",
     "text": [
      "Found 2400 images belonging to 3 classes.\n"
     ]
    }
   ],
   "source": [
    "train_generator = train_datagen.flow_from_directory(dir_,target_size=(100, 100), # Größe der Eingabedaten (Bilder)\n",
    "                                                   batch_size= 1920,\n",
    "                                                   class_mode='categorical', # Beschreibung eines Klassifikationsproblemes\n",
    "                                                   shuffle=False, # ohne Mischen\n",
    "                                                   subset = 'training') # Labeln als Trainingssatz"
   ]
  },
  {
   "cell_type": "markdown",
   "id": "3dbb010f",
   "metadata": {},
   "source": [
    "### Schritt 2.5: Erstellen des Testdatensatzes\n",
    "\n",
    "Analog zum obigen Beispiel wird der Testdatensatz definiert. Hier ist zu beachten, dass die ''batch_size'' kleiner ist, da es auch weniger Testdaten gibt, nämlich nur 1/5 der Daten und das ''subset'' wird als ''validation'' bezeichnet."
   ]
  },
  {
   "cell_type": "code",
   "execution_count": 6,
   "id": "c8f0f781",
   "metadata": {},
   "outputs": [
    {
     "name": "stdout",
     "output_type": "stream",
     "text": [
      "Found 600 images belonging to 3 classes.\n"
     ]
    }
   ],
   "source": [
    "test_generator = train_datagen.flow_from_directory(dir_,\n",
    "                                                          target_size = (100,100), # Größe der Eingabedaten (Bilder)\n",
    "                                                          batch_size = 480,\n",
    "                                                          class_mode = 'categorical', # Klassifikationsproblem\n",
    "                                                          shuffle=False, # ohne Mischen\n",
    "                                                          subset = 'validation') # Definition als Testdatensatz"
   ]
  },
  {
   "cell_type": "markdown",
   "id": "58cbb8f3",
   "metadata": {},
   "source": [
    "### Schritt 2.6: Trennung der Label (Klassenbezeichner) und der Merkmale des Trainingsdatensatzes\n",
    "\n",
    "In diesem Schritt werden die Bilder und ihre Bezeichner (Klassen oder auch Label) voneinander getrennt. Das bedeutet, dass die Variable ''x_train'' eine Liste aller Bilder enthält. In ''y_train'' ist die Information gespeichert, was in einem Bild zu sehen ist.\n",
    "\n",
    "Nimmt man das erste Bild aus ''x_train'', so erhält man eine für den Computer verständliche Darstellung des Bildes. Betrachtet man den ersten Eintrag von ''y_train'', so sieht man, was in dem Bild zu sehen ist, z.B. ein Pandabär."
   ]
  },
  {
   "cell_type": "code",
   "execution_count": 7,
   "id": "4ec987b9",
   "metadata": {},
   "outputs": [],
   "source": [
    "x_train, y_train = next(train_generator)"
   ]
  },
  {
   "cell_type": "markdown",
   "id": "cfc197a8",
   "metadata": {},
   "source": [
    "### Schritt 2.7: Trennung der Labels (Klassenbezeichner) und der Merkmale des Testdatensatzes\n",
    "\n",
    "Analog zur Trennung der Bilder und Labels wird mit den Testdaten verfahren."
   ]
  },
  {
   "cell_type": "code",
   "execution_count": 8,
   "id": "db9f097f",
   "metadata": {},
   "outputs": [],
   "source": [
    "x_test, y_test  = next(test_generator)"
   ]
  },
  {
   "cell_type": "markdown",
   "id": "dd29afe0",
   "metadata": {},
   "source": [
    "### Schritt 2.8: Pfadtrennzeichen ersetzen (betriebssystemabhängig)\n",
    "\n",
    "Diese Einstellung ist betriebssystemabhängig und muss auf einem Windows-Rechner vorgenommen werden."
   ]
  },
  {
   "cell_type": "code",
   "execution_count": 9,
   "id": "b71fd6ee",
   "metadata": {},
   "outputs": [],
   "source": [
    "test_filepath = []\n",
    "for filepath in test_generator.filepaths:\n",
    "    filepath = filepath.replace('\\\\', '/')\n",
    "    test_filepath.append(filepath)"
   ]
  },
  {
   "cell_type": "markdown",
   "id": "ed578c64",
   "metadata": {},
   "source": [
    "## Schritt 3: Erstellen eines primitiven Multilayer Perceptrons (MLP)\n",
    "\n",
    "In diesem Schritt werden alle Einstellungen zur Erstellung der künstlichen Intelligenz (KI, Vorhersagemodell) vorgenommen.\n",
    "\n",
    "Quellen:\n",
    "- http://www.informatik.uni-ulm.de/ni/Lehre/WS04/ProSemNN/pdf/MLP.pdf \n",
    "- https://ml.informatik.uni-freiburg.de/former/_media/teaching/ss13/ml/sperschneider/12mlp_theorie.pdf\n",
    "- https://de.wikipedia.org/wiki/Perzeptron "
   ]
  },
  {
   "cell_type": "markdown",
   "id": "00d7ab49",
   "metadata": {},
   "source": [
    "### Schritt 3.1: Laden des Modells, um Rechenzeit zu sparen\n",
    "\n",
    "An dieser Stelle kann auf vordefinierte Modelle zurück gegriffen werden, um Zeit zu sparen soll das Modell erst am Ende selbst trainiert werden."
   ]
  },
  {
   "cell_type": "code",
   "execution_count": 10,
   "id": "bcab43ff",
   "metadata": {},
   "outputs": [],
   "source": [
    "model_primitiv = tf.keras.models.load_model('simple_MLP.h5')"
   ]
  },
  {
   "cell_type": "markdown",
   "id": "215d73a1",
   "metadata": {},
   "source": [
    "### Schritt 3.2: Testvorhersage eines beliebigen Bildes\n",
    "\n",
    "Im folgenden Codebeispiel kann man das vorgegebene Bild von der KI vorhersagen lassen oder sich ein eigenes Bildbeispiel aus dem Web suchen. Zuerst müssen die Bibliotheken für die Bildverarbeitung in die Umgebung geladen werden."
   ]
  },
  {
   "cell_type": "code",
   "execution_count": 11,
   "id": "53a7606d",
   "metadata": {},
   "outputs": [],
   "source": [
    "import skimage.io\n",
    "from skimage import transform\n",
    "from tensorflow.keras.preprocessing import image"
   ]
  },
  {
   "cell_type": "markdown",
   "id": "70a8db6d",
   "metadata": {},
   "source": [
    "### Schritt 3.3: Testbild suchen\n",
    "\n",
    "Im Folgenden wird die URL zu diesem Testbild in der Variablen ''url_'' gespeichert. Um was für ein Bild handelt es sich? Ersetze abcd durch das Tier, das auf https://raw.githubusercontent.com/marcellusruben/All_things_medium/main/Lime/panda_00024.jpg zu sehen ist.\n",
    "\n",
    "- abcd"
   ]
  },
  {
   "cell_type": "code",
   "execution_count": 12,
   "id": "972897ad",
   "metadata": {},
   "outputs": [],
   "source": [
    "#old: https://raw.githubusercontent.com/marcellusruben/All_things_medium/main/Lime/panda_00024.jpg\n",
    "# dog: https://www.dasgesundetier.de/magazin/gfx/article/hund_verdauung.jpg\n",
    "url_ = 'https://raw.githubusercontent.com/marcellusruben/All_things_medium/main/Lime/panda_00024.jpg'"
   ]
  },
  {
   "cell_type": "markdown",
   "id": "84a77898",
   "metadata": {},
   "source": [
    "### Schritt 3.4: Definition der Transformationsfunktion\n",
    "\n",
    "In diesem Schritt wird eine Funktion definiert, die ein beliebiges Bild als Argument erhält und als Rückgabewert das Array mit den Pixelwerten zurückgibt."
   ]
  },
  {
   "cell_type": "code",
   "execution_count": 13,
   "id": "e1625e08",
   "metadata": {},
   "outputs": [],
   "source": [
    "def read_and_transform_img(url):\n",
    "\n",
    "    img = skimage.io.imread(url)\n",
    "    img_ = skimage.transform.resize(img, (100,100))\n",
    "    \n",
    "    img__ = image.img_to_array(img_)\n",
    "    img___ = np.expand_dims(img__, axis=0)\n",
    "\n",
    "    return img___"
   ]
  },
  {
   "cell_type": "markdown",
   "id": "c965791c",
   "metadata": {},
   "source": [
    "### Schritt 3.5: Transformation des Bildes und Vorhersage des Bildes\n",
    "\n",
    "Hier wird die obige Funktion aufgerufen, das Bild aus der URL in ein Array von Bildpunkten umgewandelt und schließlich die Vorhersage durchgeführt."
   ]
  },
  {
   "cell_type": "code",
   "execution_count": 14,
   "id": "d68ed044",
   "metadata": {},
   "outputs": [
    {
     "name": "stdout",
     "output_type": "stream",
     "text": [
      "1/1 [==============================] - 0s 61ms/step\n"
     ]
    }
   ],
   "source": [
    "images = read_and_transform_img(url_) # Umwandeln des Bildes\n",
    "preds = model_primitiv.predict(images) # erstellen der Modellvorhersage für das Bild"
   ]
  },
  {
   "cell_type": "markdown",
   "id": "b6b3cbb9",
   "metadata": {},
   "source": [
    "### Schritt 3.6: Anzeige der Vorhersage\n",
    "\n",
    "Das von der KI erkannte Tier wird nun angezeigt. Diese Anzeige ist allerdings wenig intuitiv.\n",
    "\n",
    "Hinweis: Meistens wird nur die Wahrscheinlichkeit für ein Ereignis zurückgegeben. In diesem Fall werden die Wahrscheinlichkeiten für Katze, Hund und Panda zurückgegeben. \n",
    "\n",
    "Das bedeutet, dass das Bild unter der obigen URL mit einer Wahrscheinlichkeit von 58% als Panda erkannt wurde."
   ]
  },
  {
   "cell_type": "code",
   "execution_count": 15,
   "id": "b6730b63",
   "metadata": {},
   "outputs": [
    {
     "name": "stdout",
     "output_type": "stream",
     "text": [
      "[0.21398613 0.26983905 0.5161748 ]\n"
     ]
    }
   ],
   "source": [
    "print(preds[0])"
   ]
  },
  {
   "cell_type": "markdown",
   "id": "3ad1b1e5",
   "metadata": {},
   "source": [
    "### Schritt 3.7: Verbesserung der Lesbarkeit der Ergebnisse"
   ]
  },
  {
   "cell_type": "code",
   "execution_count": 16,
   "id": "329bf5ef",
   "metadata": {},
   "outputs": [
    {
     "name": "stdout",
     "output_type": "stream",
     "text": [
      "It's a panda!\n",
      "0.5161748\n"
     ]
    }
   ],
   "source": [
    "prediction = np.argmax(preds)\n",
    "pct = np.max(preds)\n",
    "\n",
    "if prediction == 0:\n",
    "    print('It\\'s a cat!')\n",
    "elif prediction == 1:\n",
    "    print('It\\'s a dog!')\n",
    "else:\n",
    "    print('It\\'s a panda!')\n",
    "\n",
    "print(pct)"
   ]
  },
  {
   "cell_type": "markdown",
   "id": "867a8fa2",
   "metadata": {},
   "source": [
    "### Aufgaben für Schritt 3\n",
    "1. Bearbeiten Sie die Aufgaben sorgfältig. Falls Fragen auftauchen\n",
    "- doppelklicken Sie in den entsprechenden Textblock\n",
    "- und fügen Sie am Ende des Textblocks das Stichwort \"### Fragen\" ein.\n",
    "- Jetzt können Sie Ihre Fragen formulieren.\n",
    "\n",
    "2. Verwenden Sie auch andere Bilder als das Panda-Bild aus Schritt 3.4! Kopieren Sie dazu den Link zu dem Bild aus der Adresszeile Ihres Browsers und ersetzen Sie ihn durch den Wert https://raw.githubusercontent.com/marcellusruben/All_things_medium/main/Lime/panda_00024.jpg. Bitte beachten Sie, dass der Link bzw. die URL in Anführungszeichen gesetzt werden muss.\n",
    "\n",
    "3. Suchen Sie den Begriff ''binäre Klassifikation'' und schreiben Sie Ihre Antwort hier in diesen Textblock.\n",
    "- Antwort zu Aufgabe 3: abcd\n",
    "\n",
    "4. Nennen Sie zwei Beispiele für binäre Klassifikationen.\n",
    "- Beispiel 1: abcd\n",
    "- Beispiel 2: efgh\n",
    "\n",
    "5. Listen Sie die zur Verfügung stehenden, einfachen Modelle auf:\n",
    "- a\n",
    "- b\n",
    "\n",
    "6. Wie viele Vorhersagemodelle (KIs) stehen zur Auswahl?\n",
    "7. Führen Sie mit jedem Modell eine Vorhersage des Bildes unter Aufgabe 2. durch und dokumentieren Sie die Ergebnisse wie folgt:\n",
    "- simple_MLP.h5: panda (51.6%)"
   ]
  },
  {
   "cell_type": "markdown",
   "id": "6a1558ec",
   "metadata": {},
   "source": [
    "### Schritt 3.1: Erstellen der Architektur eines MLPs [am Ende ausführen]\n",
    "\n",
    "Hier wird festgelegt, welche Schichten und wie viele Neuronen eine Schicht haben soll. Außerdem werden die Eingabe- und die Ausgabeschicht definiert. Hier wird das alte Model überschrieben. Achtung erst am Ende des Notebooks den Trainingsprozess starten."
   ]
  },
  {
   "cell_type": "code",
   "execution_count": 33,
   "id": "371927d6",
   "metadata": {},
   "outputs": [],
   "source": [
    "model_primitiv = Sequential([\n",
    "    tf.keras.layers.Flatten(input_shape=(100, 100,3)),\n",
    "    tf.keras.layers.Dense(128, activation='relu'),\n",
    "    tf.keras.layers.Dropout(0.2),\n",
    "    tf.keras.layers.Dense(3, activation='softmax')\n",
    "])"
   ]
  },
  {
   "cell_type": "markdown",
   "id": "13969c07",
   "metadata": {},
   "source": [
    "### Schritt 3.2: Training eines MLPs - [Am Ende ausführen] \n",
    "\n",
    "Hier wird endlich trainiert und die Trainingszeit gemessen. Zu Beginn werden noch einige Kompilierungsoptionen gesetzt. Als erstes wird der Optimierungsalgorithmus ''adam'' ausgewählt, dieser kombiniert mehrere effiziente Ansätze zur Anpassung der Gewichte https://deepai.org/machine-learning-glossary-and-terms/adam-machine-learning. Als nächstes wird die Verlustfunktion definiert, im Beispiel wird die Funktion ''categorical_crossentropy'' verwendet. Im Allgemeinen berechnet eine Verlustfunktion die Differenz zwischen der Modellvorhersage und dem tatsächlichen Etikett. Mehr über diese Verlustfunktion kann hier nachgelesen werden: https://gombru.github.io/2018/05/23/cross_entropy_loss/. Schließlich wird die Genauigkeit des Trainingsmodells nach jedem Trainingslauf angegeben https://developers.google.com/machine-learning/crash-course/classification/accuracy?hl=de. \n",
    "\n",
    "Die ''fit()'' Funktion trainiert das Vorhersagemodell, indem die Gewichte des neuronalen Netzes angepasst werden. Der ''train_generator'' enthält die Trainingsdaten, die Anzahl der Epochen beschreibt, wie viele vollständige Trainingsläufe durchgeführt werden. In einer Epoche werden alle Bilder in den Trainingsdaten einmal durchlaufen und bei jeder Vorhersage werden die Gewichte angepasst. Der Wert in \"verbose\" erzeugt die Ausgabe der Fit-Funktion."
   ]
  },
  {
   "cell_type": "code",
   "execution_count": 47,
   "id": "b1eebc61",
   "metadata": {},
   "outputs": [
    {
     "name": "stdout",
     "output_type": "stream",
     "text": [
      "Epoch 1/80\n",
      "2/2 [==============================] - 3s 2s/step - loss: 3.2184 - accuracy: 0.3008\n",
      "Epoch 2/80\n",
      "2/2 [==============================] - 3s 906ms/step - loss: 1.3519 - accuracy: 0.3363\n",
      "Epoch 3/80\n",
      "2/2 [==============================] - 3s 2s/step - loss: 1.0640 - accuracy: 0.3333\n",
      "Epoch 4/80\n",
      "2/2 [==============================] - 3s 879ms/step - loss: 1.0955 - accuracy: 0.3338\n",
      "Epoch 5/80\n",
      "2/2 [==============================] - 3s 2s/step - loss: 1.0990 - accuracy: 0.3338\n",
      "Epoch 6/80\n",
      "2/2 [==============================] - 3s 885ms/step - loss: 1.0995 - accuracy: 0.3338\n",
      "Epoch 7/80\n",
      "2/2 [==============================] - 3s 990ms/step - loss: 1.0991 - accuracy: 0.3338\n",
      "Epoch 8/80\n",
      "2/2 [==============================] - 3s 934ms/step - loss: 1.0987 - accuracy: 0.3363\n",
      "Epoch 9/80\n",
      "2/2 [==============================] - 3s 971ms/step - loss: 1.0970 - accuracy: 0.3383\n",
      "Epoch 10/80\n",
      "2/2 [==============================] - 3s 2s/step - loss: 1.0938 - accuracy: 0.3821\n",
      "Epoch 11/80\n",
      "2/2 [==============================] - 3s 960ms/step - loss: 1.0903 - accuracy: 0.4454\n",
      "Epoch 12/80\n",
      "2/2 [==============================] - 3s 2s/step - loss: 1.0948 - accuracy: 0.3508\n",
      "Epoch 13/80\n",
      "2/2 [==============================] - 3s 1s/step - loss: 1.0904 - accuracy: 0.3583\n",
      "Epoch 14/80\n",
      "2/2 [==============================] - 3s 895ms/step - loss: 1.0779 - accuracy: 0.4129\n",
      "Epoch 15/80\n",
      "2/2 [==============================] - 3s 2s/step - loss: 1.0894 - accuracy: 0.3663\n",
      "Epoch 16/80\n",
      "2/2 [==============================] - 3s 925ms/step - loss: 1.0949 - accuracy: 0.3504\n",
      "Epoch 17/80\n",
      "2/2 [==============================] - 3s 940ms/step - loss: 1.0999 - accuracy: 0.3396\n",
      "Epoch 18/80\n",
      "2/2 [==============================] - 3s 2s/step - loss: 1.1038 - accuracy: 0.3367\n",
      "Epoch 19/80\n",
      "2/2 [==============================] - 3s 899ms/step - loss: 1.1034 - accuracy: 0.3358\n",
      "Epoch 20/80\n",
      "2/2 [==============================] - 3s 885ms/step - loss: 1.1046 - accuracy: 0.3350\n",
      "Epoch 21/80\n",
      "2/2 [==============================] - 3s 2s/step - loss: 1.1081 - accuracy: 0.3338\n",
      "Epoch 22/80\n",
      "2/2 [==============================] - 3s 960ms/step - loss: 1.1069 - accuracy: 0.3338\n",
      "Epoch 23/80\n",
      "2/2 [==============================] - 3s 910ms/step - loss: 1.1078 - accuracy: 0.3338\n",
      "Epoch 24/80\n",
      "2/2 [==============================] - 3s 947ms/step - loss: 1.1086 - accuracy: 0.3338\n",
      "Epoch 25/80\n",
      "2/2 [==============================] - 3s 1s/step - loss: 1.1095 - accuracy: 0.3338\n",
      "Epoch 26/80\n",
      "2/2 [==============================] - 3s 957ms/step - loss: 1.1107 - accuracy: 0.3338\n",
      "Epoch 27/80\n",
      "2/2 [==============================] - 3s 2s/step - loss: 1.1154 - accuracy: 0.3338\n",
      "Epoch 28/80\n",
      "2/2 [==============================] - 3s 1s/step - loss: 1.1135 - accuracy: 0.3338\n",
      "Epoch 29/80\n",
      "2/2 [==============================] - 3s 2s/step - loss: 1.1194 - accuracy: 0.3338\n",
      "Epoch 30/80\n",
      "2/2 [==============================] - 3s 906ms/step - loss: 1.1165 - accuracy: 0.3338\n",
      "Epoch 31/80\n",
      "2/2 [==============================] - 3s 2s/step - loss: 1.1222 - accuracy: 0.3338\n",
      "Epoch 32/80\n",
      "2/2 [==============================] - 3s 2s/step - loss: 1.1239 - accuracy: 0.3338\n",
      "Epoch 33/80\n",
      "2/2 [==============================] - 3s 919ms/step - loss: 1.1229 - accuracy: 0.3338\n",
      "Epoch 34/80\n",
      "2/2 [==============================] - 3s 910ms/step - loss: 1.1245 - accuracy: 0.3338\n",
      "Epoch 35/80\n",
      "2/2 [==============================] - 3s 2s/step - loss: 1.1308 - accuracy: 0.3338\n",
      "Epoch 36/80\n",
      "2/2 [==============================] - 3s 905ms/step - loss: 1.1298 - accuracy: 0.3338\n",
      "Epoch 37/80\n",
      "2/2 [==============================] - 3s 892ms/step - loss: 1.1311 - accuracy: 0.3338\n",
      "Epoch 38/80\n",
      "2/2 [==============================] - 3s 2s/step - loss: 1.1370 - accuracy: 0.3338\n",
      "Epoch 39/80\n",
      "2/2 [==============================] - 3s 902ms/step - loss: 1.1368 - accuracy: 0.3338\n",
      "Epoch 40/80\n",
      "2/2 [==============================] - 3s 920ms/step - loss: 1.1390 - accuracy: 0.3338\n",
      "Epoch 41/80\n",
      "2/2 [==============================] - 3s 900ms/step - loss: 1.1419 - accuracy: 0.3338\n",
      "Epoch 42/80\n",
      "2/2 [==============================] - 3s 2s/step - loss: 1.1485 - accuracy: 0.3338\n",
      "Epoch 43/80\n",
      "2/2 [==============================] - 3s 2s/step - loss: 1.1524 - accuracy: 0.3338\n",
      "Epoch 44/80\n",
      "2/2 [==============================] - 3s 2s/step - loss: 1.1554 - accuracy: 0.3333\n",
      "Epoch 45/80\n",
      "2/2 [==============================] - 3s 2s/step - loss: 1.1592 - accuracy: 0.3338\n",
      "Epoch 46/80\n",
      "2/2 [==============================] - 3s 2s/step - loss: 1.1632 - accuracy: 0.3333\n",
      "Epoch 47/80\n",
      "2/2 [==============================] - 3s 2s/step - loss: 1.1668 - accuracy: 0.3333\n",
      "Epoch 48/80\n",
      "2/2 [==============================] - 3s 2s/step - loss: 1.1679 - accuracy: 0.3333\n",
      "Epoch 49/80\n",
      "2/2 [==============================] - 3s 999ms/step - loss: 1.1695 - accuracy: 0.3333\n",
      "Epoch 50/80\n",
      "2/2 [==============================] - 3s 2s/step - loss: 1.1736 - accuracy: 0.3338\n",
      "Epoch 51/80\n",
      "2/2 [==============================] - 3s 1s/step - loss: 1.1751 - accuracy: 0.3333\n",
      "Epoch 52/80\n",
      "2/2 [==============================] - 3s 1s/step - loss: 1.1744 - accuracy: 0.3333\n",
      "Epoch 53/80\n",
      "2/2 [==============================] - 3s 2s/step - loss: 1.1800 - accuracy: 0.3338\n",
      "Epoch 54/80\n",
      "2/2 [==============================] - 3s 961ms/step - loss: 1.1804 - accuracy: 0.3333\n",
      "Epoch 55/80\n",
      "2/2 [==============================] - 3s 1s/step - loss: 1.1842 - accuracy: 0.3333\n",
      "Epoch 56/80\n",
      "2/2 [==============================] - 3s 905ms/step - loss: 1.1847 - accuracy: 0.3333\n",
      "Epoch 57/80\n",
      "2/2 [==============================] - 3s 2s/step - loss: 1.1903 - accuracy: 0.3338\n",
      "Epoch 58/80\n",
      "2/2 [==============================] - 3s 2s/step - loss: 1.1925 - accuracy: 0.3333\n",
      "Epoch 59/80\n",
      "2/2 [==============================] - 3s 2s/step - loss: 1.1960 - accuracy: 0.3338\n",
      "Epoch 60/80\n",
      "2/2 [==============================] - 3s 1s/step - loss: 1.1948 - accuracy: 0.3333\n",
      "Epoch 61/80\n",
      "2/2 [==============================] - 3s 2s/step - loss: 1.1993 - accuracy: 0.3338\n",
      "Epoch 62/80\n",
      "2/2 [==============================] - 3s 2s/step - loss: 1.2012 - accuracy: 0.3338\n",
      "Epoch 63/80\n",
      "2/2 [==============================] - 3s 941ms/step - loss: 1.2028 - accuracy: 0.3338\n",
      "Epoch 64/80\n",
      "2/2 [==============================] - 3s 911ms/step - loss: 1.2017 - accuracy: 0.3333\n",
      "Epoch 65/80\n",
      "2/2 [==============================] - 3s 2s/step - loss: 1.2055 - accuracy: 0.3333\n",
      "Epoch 66/80\n",
      "2/2 [==============================] - 3s 911ms/step - loss: 1.2058 - accuracy: 0.3338\n",
      "Epoch 67/80\n",
      "2/2 [==============================] - 3s 894ms/step - loss: 1.2055 - accuracy: 0.3333\n",
      "Epoch 68/80\n",
      "2/2 [==============================] - 3s 2s/step - loss: 1.2087 - accuracy: 0.3333\n",
      "Epoch 69/80\n",
      "2/2 [==============================] - 3s 881ms/step - loss: 1.2081 - accuracy: 0.3338\n",
      "Epoch 70/80\n",
      "2/2 [==============================] - 3s 2s/step - loss: 1.2136 - accuracy: 0.3338\n",
      "Epoch 71/80\n",
      "2/2 [==============================] - 3s 2s/step - loss: 1.2141 - accuracy: 0.3333\n",
      "Epoch 72/80\n",
      "2/2 [==============================] - 3s 2s/step - loss: 1.2161 - accuracy: 0.3338\n",
      "Epoch 73/80\n",
      "2/2 [==============================] - 3s 875ms/step - loss: 1.2186 - accuracy: 0.3333\n",
      "Epoch 74/80\n",
      "2/2 [==============================] - 3s 2s/step - loss: 1.2156 - accuracy: 0.3338\n",
      "Epoch 75/80\n",
      "2/2 [==============================] - 3s 2s/step - loss: 1.2193 - accuracy: 0.3338\n",
      "Epoch 76/80\n",
      "2/2 [==============================] - 3s 2s/step - loss: 1.2194 - accuracy: 0.3338\n",
      "Epoch 77/80\n",
      "2/2 [==============================] - 3s 2s/step - loss: 1.2203 - accuracy: 0.3338\n",
      "Epoch 78/80\n",
      "2/2 [==============================] - 3s 953ms/step - loss: 1.2223 - accuracy: 0.3333\n",
      "Epoch 79/80\n",
      "2/2 [==============================] - 3s 972ms/step - loss: 1.2192 - accuracy: 0.3338\n",
      "Epoch 80/80\n",
      "2/2 [==============================] - 3s 902ms/step - loss: 1.2173 - accuracy: 0.3338\n",
      "--- 226.26251745224 seconds ---\n"
     ]
    }
   ],
   "source": [
    "start_time = time.time() # stoppen der Startzeit\n",
    "\n",
    "model_primitiv.compile(optimizer='adam', \n",
    "                       loss='categorical_crossentropy', \n",
    "                       metrics=['accuracy'])\n",
    "\n",
    "history = model_primitiv.fit(\n",
    "      train_generator,  \n",
    "      epochs=80,\n",
    "      verbose=1)\n",
    "\n",
    "print(\"--- %s seconds ---\" % (time.time() - start_time)) # printen der Dauer"
   ]
  },
  {
   "cell_type": "code",
   "execution_count": 70,
   "id": "478e15d6",
   "metadata": {},
   "outputs": [],
   "source": [
    "#model_primitiv.save('simple_MLP_4.h5')"
   ]
  },
  {
   "cell_type": "markdown",
   "id": "432647e1",
   "metadata": {},
   "source": [
    "# Schritt 4: Ein MLP coden\n",
    "\n",
    "Hier soll selber der Code fürn ein Multilayer Perceptron geschrieben werden. Die Definition des Neuronalen Netzes steht hierbei im Fokus."
   ]
  },
  {
   "cell_type": "markdown",
   "id": "8b054107",
   "metadata": {},
   "source": [
    "### Schritt 4.1: Laden der Bibliotheken und der Trainingsdaten"
   ]
  },
  {
   "cell_type": "code",
   "execution_count": 17,
   "id": "7f297e38",
   "metadata": {},
   "outputs": [
    {
     "data": {
      "image/png": "[encoded data removed]",
      "text/plain": [
       "<Figure size 640x480 with 9 Axes>"
      ]
     },
     "metadata": {},
     "output_type": "display_data"
    }
   ],
   "source": [
    "from keras.datasets import mnist\n",
    "\n",
    "# load dataset\n",
    "(x_train, y_train),(x_test, y_test) = mnist.load_data()\n",
    "\n",
    "for i in range(9):\n",
    "    plt.subplot(3,3,i+1)\n",
    "    plt.imshow(x_train[i], cmap='gray', interpolation='none')\n",
    "    plt.axis('off')\n",
    "    plt.title(\"Class {}\".format(y_train[i]))\n"
   ]
  },
  {
   "cell_type": "markdown",
   "id": "db49814f",
   "metadata": {},
   "source": [
    "### Schritt 4.2: Vorverarbeiten der Daten\n",
    "\n",
    "Dieser Schritt kann einfach ausgeführt werden, er ist notwendig um die Daten besser verarbeiten zu können."
   ]
  },
  {
   "cell_type": "code",
   "execution_count": 18,
   "id": "a14c0952",
   "metadata": {},
   "outputs": [],
   "source": [
    "# compute the number of labels\n",
    "num_labels = len(np.unique(y_train))\n",
    "# convert to one-hot vector\n",
    "y_train = to_categorical(y_train)\n",
    "y_test = to_categorical(y_test)\n",
    "# image dimensions (assumed square)\n",
    "image_size = x_train.shape[1]\n",
    "input_size = image_size * image_size\n",
    "input_size\n",
    "# resize and normalize\n",
    "x_train = np.reshape(x_train, [-1, input_size])\n",
    "x_train = x_train.astype('float32') / 255\n",
    "x_test = np.reshape(x_test, [-1, input_size])\n",
    "x_test = x_test.astype('float32') / 255"
   ]
  },
  {
   "cell_type": "markdown",
   "id": "07f606a1",
   "metadata": {},
   "source": [
    "### Schritt 4.3: Instanziierung der Methode des absteigenden Gradienten\n",
    "\n",
    "Diese Methodes dienst der Anpassungen der Gewichte des Netzes. Weitere Informationen finden Sie hier: https://en.wikipedia.org/wiki/Stochastic_gradient_descent."
   ]
  },
  {
   "cell_type": "code",
   "execution_count": 22,
   "id": "adac6184",
   "metadata": {},
   "outputs": [],
   "source": [
    "sgd = SGD(learning_rate=1.0, weight_decay=1e-3, momentum=0.5)\n",
    "# network parameters\n",
    "batch_size = 128"
   ]
  },
  {
   "cell_type": "markdown",
   "id": "62f97537",
   "metadata": {},
   "source": [
    "### Aufgabe Schritt 4.4: Definition des Netzes\n",
    "\n",
    "Hier sollen Sie mit Hilfe des neuronalen Netzes aus Schritt drei ein einfaches zweischichtiges neuronales Netz erstellen, mit dessen Hilfe Handgeschriebene Ziffern erkannt werden sollen.\n",
    "\n",
    "Hinweis: Die Kommentare geben Aufschluss über die Argumente die den jeweiligen Shcichten mitgegeben werden müssen!"
   ]
  },
  {
   "cell_type": "code",
   "execution_count": 25,
   "id": "8153e76d",
   "metadata": {},
   "outputs": [],
   "source": [
    "model_mnist = Sequential([ \n",
    "    # hinzufügen eines Dense-Schicht: 10000 Neuronen, Eingabe-Dimension (input_dim=) von 784 und einer 'relu'\n",
    "    # hinzufügen einer Ausgabeschicht als Dense-Layer für 10 Ausgabewerte mit 'softmax' Aktivierungsfunktion\n",
    "])"
   ]
  },
  {
   "cell_type": "code",
   "execution_count": 26,
   "id": "f0acb82d",
   "metadata": {},
   "outputs": [
    {
     "name": "stdout",
     "output_type": "stream",
     "text": [
      "Epoch 1/2\n",
      "469/469 [==============================] - 35s 73ms/step - loss: 0.2489 - accuracy: 0.9276\n",
      "Epoch 2/2\n",
      "469/469 [==============================] - 32s 68ms/step - loss: 0.0989 - accuracy: 0.9697\n"
     ]
    },
    {
     "data": {
      "text/plain": [
       "<keras.callbacks.History at 0x24539e48430>"
      ]
     },
     "execution_count": 26,
     "metadata": {},
     "output_type": "execute_result"
    }
   ],
   "source": [
    "model_mnist.compile(loss='categorical_crossentropy', \n",
    "              optimizer=sgd,\n",
    "              metrics=['accuracy'])\n",
    "model_mnist.fit(x_train, y_train, epochs=2, batch_size=batch_size)"
   ]
  },
  {
   "cell_type": "markdown",
   "id": "d6317f62",
   "metadata": {},
   "source": [
    "### Schritt 4.5: Eavluation der Modellperformance\n",
    "\n",
    "Hier wird die Genauigkeit des Modells überprüft. Wie die Genauigkeit eines Vorhersagemodells geprüft wird lesen sie hier: https://developers.google.com/machine-learning/crash-course/classification/accuracy?hl=de."
   ]
  },
  {
   "cell_type": "code",
   "execution_count": 28,
   "id": "ec447dac",
   "metadata": {},
   "outputs": [
    {
     "name": "stdout",
     "output_type": "stream",
     "text": [
      "79/79 [==============================] - 1s 13ms/step - loss: 0.1010 - accuracy: 0.9677\n",
      "\n",
      "Test accuracy: 96.8%\n"
     ]
    }
   ],
   "source": [
    "loss, acc = model_mnist.evaluate(x_test, y_test, batch_size=batch_size)\n",
    "print(\"\\nTest accuracy: %.1f%%\" % (100.0 * acc))"
   ]
  },
  {
   "cell_type": "markdown",
   "id": "cb9ebedd",
   "metadata": {},
   "source": [
    "## Schritt 5: Erstellen eines Convolutional Neural Nertworks (CNN oder ConvNet)\n",
    "\n",
    "Hier wird eine spezielles Neuronales Netzwerk erstellt, im deutschen würde man das es etwa als 'faltendes neuronales Netzwerk' übersetzen. https://de.wikipedia.org/wiki/Convolutional_Neural_Network "
   ]
  },
  {
   "cell_type": "markdown",
   "id": "ac4e664b",
   "metadata": {},
   "source": [
    "### Schritt 5.1: Laden des Modells\n",
    "\n",
    "Achtung nur einkommentieren und laden eines trainierten Modells! Sonst ist keine sinnvolle Vorhersage möglich."
   ]
  },
  {
   "cell_type": "code",
   "execution_count": 36,
   "id": "6a7da04e",
   "metadata": {},
   "outputs": [],
   "source": [
    "model = tf.keras.models.load_model('cnn_model_schlecht.h5')"
   ]
  },
  {
   "cell_type": "markdown",
   "id": "2039d86f",
   "metadata": {},
   "source": [
    "## Vorhersagen durchführen mit dem ConvNet\n",
    "\n",
    "Die folgende Schritt ist nur auszuführen, falls es unter Schritt drei nicht geschehen ist."
   ]
  },
  {
   "cell_type": "markdown",
   "id": "4889edef",
   "metadata": {},
   "source": [
    "### Schritt 5.2: Einbinden der Bibliotheken zur Bildverarbeitung\n",
    "\n",
    "Achtung nur ausführen, falls dies noch nicht unter Schritt 3 erfolgt ist."
   ]
  },
  {
   "cell_type": "code",
   "execution_count": 37,
   "id": "c9ed78c5",
   "metadata": {},
   "outputs": [],
   "source": [
    "import skimage.io\n",
    "from skimage import transform\n",
    "from tensorflow.keras.preprocessing import image\n",
    "\n",
    "# hund: https://www.dasgesundetier.de/magazin/gfx/article/hund_verdauung.jpg\n",
    "# old panda: https://raw.githubusercontent.com/marcellusruben/All_things_medium/main/Lime/panda_00024.jpg \n",
    "url_ = 'https://raw.githubusercontent.com/marcellusruben/All_things_medium/main/Lime/panda_00024.jpg'\n",
    "\n",
    "def read_and_transform_img(url):\n",
    "\n",
    "    img = skimage.io.imread(url)\n",
    "    img_ = skimage.transform.resize(img, (100,100))\n",
    "    \n",
    "    img__ = image.img_to_array(img_)\n",
    "    img___ = np.expand_dims(img__, axis=0)\n",
    "\n",
    "    return img___"
   ]
  },
  {
   "cell_type": "markdown",
   "id": "1c9207a9",
   "metadata": {},
   "source": [
    "### Schritt 5.3: Speichern des Bildarrays in einer Variable\n",
    "\n",
    "Achtung nur wenn es unter Schritt 3 nicht erfolgt ist."
   ]
  },
  {
   "cell_type": "code",
   "execution_count": 38,
   "id": "e7f42c6c",
   "metadata": {},
   "outputs": [],
   "source": [
    "images = read_and_transform_img(url_)"
   ]
  },
  {
   "cell_type": "markdown",
   "id": "7563689f",
   "metadata": {},
   "source": [
    "### Schritt 5.4: Klassifizieren des Bildes mit den CNN\n",
    "\n",
    "Achtung das Ergebnis wird in einer neuen Variable gespeichert. Es wird zudem die Vorhersagefunktion von ''model'' aufgerufen und nicht von ''model_primitive''."
   ]
  },
  {
   "cell_type": "code",
   "execution_count": 39,
   "id": "41d35ee5",
   "metadata": {},
   "outputs": [
    {
     "name": "stdout",
     "output_type": "stream",
     "text": [
      "1/1 [==============================] - 0s 60ms/step\n"
     ]
    }
   ],
   "source": [
    "preds_cnn = model.predict(images)"
   ]
  },
  {
   "cell_type": "markdown",
   "id": "3e881356",
   "metadata": {},
   "source": [
    "### Schritt 5.5: Anzeigen der Wahrscheinlichkeiten\n",
    "\n",
    "Die Anzeige der Ergebnisse des CNN Model."
   ]
  },
  {
   "cell_type": "code",
   "execution_count": 42,
   "id": "4d8ebed5",
   "metadata": {},
   "outputs": [
    {
     "name": "stdout",
     "output_type": "stream",
     "text": [
      "[0.22786817 0.2099789  0.5621529 ]\n"
     ]
    }
   ],
   "source": [
    "print(preds_cnn[0])"
   ]
  },
  {
   "cell_type": "markdown",
   "id": "b4a91bfa",
   "metadata": {},
   "source": [
    "### Schritt 5.6: Darstellungen der Klassenwahrscheinlichkeiten\n",
    "\n",
    "Analog wie oben ist hier das Tier und seine Wahscheinlichkeit abzulesen."
   ]
  },
  {
   "cell_type": "code",
   "execution_count": 43,
   "id": "2f338bce",
   "metadata": {},
   "outputs": [
    {
     "name": "stdout",
     "output_type": "stream",
     "text": [
      "It's a panda!\n",
      "0.5621529\n"
     ]
    }
   ],
   "source": [
    "prediction = np.argmax(preds_cnn)\n",
    "pct = np.max(preds_cnn)\n",
    "\n",
    "if prediction == 0:\n",
    "    print('It\\'s a cat!')\n",
    "elif prediction == 1:\n",
    "    print('It\\'s a dog!')\n",
    "else:\n",
    "    print('It\\'s a panda!')\n",
    "\n",
    "print(pct)"
   ]
  },
  {
   "cell_type": "markdown",
   "id": "b9619834",
   "metadata": {},
   "source": [
    "## Aufgaben Schitt 5\n",
    "\n",
    "1. Vergleichen Sie das Ergebnis aus Schritt 5.6 (Darstellung der Klassenwahrscheinlichkeiten) mit dem Ergebnis von Schritt 3.7. Was stellen Sie fest? Dokumentieren sie zu einem Bild die Vorhersage eines einfachen Modells und eines ConvNet!\n",
    "\n",
    "2. Suchen Sie ein weiteres Bild im Web und lassen sie es von einem einfachen und einem CNN vorhersagen. Dokumentieren Sie die Ergebnisse.\n",
    "\n",
    "3. Welcher Modelltyp ist ihrer Meinung nach besser, wenn es um die Klassifikation von Bildern geht?\n",
    "\n",
    "4. Kann man den Ergebnissen uneingeschränkt trauen?\n",
    "\n",
    "5. Führen Sie am Ende des Workshops die Schritte ab 5.7 durch, nach dem XAI-Part (Teil 6)!"
   ]
  },
  {
   "cell_type": "markdown",
   "id": "019784f0",
   "metadata": {},
   "source": [
    "### Schritt 5.7: Architekturdefinition des CNN\n",
    "\n",
    "Erläuterung der ersten Faltungsschicht:\n",
    "- Conv2D: beschreibt den Namen der Funktion,\n",
    "- 1. Argument: 16, definiert die Anzahl der Neuronen in diesem Layer\n",
    "- 2. Argument: (3, 3), definiert die Größe des Filterkernels (Faltungsfunktion) die eine Fläche von 3 x 3 Pixeln auf ein Pixel herunterbricht\n",
    "- 3. Argument: activation='relu', definiert die Aktivierungsfunktion der Neurone in dieser Schicht, der ausführliche Name dieser Funktion ist 'Rectified Linear Unit' https://machinelearningmastery.com/rectified-linear-activation-function-for-deep-learning-neural-networks/\n",
    "- 4. Argument: input_shape=(100, 100, 3), definiert die Größe des Eingabebildes 100 x 100 Bildpunkte und drei Wrete für die Farbtiefe\n",
    "- MaxPooling2D: beschreibt eine Funktion, welche überflüssige Informationen abschneidet, aus dem neu entstandenen Bild.\n",
    "- 1. Argument: 2 beschreibt die Anzahl der vertikalten Bildpunkte, die zusammengefasst werden.\n",
    "- 2. Argument: 2 beschreibt die Anzahl der horizontalen Bildpunkte, die zusammengefasst werden.\n",
    "\n",
    "Quellen:\n",
    "- https://de.wikipedia.org/wiki/Convolutional_Neural_Network\n",
    "- https://www.deeplearningbook.org/contents/convnets.html "
   ]
  },
  {
   "cell_type": "code",
   "execution_count": 30,
   "id": "2755953b",
   "metadata": {},
   "outputs": [],
   "source": [
    "model = Sequential([\n",
    "    \n",
    "    # Erste Schicht: erste Filterschicht und Eingabeschicht\n",
    "        Conv2D(16, (3,3), activation='relu', input_shape=(100, 100, 3)),\n",
    "    # Zweite Schicht: Max Pooling Schicht \n",
    "        MaxPooling2D(2, 2),\n",
    "    \n",
    "    # dritte und vierte Schicht: eine weitere Filterschicht mit einem anschließenden Pooling Layer\n",
    "        Conv2D(32, (3,3), activation='relu'),\n",
    "        MaxPooling2D(2,2),\n",
    "    \n",
    "    # fünfte und sechste Schicht: eine weitere Filterschicht mit einem anschließenden Pooling Layer\n",
    "        Conv2D(64, (3,3), activation='relu'),\n",
    "        MaxPooling2D(2,2),\n",
    "    \n",
    "        Flatten(),\n",
    "    \n",
    "    # siebente Schicht: eine Dense-Layer mit 512 Neuronen  und eienr 'relu' Aktivierungsfunktion\n",
    "        Dense(512, activation='relu'),\n",
    "    \n",
    "    # achte Schicht: ein Dropout Layer, der bestimmte Werte unter einer Schwelle verwirft \n",
    "        Dropout(0.2),\n",
    "    \n",
    "    # Ausgabe Schicht: Ausgabeschicht für das Labeling von Katzen, Hunden und Pandas\n",
    "        Dense(3, activation='softmax') \n",
    "])"
   ]
  },
  {
   "cell_type": "markdown",
   "id": "d933d0bf",
   "metadata": {},
   "source": [
    "### Schritt 5.8: Trainieren des Modells.\n",
    "\n",
    "Achtung den nachfolgenden Block ausführen, falls kein kompiliertes Modell vorliegt."
   ]
  },
  {
   "cell_type": "code",
   "execution_count": 31,
   "id": "33d19fcf",
   "metadata": {},
   "outputs": [
    {
     "name": "stdout",
     "output_type": "stream",
     "text": [
      "Epoch 1/80\n",
      "2/2 [==============================] - 8s 5s/step - loss: 3.2588 - accuracy: 0.1333\n",
      "Epoch 2/80\n",
      "2/2 [==============================] - 6s 945ms/step - loss: 1.6619 - accuracy: 0.3333\n",
      "Epoch 3/80\n",
      "2/2 [==============================] - 7s 5s/step - loss: 1.0902 - accuracy: 0.3333\n",
      "Epoch 4/80\n",
      "2/2 [==============================] - 7s 5s/step - loss: 1.0932 - accuracy: 0.3333\n",
      "Epoch 5/80\n",
      "2/2 [==============================] - 7s 1s/step - loss: 1.0938 - accuracy: 0.3333\n",
      "Epoch 6/80\n",
      "2/2 [==============================] - 7s 975ms/step - loss: 1.0873 - accuracy: 0.3333\n",
      "Epoch 7/80\n",
      "2/2 [==============================] - 6s 955ms/step - loss: 1.0942 - accuracy: 0.3333\n",
      "Epoch 8/80\n",
      "2/2 [==============================] - 8s 6s/step - loss: 1.2526 - accuracy: 0.3333\n",
      "Epoch 9/80\n",
      "2/2 [==============================] - 7s 1s/step - loss: 1.2364 - accuracy: 0.3333\n",
      "Epoch 10/80\n",
      "2/2 [==============================] - 8s 6s/step - loss: 1.2237 - accuracy: 0.3333\n",
      "Epoch 11/80\n",
      "2/2 [==============================] - 8s 1s/step - loss: 1.2049 - accuracy: 0.3333\n",
      "Epoch 12/80\n",
      "2/2 [==============================] - 7s 1s/step - loss: 1.1390 - accuracy: 0.3333\n",
      "Epoch 13/80\n",
      "2/2 [==============================] - 7s 5s/step - loss: 1.1374 - accuracy: 0.3333\n",
      "Epoch 14/80\n",
      "2/2 [==============================] - 6s 940ms/step - loss: 1.1245 - accuracy: 0.3333\n",
      "Epoch 15/80\n",
      "2/2 [==============================] - 6s 913ms/step - loss: 1.0888 - accuracy: 0.3333\n",
      "Epoch 16/80\n",
      "2/2 [==============================] - 7s 5s/step - loss: 1.1229 - accuracy: 0.3333\n",
      "Epoch 17/80\n",
      "2/2 [==============================] - 7s 5s/step - loss: 1.1348 - accuracy: 0.3333\n",
      "Epoch 18/80\n",
      "2/2 [==============================] - 6s 920ms/step - loss: 1.1000 - accuracy: 0.3333\n",
      "Epoch 19/80\n",
      "2/2 [==============================] - 7s 5s/step - loss: 0.9981 - accuracy: 0.3333\n",
      "Epoch 20/80\n",
      "2/2 [==============================] - 7s 5s/step - loss: 0.9861 - accuracy: 0.3333\n",
      "Epoch 21/80\n",
      "2/2 [==============================] - 7s 5s/step - loss: 0.9834 - accuracy: 0.3333\n",
      "Epoch 22/80\n",
      "2/2 [==============================] - 7s 925ms/step - loss: 0.9778 - accuracy: 0.3329\n",
      "Epoch 23/80\n",
      "2/2 [==============================] - 7s 5s/step - loss: 0.9750 - accuracy: 0.3442\n",
      "Epoch 24/80\n",
      "2/2 [==============================] - 7s 5s/step - loss: 0.9898 - accuracy: 0.3537\n",
      "Epoch 25/80\n",
      "2/2 [==============================] - 7s 5s/step - loss: 0.9881 - accuracy: 0.3704\n",
      "Epoch 26/80\n",
      "2/2 [==============================] - 8s 1s/step - loss: 0.9746 - accuracy: 0.3817\n",
      "Epoch 27/80\n",
      "2/2 [==============================] - 7s 5s/step - loss: 0.9298 - accuracy: 0.4225\n",
      "Epoch 28/80\n",
      "2/2 [==============================] - 6s 945ms/step - loss: 0.9265 - accuracy: 0.4412\n",
      "Epoch 29/80\n",
      "2/2 [==============================] - 6s 975ms/step - loss: 0.9120 - accuracy: 0.4737\n",
      "Epoch 30/80\n",
      "2/2 [==============================] - 7s 1s/step - loss: 0.9073 - accuracy: 0.4950\n",
      "Epoch 31/80\n",
      "2/2 [==============================] - 7s 1s/step - loss: 0.9125 - accuracy: 0.4954\n",
      "Epoch 32/80\n",
      "2/2 [==============================] - 7s 5s/step - loss: 0.9654 - accuracy: 0.4688\n",
      "Epoch 33/80\n",
      "2/2 [==============================] - 7s 5s/step - loss: 1.0029 - accuracy: 0.4529\n",
      "Epoch 34/80\n",
      "2/2 [==============================] - 7s 5s/step - loss: 0.9732 - accuracy: 0.4700\n",
      "Epoch 35/80\n",
      "2/2 [==============================] - 7s 985ms/step - loss: 0.9495 - accuracy: 0.4913\n",
      "Epoch 36/80\n",
      "2/2 [==============================] - 6s 942ms/step - loss: 0.8980 - accuracy: 0.5583\n",
      "Epoch 37/80\n",
      "2/2 [==============================] - 6s 1s/step - loss: 0.8820 - accuracy: 0.6017\n",
      "Epoch 38/80\n",
      "2/2 [==============================] - 6s 1s/step - loss: 0.8723 - accuracy: 0.6150\n",
      "Epoch 39/80\n",
      "2/2 [==============================] - 6s 940ms/step - loss: 0.8692 - accuracy: 0.5979\n",
      "Epoch 40/80\n",
      "2/2 [==============================] - 7s 5s/step - loss: 0.9257 - accuracy: 0.5192\n",
      "Epoch 41/80\n",
      "2/2 [==============================] - 7s 5s/step - loss: 0.9865 - accuracy: 0.4721\n",
      "Epoch 42/80\n",
      "2/2 [==============================] - 7s 5s/step - loss: 0.9755 - accuracy: 0.4775\n",
      "Epoch 43/80\n",
      "2/2 [==============================] - 6s 951ms/step - loss: 0.9401 - accuracy: 0.5175\n",
      "Epoch 44/80\n",
      "2/2 [==============================] - 6s 924ms/step - loss: 0.8754 - accuracy: 0.5975\n",
      "Epoch 45/80\n",
      "2/2 [==============================] - 6s 934ms/step - loss: 0.8578 - accuracy: 0.6433\n",
      "Epoch 46/80\n",
      "2/2 [==============================] - 6s 920ms/step - loss: 0.8502 - accuracy: 0.6662\n",
      "Epoch 47/80\n",
      "2/2 [==============================] - 6s 935ms/step - loss: 0.8455 - accuracy: 0.6496\n",
      "Epoch 48/80\n",
      "2/2 [==============================] - 7s 5s/step - loss: 0.8901 - accuracy: 0.5717\n",
      "Epoch 49/80\n",
      "2/2 [==============================] - 7s 5s/step - loss: 0.9384 - accuracy: 0.5283\n",
      "Epoch 50/80\n",
      "2/2 [==============================] - 7s 5s/step - loss: 0.9453 - accuracy: 0.5329\n",
      "Epoch 51/80\n",
      "2/2 [==============================] - 6s 952ms/step - loss: 0.9141 - accuracy: 0.5592\n",
      "Epoch 52/80\n",
      "2/2 [==============================] - 7s 5s/step - loss: 0.8395 - accuracy: 0.6342\n",
      "Epoch 53/80\n",
      "2/2 [==============================] - 7s 5s/step - loss: 0.8311 - accuracy: 0.6517\n",
      "Epoch 54/80\n",
      "2/2 [==============================] - 7s 5s/step - loss: 0.8319 - accuracy: 0.6371\n",
      "Epoch 55/80\n",
      "2/2 [==============================] - 8s 6s/step - loss: 0.8351 - accuracy: 0.6308\n",
      "Epoch 56/80\n",
      "2/2 [==============================] - 6s 980ms/step - loss: 0.8275 - accuracy: 0.6308\n",
      "Epoch 57/80\n",
      "2/2 [==============================] - 6s 944ms/step - loss: 0.8159 - accuracy: 0.6454\n",
      "Epoch 58/80\n",
      "2/2 [==============================] - 7s 5s/step - loss: 0.8442 - accuracy: 0.6196\n",
      "Epoch 59/80\n",
      "2/2 [==============================] - 7s 5s/step - loss: 0.8698 - accuracy: 0.5875\n",
      "Epoch 60/80\n",
      "2/2 [==============================] - 8s 6s/step - loss: 0.8240 - accuracy: 0.6363\n",
      "Epoch 61/80\n",
      "2/2 [==============================] - 9s 6s/step - loss: 0.7843 - accuracy: 0.6717\n",
      "Epoch 62/80\n",
      "2/2 [==============================] - 8s 6s/step - loss: 0.7698 - accuracy: 0.6879\n",
      "Epoch 63/80\n",
      "2/2 [==============================] - 7s 6s/step - loss: 0.7781 - accuracy: 0.6858\n",
      "Epoch 64/80\n",
      "2/2 [==============================] - 6s 950ms/step - loss: 0.7751 - accuracy: 0.6896\n",
      "Epoch 65/80\n",
      "2/2 [==============================] - 6s 919ms/step - loss: 0.7414 - accuracy: 0.7013\n",
      "Epoch 66/80\n",
      "2/2 [==============================] - 7s 5s/step - loss: 0.8210 - accuracy: 0.6479\n",
      "Epoch 67/80\n",
      "2/2 [==============================] - 7s 5s/step - loss: 0.8197 - accuracy: 0.6450\n",
      "Epoch 68/80\n",
      "2/2 [==============================] - 7s 1s/step - loss: 0.7722 - accuracy: 0.6729\n",
      "Epoch 69/80\n",
      "2/2 [==============================] - 7s 1s/step - loss: 0.7203 - accuracy: 0.7029\n",
      "Epoch 70/80\n",
      "2/2 [==============================] - 7s 5s/step - loss: 0.7620 - accuracy: 0.6888\n",
      "Epoch 71/80\n",
      "2/2 [==============================] - 7s 1s/step - loss: 0.7552 - accuracy: 0.6896\n",
      "Epoch 72/80\n",
      "2/2 [==============================] - 7s 1s/step - loss: 0.7413 - accuracy: 0.6867\n",
      "Epoch 73/80\n",
      "2/2 [==============================] - 8s 1s/step - loss: 0.7257 - accuracy: 0.6883\n",
      "Epoch 74/80\n",
      "2/2 [==============================] - 8s 1s/step - loss: 0.7037 - accuracy: 0.7096\n",
      "Epoch 75/80\n",
      "2/2 [==============================] - 8s 6s/step - loss: 0.7518 - accuracy: 0.6817\n",
      "Epoch 76/80\n",
      "2/2 [==============================] - 8s 1s/step - loss: 0.7174 - accuracy: 0.6988\n",
      "Epoch 77/80\n",
      "2/2 [==============================] - 7s 946ms/step - loss: 0.6712 - accuracy: 0.7104\n",
      "Epoch 78/80\n",
      "2/2 [==============================] - 7s 5s/step - loss: 0.6929 - accuracy: 0.7075\n",
      "Epoch 79/80\n",
      "2/2 [==============================] - 7s 930ms/step - loss: 0.7120 - accuracy: 0.6917\n",
      "Epoch 80/80\n",
      "2/2 [==============================] - 6s 951ms/step - loss: 0.6702 - accuracy: 0.7212\n",
      "--- 555.9478874206543 seconds ---\n"
     ]
    }
   ],
   "source": [
    "start_time = time.time() # stoppen der Startzeit\n",
    "\n",
    "model.compile(optimizer='adam', \n",
    "                       loss='categorical_crossentropy', \n",
    "                       metrics=['accuracy'])\n",
    "\n",
    "history = model.fit(\n",
    "      train_generator,  \n",
    "      epochs=80,\n",
    "      verbose=1)\n",
    "\n",
    "print(\"--- %s seconds ---\" % (time.time() - start_time)) # printen der Dauer"
   ]
  },
  {
   "cell_type": "markdown",
   "id": "14be58b1",
   "metadata": {},
   "source": [
    "### Schritt 5.9: Speichern des Modells nur nach Training!\n",
    "\n",
    "Achtung model.save() nur einkommentieren und aufrufen, wenn das Modell trainiert wurde. Falls nicht einfach mit dem nächsten Schritt fortfahren."
   ]
  },
  {
   "cell_type": "code",
   "execution_count": 35,
   "id": "f28603a3",
   "metadata": {},
   "outputs": [],
   "source": [
    "#model.save('cnn_model_3.h5')"
   ]
  },
  {
   "cell_type": "markdown",
   "id": "73e98e6a",
   "metadata": {},
   "source": [
    "# Schritt 6: Kann ich dem Modell vertrauen?\n",
    "\n",
    "Stichworte: erklärbare künstliche Intelligenz, eXplainable Artificial Intelligence, XAI\n",
    "\n",
    "In diesem Abschnitt des Notebooks geht es darum, die Entscheidungen welche durch künstliche Intelligenzen getroffen werden nachvollziehbar zu machen. Als Beispiel könnte man an eine KI denken, welche in Aufnahmen von MRT Bildern nach bösartigen Tumoren sucht. Diese Entscheidung ist nicht trivial, weil es um die Gesundheit von Menschen geht. Auf der anderen Seite gibt es schon Anwendungen die Mediziner bei dieser Suche unterstützen.\n",
    "\n",
    "Um nun zu verstehen wieso in einem Bild, etwas erkannt wurde kann man XAI Methoden nutzen um die Bildpunkte einfärben zu lassen aufgrund derer das Modell eine Entscheidung getroffen hat."
   ]
  },
  {
   "cell_type": "code",
   "execution_count": 44,
   "id": "98299b2d",
   "metadata": {},
   "outputs": [
    {
     "name": "stderr",
     "output_type": "stream",
     "text": [
      "C:\\Users\\falko\\Desktop\\it-sommerfest\\.venv\\lib\\site-packages\\tqdm\\auto.py:21: TqdmWarning: IProgress not found. Please update jupyter and ipywidgets. See https://ipywidgets.readthedocs.io/en/stable/user_install.html\n",
      "  from .autonotebook import tqdm as notebook_tqdm\n"
     ]
    }
   ],
   "source": [
    "from lime import lime_image\n",
    "explainer = lime_image.LimeImageExplainer()"
   ]
  },
  {
   "cell_type": "code",
   "execution_count": 59,
   "id": "84db7056",
   "metadata": {},
   "outputs": [
    {
     "name": "stderr",
     "output_type": "stream",
     "text": [
      "\r",
      "  0%|                                                                                         | 0/1000 [00:00<?, ?it/s]"
     ]
    },
    {
     "name": "stdout",
     "output_type": "stream",
     "text": [
      "1/1 [==============================] - 0s 24ms/step\n",
      "1/1 [==============================] - 0s 23ms/step\n"
     ]
    },
    {
     "name": "stderr",
     "output_type": "stream",
     "text": [
      "\r",
      "  2%|█▌                                                                             | 20/1000 [00:00<00:05, 170.05it/s]"
     ]
    },
    {
     "name": "stdout",
     "output_type": "stream",
     "text": [
      "1/1 [==============================] - 0s 23ms/step\n",
      "1/1 [==============================] - 0s 22ms/step\n"
     ]
    },
    {
     "name": "stderr",
     "output_type": "stream",
     "text": [
      "\r",
      "  4%|███▏                                                                           | 40/1000 [00:00<00:05, 181.36it/s]"
     ]
    },
    {
     "name": "stdout",
     "output_type": "stream",
     "text": [
      "1/1 [==============================] - 0s 26ms/step\n",
      "1/1 [==============================] - 0s 26ms/step\n"
     ]
    },
    {
     "name": "stderr",
     "output_type": "stream",
     "text": [
      "\r",
      "  6%|████▋                                                                          | 60/1000 [00:00<00:05, 183.82it/s]"
     ]
    },
    {
     "name": "stdout",
     "output_type": "stream",
     "text": [
      "1/1 [==============================] - 0s 22ms/step\n",
      "1/1 [==============================] - 0s 21ms/step\n"
     ]
    },
    {
     "name": "stderr",
     "output_type": "stream",
     "text": [
      "\r",
      "  8%|██████▎                                                                        | 80/1000 [00:00<00:05, 183.13it/s]"
     ]
    },
    {
     "name": "stdout",
     "output_type": "stream",
     "text": [
      "1/1 [==============================] - 0s 26ms/step\n",
      "1/1 [==============================] - 0s 22ms/step\n"
     ]
    },
    {
     "name": "stderr",
     "output_type": "stream",
     "text": [
      "\r",
      " 10%|███████▊                                                                      | 100/1000 [00:00<00:04, 180.14it/s]"
     ]
    },
    {
     "name": "stdout",
     "output_type": "stream",
     "text": [
      "1/1 [==============================] - 0s 22ms/step\n",
      "1/1 [==============================] - 0s 22ms/step\n"
     ]
    },
    {
     "name": "stderr",
     "output_type": "stream",
     "text": [
      "\r",
      " 12%|█████████▎                                                                    | 120/1000 [00:00<00:04, 182.49it/s]"
     ]
    },
    {
     "name": "stdout",
     "output_type": "stream",
     "text": [
      "1/1 [==============================] - 0s 22ms/step\n",
      "1/1 [==============================] - 0s 21ms/step\n"
     ]
    },
    {
     "name": "stderr",
     "output_type": "stream",
     "text": [
      "\r",
      " 14%|██████████▉                                                                   | 140/1000 [00:00<00:04, 179.94it/s]"
     ]
    },
    {
     "name": "stdout",
     "output_type": "stream",
     "text": [
      "1/1 [==============================] - 0s 22ms/step\n",
      "1/1 [==============================] - 0s 21ms/step\n"
     ]
    },
    {
     "name": "stderr",
     "output_type": "stream",
     "text": [
      "\r",
      " 16%|████████████▍                                                                 | 160/1000 [00:00<00:04, 178.68it/s]"
     ]
    },
    {
     "name": "stdout",
     "output_type": "stream",
     "text": [
      "1/1 [==============================] - 0s 23ms/step\n",
      "1/1 [==============================] - 0s 23ms/step\n"
     ]
    },
    {
     "name": "stderr",
     "output_type": "stream",
     "text": [
      "\r",
      " 18%|██████████████                                                                | 180/1000 [00:01<00:04, 174.21it/s]"
     ]
    },
    {
     "name": "stdout",
     "output_type": "stream",
     "text": [
      "1/1 [==============================] - 0s 23ms/step\n",
      "1/1 [==============================] - 0s 22ms/step\n"
     ]
    },
    {
     "name": "stderr",
     "output_type": "stream",
     "text": [
      "\r",
      " 20%|███████████████▌                                                              | 200/1000 [00:01<00:04, 174.63it/s]"
     ]
    },
    {
     "name": "stdout",
     "output_type": "stream",
     "text": [
      "1/1 [==============================] - 0s 28ms/step\n",
      "1/1 [==============================] - 0s 23ms/step\n"
     ]
    },
    {
     "name": "stderr",
     "output_type": "stream",
     "text": [
      "\r",
      " 22%|█████████████████▏                                                            | 220/1000 [00:01<00:04, 173.84it/s]"
     ]
    },
    {
     "name": "stdout",
     "output_type": "stream",
     "text": [
      "1/1 [==============================] - 0s 26ms/step\n",
      "1/1 [==============================] - 0s 26ms/step\n"
     ]
    },
    {
     "name": "stderr",
     "output_type": "stream",
     "text": [
      "\r",
      " 24%|██████████████████▋                                                           | 240/1000 [00:01<00:04, 173.85it/s]"
     ]
    },
    {
     "name": "stdout",
     "output_type": "stream",
     "text": [
      "1/1 [==============================] - 0s 31ms/step\n",
      "1/1 [==============================] - 0s 21ms/step\n"
     ]
    },
    {
     "name": "stderr",
     "output_type": "stream",
     "text": [
      "\r",
      " 26%|████████████████████▎                                                         | 260/1000 [00:01<00:04, 172.14it/s]"
     ]
    },
    {
     "name": "stdout",
     "output_type": "stream",
     "text": [
      "1/1 [==============================] - 0s 22ms/step\n",
      "1/1 [==============================] - 0s 22ms/step\n"
     ]
    },
    {
     "name": "stderr",
     "output_type": "stream",
     "text": [
      "\r",
      " 28%|█████████████████████▊                                                        | 280/1000 [00:01<00:04, 172.45it/s]"
     ]
    },
    {
     "name": "stdout",
     "output_type": "stream",
     "text": [
      "1/1 [==============================] - 0s 25ms/step\n",
      "1/1 [==============================] - 0s 21ms/step\n"
     ]
    },
    {
     "name": "stderr",
     "output_type": "stream",
     "text": [
      "\r",
      " 30%|███████████████████████▍                                                      | 300/1000 [00:01<00:04, 172.66it/s]"
     ]
    },
    {
     "name": "stdout",
     "output_type": "stream",
     "text": [
      "1/1 [==============================] - 0s 21ms/step\n",
      "1/1 [==============================] - 0s 21ms/step\n"
     ]
    },
    {
     "name": "stderr",
     "output_type": "stream",
     "text": [
      "\r",
      " 32%|████████████████████████▉                                                     | 320/1000 [00:01<00:03, 177.55it/s]"
     ]
    },
    {
     "name": "stdout",
     "output_type": "stream",
     "text": [
      "1/1 [==============================] - 0s 26ms/step\n",
      "1/1 [==============================] - 0s 25ms/step\n"
     ]
    },
    {
     "name": "stderr",
     "output_type": "stream",
     "text": [
      "\r",
      " 34%|██████████████████████████▌                                                   | 340/1000 [00:01<00:03, 170.14it/s]"
     ]
    },
    {
     "name": "stdout",
     "output_type": "stream",
     "text": [
      "1/1 [==============================] - 0s 30ms/step\n",
      "1/1 [==============================] - 0s 27ms/step\n"
     ]
    },
    {
     "name": "stderr",
     "output_type": "stream",
     "text": [
      "\r",
      " 36%|████████████████████████████                                                  | 360/1000 [00:02<00:03, 161.04it/s]"
     ]
    },
    {
     "name": "stdout",
     "output_type": "stream",
     "text": [
      "1/1 [==============================] - 0s 27ms/step\n",
      "1/1 [==============================] - 0s 24ms/step\n"
     ]
    },
    {
     "name": "stderr",
     "output_type": "stream",
     "text": [
      "\r",
      " 38%|█████████████████████████████▋                                                | 380/1000 [00:02<00:03, 159.40it/s]"
     ]
    },
    {
     "name": "stdout",
     "output_type": "stream",
     "text": [
      "1/1 [==============================] - 0s 19ms/step\n",
      "1/1 [==============================] - 0s 22ms/step\n"
     ]
    },
    {
     "name": "stderr",
     "output_type": "stream",
     "text": [
      "\r",
      " 40%|███████████████████████████████▏                                              | 400/1000 [00:02<00:03, 160.79it/s]"
     ]
    },
    {
     "name": "stdout",
     "output_type": "stream",
     "text": [
      "1/1 [==============================] - 0s 24ms/step\n",
      "1/1 [==============================] - 0s 22ms/step\n"
     ]
    },
    {
     "name": "stderr",
     "output_type": "stream",
     "text": [
      "\r",
      " 42%|████████████████████████████████▉                                             | 422/1000 [00:02<00:03, 171.88it/s]"
     ]
    },
    {
     "name": "stdout",
     "output_type": "stream",
     "text": [
      "1/1 [==============================] - 0s 26ms/step\n",
      "1/1 [==============================] - 0s 28ms/step\n"
     ]
    },
    {
     "name": "stderr",
     "output_type": "stream",
     "text": [
      "\r",
      " 44%|██████████████████████████████████▎                                           | 440/1000 [00:02<00:03, 158.42it/s]"
     ]
    },
    {
     "name": "stdout",
     "output_type": "stream",
     "text": [
      "1/1 [==============================] - 0s 23ms/step\n",
      "1/1 [==============================] - 0s 22ms/step\n"
     ]
    },
    {
     "name": "stderr",
     "output_type": "stream",
     "text": [
      "\r",
      " 46%|███████████████████████████████████▉                                          | 460/1000 [00:02<00:03, 160.44it/s]"
     ]
    },
    {
     "name": "stdout",
     "output_type": "stream",
     "text": [
      "1/1 [==============================] - 0s 32ms/step\n",
      "1/1 [==============================] - 0s 22ms/step\n"
     ]
    },
    {
     "name": "stderr",
     "output_type": "stream",
     "text": [
      "\r",
      " 48%|█████████████████████████████████████▍                                        | 480/1000 [00:02<00:03, 166.63it/s]"
     ]
    },
    {
     "name": "stdout",
     "output_type": "stream",
     "text": [
      "1/1 [==============================] - 0s 27ms/step\n",
      "1/1 [==============================] - 0s 27ms/step\n"
     ]
    },
    {
     "name": "stderr",
     "output_type": "stream",
     "text": [
      "\r",
      " 50%|███████████████████████████████████████                                       | 500/1000 [00:02<00:02, 173.48it/s]"
     ]
    },
    {
     "name": "stdout",
     "output_type": "stream",
     "text": [
      "1/1 [==============================] - 0s 23ms/step\n",
      "1/1 [==============================] - 0s 26ms/step\n"
     ]
    },
    {
     "name": "stderr",
     "output_type": "stream",
     "text": [
      "\r",
      " 52%|████████████████████████████████████████▌                                     | 520/1000 [00:03<00:02, 179.00it/s]"
     ]
    },
    {
     "name": "stdout",
     "output_type": "stream",
     "text": [
      "1/1 [==============================] - 0s 21ms/step\n",
      "1/1 [==============================] - 0s 22ms/step\n"
     ]
    },
    {
     "name": "stderr",
     "output_type": "stream",
     "text": [
      "\r",
      " 54%|██████████████████████████████████████████                                    | 540/1000 [00:03<00:02, 179.00it/s]"
     ]
    },
    {
     "name": "stdout",
     "output_type": "stream",
     "text": [
      "1/1 [==============================] - 0s 23ms/step\n",
      "1/1 [==============================] - 0s 27ms/step\n"
     ]
    },
    {
     "name": "stderr",
     "output_type": "stream",
     "text": [
      "\r",
      " 56%|███████████████████████████████████████████▋                                  | 560/1000 [00:03<00:02, 182.39it/s]"
     ]
    },
    {
     "name": "stdout",
     "output_type": "stream",
     "text": [
      "1/1 [==============================] - 0s 22ms/step\n",
      "1/1 [==============================] - 0s 23ms/step\n"
     ]
    },
    {
     "name": "stderr",
     "output_type": "stream",
     "text": [
      "\r",
      " 58%|█████████████████████████████████████████████▏                                | 580/1000 [00:03<00:02, 186.96it/s]"
     ]
    },
    {
     "name": "stdout",
     "output_type": "stream",
     "text": [
      "1/1 [==============================] - 0s 19ms/step\n",
      "1/1 [==============================] - 0s 21ms/step\n"
     ]
    },
    {
     "name": "stderr",
     "output_type": "stream",
     "text": [
      "\r",
      " 60%|██████████████████████████████████████████████▊                               | 600/1000 [00:03<00:02, 190.67it/s]"
     ]
    },
    {
     "name": "stdout",
     "output_type": "stream",
     "text": [
      "1/1 [==============================] - 0s 21ms/step\n",
      "1/1 [==============================] - 0s 20ms/step\n"
     ]
    },
    {
     "name": "stderr",
     "output_type": "stream",
     "text": [
      "\r",
      " 62%|████████████████████████████████████████████████▎                             | 620/1000 [00:03<00:01, 191.91it/s]"
     ]
    },
    {
     "name": "stdout",
     "output_type": "stream",
     "text": [
      "1/1 [==============================] - 0s 20ms/step\n",
      "1/1 [==============================] - 0s 22ms/step\n"
     ]
    },
    {
     "name": "stderr",
     "output_type": "stream",
     "text": [
      "\r",
      " 64%|█████████████████████████████████████████████████▉                            | 640/1000 [00:03<00:01, 192.34it/s]"
     ]
    },
    {
     "name": "stdout",
     "output_type": "stream",
     "text": [
      "1/1 [==============================] - 0s 25ms/step\n",
      "1/1 [==============================] - 0s 29ms/step\n"
     ]
    },
    {
     "name": "stderr",
     "output_type": "stream",
     "text": [
      "\r",
      " 66%|███████████████████████████████████████████████████▍                          | 660/1000 [00:03<00:01, 190.83it/s]"
     ]
    },
    {
     "name": "stdout",
     "output_type": "stream",
     "text": [
      "1/1 [==============================] - 0s 32ms/step\n",
      "1/1 [==============================] - 0s 22ms/step\n"
     ]
    },
    {
     "name": "stderr",
     "output_type": "stream",
     "text": [
      "\r",
      " 68%|█████████████████████████████████████████████████████                         | 680/1000 [00:03<00:01, 192.50it/s]"
     ]
    },
    {
     "name": "stdout",
     "output_type": "stream",
     "text": [
      "1/1 [==============================] - 0s 21ms/step\n",
      "1/1 [==============================] - 0s 24ms/step\n",
      "1/1 [==============================] - 0s 25ms/step\n"
     ]
    },
    {
     "name": "stderr",
     "output_type": "stream",
     "text": [
      "\r",
      " 71%|███████████████████████████████████████████████████████▍                      | 710/1000 [00:03<00:01, 196.18it/s]"
     ]
    },
    {
     "name": "stdout",
     "output_type": "stream",
     "text": [
      "1/1 [==============================] - 0s 25ms/step\n",
      "1/1 [==============================] - 0s 30ms/step\n"
     ]
    },
    {
     "name": "stderr",
     "output_type": "stream",
     "text": [
      "\r",
      " 73%|█████████████████████████████████████████████████████████                     | 732/1000 [00:04<00:01, 202.53it/s]"
     ]
    },
    {
     "name": "stdout",
     "output_type": "stream",
     "text": [
      "1/1 [==============================] - 0s 30ms/step\n",
      "1/1 [==============================] - 0s 22ms/step\n",
      "1/1 [==============================] - 0s 26ms/step\n"
     ]
    },
    {
     "name": "stderr",
     "output_type": "stream",
     "text": [
      "\r",
      " 76%|███████████████████████████████████████████████████████████▎                  | 760/1000 [00:04<00:01, 198.65it/s]"
     ]
    },
    {
     "name": "stdout",
     "output_type": "stream",
     "text": [
      "1/1 [==============================] - 0s 27ms/step\n",
      "1/1 [==============================] - 0s 29ms/step\n"
     ]
    },
    {
     "name": "stderr",
     "output_type": "stream",
     "text": [
      "\r",
      " 78%|████████████████████████████████████████████████████████████▊                 | 780/1000 [00:04<00:01, 197.62it/s]"
     ]
    },
    {
     "name": "stdout",
     "output_type": "stream",
     "text": [
      "1/1 [==============================] - 0s 30ms/step\n",
      "1/1 [==============================] - 0s 21ms/step\n"
     ]
    },
    {
     "name": "stderr",
     "output_type": "stream",
     "text": [
      "\r",
      " 80%|██████████████████████████████████████████████████████████████▍               | 800/1000 [00:04<00:01, 193.36it/s]"
     ]
    },
    {
     "name": "stdout",
     "output_type": "stream",
     "text": [
      "1/1 [==============================] - 0s 20ms/step\n",
      "1/1 [==============================] - 0s 20ms/step\n"
     ]
    },
    {
     "name": "stderr",
     "output_type": "stream",
     "text": [
      "\r",
      " 82%|████████████████████████████████████████████████████████████████▎             | 824/1000 [00:04<00:00, 205.82it/s]"
     ]
    },
    {
     "name": "stdout",
     "output_type": "stream",
     "text": [
      "1/1 [==============================] - 0s 20ms/step\n",
      "1/1 [==============================] - 0s 20ms/step\n",
      "1/1 [==============================] - 0s 21ms/step\n"
     ]
    },
    {
     "name": "stderr",
     "output_type": "stream",
     "text": [
      "\r",
      " 85%|██████████████████████████████████████████████████████████████████▎           | 850/1000 [00:04<00:00, 194.62it/s]"
     ]
    },
    {
     "name": "stdout",
     "output_type": "stream",
     "text": [
      "1/1 [==============================] - 0s 20ms/step\n",
      "1/1 [==============================] - 0s 23ms/step\n"
     ]
    },
    {
     "name": "stderr",
     "output_type": "stream",
     "text": [
      "\r",
      " 88%|████████████████████████████████████████████████████████████████████▍         | 878/1000 [00:04<00:00, 216.35it/s]"
     ]
    },
    {
     "name": "stdout",
     "output_type": "stream",
     "text": [
      "1/1 [==============================] - 0s 20ms/step\n",
      "1/1 [==============================] - 0s 20ms/step\n",
      "1/1 [==============================] - 0s 21ms/step\n"
     ]
    },
    {
     "name": "stderr",
     "output_type": "stream",
     "text": [
      "\r",
      " 90%|██████████████████████████████████████████████████████████████████████▎       | 901/1000 [00:04<00:00, 194.35it/s]"
     ]
    },
    {
     "name": "stdout",
     "output_type": "stream",
     "text": [
      "1/1 [==============================] - 0s 20ms/step\n",
      "1/1 [==============================] - 0s 20ms/step\n"
     ]
    },
    {
     "name": "stderr",
     "output_type": "stream",
     "text": [
      "\r",
      " 93%|████████████████████████████████████████████████████████████████████████▏     | 926/1000 [00:05<00:00, 208.30it/s]"
     ]
    },
    {
     "name": "stdout",
     "output_type": "stream",
     "text": [
      "1/1 [==============================] - 0s 20ms/step\n",
      "1/1 [==============================] - 0s 22ms/step\n",
      "1/1 [==============================] - 0s 22ms/step\n"
     ]
    },
    {
     "name": "stderr",
     "output_type": "stream",
     "text": [
      "\r",
      " 95%|██████████████████████████████████████████████████████████████████████████    | 950/1000 [00:05<00:00, 193.05it/s]"
     ]
    },
    {
     "name": "stdout",
     "output_type": "stream",
     "text": [
      "1/1 [==============================] - 0s 25ms/step\n",
      "1/1 [==============================] - 0s 21ms/step\n"
     ]
    },
    {
     "name": "stderr",
     "output_type": "stream",
     "text": [
      "\r",
      " 98%|████████████████████████████████████████████████████████████████████████████  | 975/1000 [00:05<00:00, 207.07it/s]"
     ]
    },
    {
     "name": "stdout",
     "output_type": "stream",
     "text": [
      "1/1 [==============================] - 0s 22ms/step\n",
      "1/1 [==============================] - 0s 24ms/step\n"
     ]
    },
    {
     "name": "stderr",
     "output_type": "stream",
     "text": [
      "\r",
      "100%|█████████████████████████████████████████████████████████████████████████████▊| 997/1000 [00:05<00:00, 207.98it/s]"
     ]
    },
    {
     "name": "stdout",
     "output_type": "stream",
     "text": [
      "1/1 [==============================] - 0s 20ms/step\n"
     ]
    },
    {
     "name": "stderr",
     "output_type": "stream",
     "text": [
      "100%|█████████████████████████████████████████████████████████████████████████████| 1000/1000 [00:05<00:00, 183.44it/s]\n"
     ]
    }
   ],
   "source": [
    "explanation = explainer.explain_instance(images[0].astype('double'), \n",
    "                                         # casten der Array-Werte\n",
    "                                         model.predict,  \n",
    "                                         # übergabe der Referenz der VorhersageFunktion des CNN\n",
    "                                         top_labels=1, \n",
    "                                         # setzen des Parameters, welcher das Label mit der größten Wahrscheinlichkeit erklärt\n",
    "                                         hide_color=0,\n",
    "                                         # es werden nicht alle Pixel eingefärbt\n",
    "                                         num_samples=1000) \n",
    "                                         # Anzahl der modifizierten Insatnzen des Perturbation Verfahren"
   ]
  },
  {
   "cell_type": "code",
   "execution_count": 60,
   "id": "35c4e2b4",
   "metadata": {},
   "outputs": [
    {
     "data": {
      "image/png": "[encoded data removed]",
      "text/plain": [
       "<Figure size 1500x1500 with 2 Axes>"
      ]
     },
     "metadata": {},
     "output_type": "display_data"
    }
   ],
   "source": [
    "from skimage.segmentation import mark_boundaries\n",
    "\n",
    "temp_1, mask_1 = explanation.get_image_and_mask(explanation.top_labels[0], positive_only=True, num_features=5, hide_rest=True)\n",
    "temp_2, mask_2 = explanation.get_image_and_mask(explanation.top_labels[0], positive_only=False, num_features=10, hide_rest=False)\n",
    "\n",
    "fig, (ax1, ax2) = plt.subplots(1, 2, figsize=(15,15))\n",
    "ax1.imshow(mark_boundaries(temp_1, mask_1))\n",
    "ax2.imshow(mark_boundaries(temp_2, mask_2))\n",
    "ax1.axis('off')\n",
    "ax2.axis('off')\n",
    "\n",
    "plt.savefig('mask_default.png')"
   ]
  },
  {
   "cell_type": "markdown",
   "id": "f502c158",
   "metadata": {},
   "source": [
    "# Schlussfolgerung\n",
    "\n",
    "Bei maschinellen Lernverfahren handelt es sich um Ansätze, welche von Daten lernen und die Generalisierungen der Modelle kann fehlerhaft sein. Deshalb ist es wichtig, in kritischen Anwendungsfällen die Plausibilität einer KI zu überprüfen und sich nicht blind auf das Ergebnis zu verlassen.\n",
    "\n",
    "Vielen Dank für Ihr Interesse."
   ]
  },
  {
   "cell_type": "code",
   "execution_count": null,
   "id": "be4c0001",
   "metadata": {},
   "outputs": [],
   "source": []
  }
 ],
 "metadata": {
  "kernelspec": {
   "display_name": "Python 3 (ipykernel)",
   "language": "python",
   "name": "python3"
  },
  "language_info": {
   "codemirror_mode": {
    "name": "ipython",
    "version": 3
   },
   "file_extension": ".py",
   "mimetype": "text/x-python",
   "name": "python",
   "nbconvert_exporter": "python",
   "pygments_lexer": "ipython3",
   "version": "3.10.11"
  }
 },
 "nbformat": 4,
 "nbformat_minor": 5
}
