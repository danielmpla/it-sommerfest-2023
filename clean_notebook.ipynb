{
 "cells": [
  {
   "cell_type": "markdown",
   "id": "bf871790",
   "metadata": {},
   "source": [
    "# Machine Learning Notebook für das IT Sommerfest 2023\n",
    "\n",
    "In diesem Jupyter Notebook werden alle Grundlagen wiederholt und anhand von Tensorflow demonstriert.\n",
    "\n",
    "## Schritt 1: Aufsetzen der Umgebung für das maschinelle Lernmodell"
   ]
  },
  {
   "cell_type": "markdown",
   "id": "a7c95af3",
   "metadata": {},
   "source": [
    "### Schritt 1.1: Wichtige Bibliotheken importieren, Umgebung vorbereiten\n",
    "\n",
    "Hier werden alle Bibliotheken kurz beschrieben. Numpy ist eine Python-Bibliothek, die Operationen mit Matrizen und Arrays unterstützt, mehr dazu unter https://www.w3schools.com/python/numpy/numpy_intro.asp. Mit den Funktionen der Matplotlib können Grafiken und Funktionsdarstellungen erstellt werden https://www.w3schools.com/python/matplotlib_intro.asp. Das Modul os ermöglicht den Aufruf von Systemfunktionen aus Python heraus, mehr dazu hier https://docs.python.org/3/library/os.html. Mit der time Bibliothek kann man z.B. die Ausführungszeit eines Programms messen https://docs.python.org/3/library/time.html."
   ]
  },
  {
   "cell_type": "code",
   "execution_count": 20,
   "id": "ee7d3378",
   "metadata": {},
   "outputs": [],
   "source": [
    "import numpy as np\n",
    "import matplotlib.pyplot as plt\n",
    "import matplotlib.image as mpimg\n",
    "import os\n",
    "import time"
   ]
  },
  {
   "cell_type": "markdown",
   "id": "57c562e2",
   "metadata": {},
   "source": [
    "### Schritt 1.2: Importieren der TensorFlow-Bibliothek\n",
    "\n",
    "TensorFlow ist ein Framework zur Erstellung maschineller Lernmodelle. Mit TensorFlow können neuronale Netze einfach definiert und trainiert werden."
   ]
  },
  {
   "cell_type": "code",
   "execution_count": 21,
   "id": "811c31bf",
   "metadata": {},
   "outputs": [],
   "source": [
    "import tensorflow as tf\n",
    "from tensorflow.keras.layers import Conv2D, MaxPooling2D, Flatten, Dense, Dropout\n",
    "from tensorflow.keras.models import Sequential\n",
    "from tensorflow.keras.optimizers import Adam, RMSprop, SGD\n",
    "from tensorflow.keras.preprocessing.image import ImageDataGenerator,DirectoryIterator\n",
    "from tensorflow.keras.datasets import mnist\n",
    "from tensorflow.keras.utils import to_categorical, plot_model"
   ]
  },
  {
   "cell_type": "markdown",
   "id": "b17cb2dc",
   "metadata": {},
   "source": [
    "## Schritt 2: Vorbereitung der Daten\n",
    "\n",
    "In diesem Schritt werden geeignete Daten für das Lernen gesucht, bereitgestellt und in die Umgebung geladen."
   ]
  },
  {
   "cell_type": "markdown",
   "id": "c793a712",
   "metadata": {},
   "source": [
    "### Schritt 2.1: Finden eines geeigneten Datensatzes\n",
    "\n",
    "Um aus den Daten Muster zu erkennen oder zu lernen, kann es notwendig sein, die Struktur oder Form der Daten zu verändern, um sie besser weiterverarbeiten zu können. Als Grundlage dient der Datensatz Katze, Hund und Panda von Kaggle: https://www.kaggle.com/datasets/ashishsaxena2209/animal-image-datasetdog-cat-and-panda. \n",
    "\n",
    "Unter https://www.kaggle.com/ gibt es viele weitere Datensätze zum Ausprobieren und Verstehen von Machine Learning Ansätzen.\n",
    "\n",
    "Die Daten des cat-dog-panda Datensatzes wurden heruntergeladen und auf der Festplatte C: gespeichert."
   ]
  },
  {
   "cell_type": "markdown",
   "id": "e27c01ad",
   "metadata": {},
   "source": [
    "### Schritt 2.2: Setzen der Pfadvariablen, in der die Bilddaten liegen\n",
    "\n",
    "Mit der Definition dieser Variablen weiß das System, wo sich die Daten befinden und kann auf sie zugreifen."
   ]
  },
  {
   "cell_type": "code",
   "execution_count": 3,
   "id": "20e20888",
   "metadata": {},
   "outputs": [],
   "source": [
    "dir_ = os.path.join('Cat Dog Panda/')"
   ]
  },
  {
   "cell_type": "markdown",
   "id": "f4e4a4b2",
   "metadata": {},
   "source": [
    "### Schritt 2.3: Aufteilung des Datensatzes in einen Trainings- und einen Testteil.\n",
    "\n",
    "Hier wird die Skalierung und Aufteilung des Datensatzes festgelegt und ein Objekt erzeugt, mit dem später weitergearbeitet wird. Mit der Skalierung werden die Bilder etwas verkleinert, damit der Computer sie besser verarbeiten kann. Mit dem Parameter \"validation_split\" kann das Verhältnis von Trainingsdaten zu Testdaten festgelegt werden, d.h. 0.8 also 80% aller Bilder werden zum Üben (Trainieren) der KI verwendet. Die restlichen 0.2, also 20%, werden für den Trainingsdatensatz verwendet, um die Leistungsfähigkeit (Genauigkeit) der KI (des Vorhersagemodells) zu überprüfen."
   ]
  },
  {
   "cell_type": "code",
   "execution_count": 4,
   "id": "eb750e30",
   "metadata": {},
   "outputs": [],
   "source": [
    "train_datagen = ImageDataGenerator(rescale=1/255, # Skallierungsfaktor\n",
    "                                  validation_split = 0.2) # prozentualer Wert wie viele Daten, Testdaten sind"
   ]
  },
  {
   "cell_type": "markdown",
   "id": "d4ac2793",
   "metadata": {},
   "source": [
    "### Schritt 2.4: Vorbereitung des Testdatensatzes\n",
    "\n",
    "In ''train_genrator'' sind die Bilder für das Training enthalten. Die Bilder haben eine definierte Größe von 100 x 100 Bildpunkten (Pixel). Die ''batch_size'' ist die Anzahl der Bilder, die das Modell durchlaufen muss, bevor es aktualisiert wird. Um mehr über die ''batch_size'' zu erfahren, gibt es unter dem Link: https://machinelearningmastery.com/difference-between-a-batch-and-an-epoch/#:~:text=The%20batch%20size%20is%20a%20number%20of%20samples%20processed%20before,samples%20in%20the%20training%20dataset weitere Informationen. Die Variable ''class_mode'' beschreibt die Art des maschinellen Lernproblems, d.h. es handelt sich um eine kategorische Einteilung in Klassen, wie z.B. ''gut'' und ''schlecht'' oder ''Spam'' und ''kein Spam''. Die Variable \"shuffle\" gibt an, dass die Bilder nicht neu gemischt werden. Zum Schluss wird nur noch der Bezeichner für den Datensatz gesetzt. Da es sich bei dem Datensatz um die Trainingsdaten handelt, wird als Bezeichner ''training'' gewählt."
   ]
  },
  {
   "cell_type": "code",
   "execution_count": 5,
   "id": "7345469d",
   "metadata": {},
   "outputs": [
    {
     "name": "stdout",
     "output_type": "stream",
     "text": [
      "Found 2400 images belonging to 3 classes.\n"
     ]
    }
   ],
   "source": [
    "train_generator = train_datagen.flow_from_directory(dir_,target_size=(100, 100), # Größe der Eingabedaten (Bilder)\n",
    "                                                   batch_size= 1920,\n",
    "                                                   class_mode='categorical', # Beschreibung eines Klassifikationsproblemes\n",
    "                                                   shuffle=False, # ohne Mischen\n",
    "                                                   subset = 'training') # Labeln als Trainingssatz"
   ]
  },
  {
   "cell_type": "markdown",
   "id": "3dbb010f",
   "metadata": {},
   "source": [
    "### Schritt 2.5: Erstellen des Testdatensatzes\n",
    "\n",
    "Analog zum obigen Beispiel wird der Testdatensatz definiert. Hier ist zu beachten, dass die ''batch_size'' kleiner ist, da es auch weniger Testdaten gibt, nämlich nur 1/5 der Daten und das ''subset'' wird als ''validation'' bezeichnet."
   ]
  },
  {
   "cell_type": "code",
   "execution_count": 6,
   "id": "c8f0f781",
   "metadata": {},
   "outputs": [
    {
     "name": "stdout",
     "output_type": "stream",
     "text": [
      "Found 600 images belonging to 3 classes.\n"
     ]
    }
   ],
   "source": [
    "test_generator = train_datagen.flow_from_directory(dir_,\n",
    "                                                          target_size = (100,100), # Größe der Eingabedaten (Bilder)\n",
    "                                                          batch_size = 480,\n",
    "                                                          class_mode = 'categorical', # Klassifikationsproblem\n",
    "                                                          shuffle=False, # ohne Mischen\n",
    "                                                          subset = 'validation') # Definition als Testdatensatz"
   ]
  },
  {
   "cell_type": "markdown",
   "id": "58cbb8f3",
   "metadata": {},
   "source": [
    "### Schritt 2.6: Trennung der Label (Klassenbezeichner) und der Merkmale des Trainingsdatensatzes\n",
    "\n",
    "In diesem Schritt werden die Bilder und ihre Bezeichner (Klassen oder auch Label) voneinander getrennt. Das bedeutet, dass die Variable ''x_train'' eine Liste aller Bilder enthält. In ''y_train'' ist die Information gespeichert, was in einem Bild zu sehen ist.\n",
    "\n",
    "Nimmt man das erste Bild aus ''x_train'', so erhält man eine für den Computer verständliche Darstellung des Bildes. Betrachtet man den ersten Eintrag von ''y_train'', so sieht man, was in dem Bild zu sehen ist, z.B. ein Pandabär."
   ]
  },
  {
   "cell_type": "code",
   "execution_count": 7,
   "id": "4ec987b9",
   "metadata": {},
   "outputs": [],
   "source": [
    "x_train, y_train = next(train_generator)"
   ]
  },
  {
   "cell_type": "markdown",
   "id": "cfc197a8",
   "metadata": {},
   "source": [
    "### Schritt 2.7: Trennung der Labels (Klassenbezeichner) und der Merkmale des Testdatensatzes\n",
    "\n",
    "Analog zur Trennung der Bilder und Labels wird mit den Testdaten verfahren."
   ]
  },
  {
   "cell_type": "code",
   "execution_count": 8,
   "id": "db9f097f",
   "metadata": {},
   "outputs": [],
   "source": [
    "x_test, y_test  = next(test_generator)"
   ]
  },
  {
   "cell_type": "markdown",
   "id": "dd29afe0",
   "metadata": {},
   "source": [
    "### Schritt 2.8: Pfadtrennzeichen ersetzen (betriebssystemabhängig)\n",
    "\n",
    "Diese Einstellung ist betriebssystemabhängig und muss auf einem Windows-Rechner vorgenommen werden."
   ]
  },
  {
   "cell_type": "code",
   "execution_count": 9,
   "id": "b71fd6ee",
   "metadata": {},
   "outputs": [],
   "source": [
    "test_filepath = []\n",
    "for filepath in test_generator.filepaths:\n",
    "    filepath = filepath.replace('\\\\', '/')\n",
    "    test_filepath.append(filepath)"
   ]
  },
  {
   "cell_type": "markdown",
   "id": "ed578c64",
   "metadata": {},
   "source": [
    "## Schritt 3: Erstellen eines primitiven Multilayer Perceptrons (MLP)\n",
    "\n",
    "In diesem Schritt werden alle Einstellungen zur Erstellung der künstlichen Intelligenz (KI, Vorhersagemodell) vorgenommen.\n",
    "\n",
    "Quellen:\n",
    "- http://www.informatik.uni-ulm.de/ni/Lehre/WS04/ProSemNN/pdf/MLP.pdf \n",
    "- https://ml.informatik.uni-freiburg.de/former/_media/teaching/ss13/ml/sperschneider/12mlp_theorie.pdf\n",
    "- https://de.wikipedia.org/wiki/Perzeptron "
   ]
  },
  {
   "cell_type": "markdown",
   "id": "6a1558ec",
   "metadata": {},
   "source": [
    "### Schritt 3.1: Erstellen der Architektur eines MLPs\n",
    "\n",
    "Hier wird festgelegt, welche Schichten und wie viele Neuronen eine Schicht haben soll. Außerdem werden die Eingabe- und die Ausgabeschicht definiert."
   ]
  },
  {
   "cell_type": "code",
   "execution_count": 10,
   "id": "371927d6",
   "metadata": {},
   "outputs": [],
   "source": [
    "model_primitiv = Sequential([\n",
    "    tf.keras.layers.Flatten(input_shape=(100, 100,3)),\n",
    "    tf.keras.layers.Dense(128, activation='relu'),\n",
    "    tf.keras.layers.Dense(128, activation='relu'),\n",
    "    tf.keras.layers.Dense(128, activation='relu'),\n",
    "    tf.keras.layers.Dropout(0.2),\n",
    "    tf.keras.layers.Dense(3, activation='softmax')\n",
    "])"
   ]
  },
  {
   "cell_type": "markdown",
   "id": "13969c07",
   "metadata": {},
   "source": [
    "### Schritt 3.2: Training eines MLPs\n",
    "\n",
    "Hier wird endlich trainiert und die Trainingszeit gemessen. Zu Beginn werden noch einige Kompilierungsoptionen gesetzt. Als erstes wird der Optimierungsalgorithmus ''adam'' ausgewählt, dieser kombiniert mehrere effiziente Ansätze zur Anpassung der Gewichte https://deepai.org/machine-learning-glossary-and-terms/adam-machine-learning. Als nächstes wird die Verlustfunktion definiert, im Beispiel wird die Funktion ''categorical_crossentropy'' verwendet. Im Allgemeinen berechnet eine Verlustfunktion die Differenz zwischen der Modellvorhersage und dem tatsächlichen Etikett. Mehr über diese Verlustfunktion kann hier nachgelesen werden: https://gombru.github.io/2018/05/23/cross_entropy_loss/. Schließlich wird die Genauigkeit des Trainingsmodells nach jedem Trainingslauf angegeben https://developers.google.com/machine-learning/crash-course/classification/accuracy?hl=de. \n",
    "\n",
    "Die ''fit()'' Funktion trainiert das Vorhersagemodell, indem die Gewichte des neuronalen Netzes angepasst werden. Der ''train_generator'' enthält die Trainingsdaten, die Anzahl der Epochen beschreibt, wie viele vollständige Trainingsläufe durchgeführt werden. In einer Epoche werden alle Bilder in den Trainingsdaten einmal durchlaufen und bei jeder Vorhersage werden die Gewichte angepasst. Der Wert in \"verbose\" erzeugt die Ausgabe der Fit-Funktion."
   ]
  },
  {
   "cell_type": "code",
   "execution_count": 11,
   "id": "b1eebc61",
   "metadata": {},
   "outputs": [
    {
     "name": "stdout",
     "output_type": "stream",
     "text": [
      "Epoch 1/80\n",
      "2/2 [==============================] - 3s 2s/step - loss: 6.1199 - accuracy: 0.1621\n",
      "Epoch 2/80\n",
      "2/2 [==============================] - 3s 2s/step - loss: 5.8794 - accuracy: 0.2929\n",
      "Epoch 3/80\n",
      "2/2 [==============================] - 3s 924ms/step - loss: 5.7129 - accuracy: 0.3158\n",
      "Epoch 4/80\n",
      "2/2 [==============================] - 3s 2s/step - loss: 7.8383 - accuracy: 0.2742\n",
      "Epoch 5/80\n",
      "2/2 [==============================] - 3s 2s/step - loss: 6.7014 - accuracy: 0.3371\n",
      "Epoch 6/80\n",
      "2/2 [==============================] - 3s 2s/step - loss: 3.6865 - accuracy: 0.3796\n",
      "Epoch 7/80\n",
      "2/2 [==============================] - 3s 2s/step - loss: 3.0082 - accuracy: 0.3517\n",
      "Epoch 8/80\n",
      "2/2 [==============================] - 3s 910ms/step - loss: 2.5707 - accuracy: 0.3600\n",
      "Epoch 9/80\n",
      "2/2 [==============================] - 3s 1s/step - loss: 2.1491 - accuracy: 0.4208\n",
      "Epoch 10/80\n",
      "2/2 [==============================] - 3s 1000ms/step - loss: 2.8851 - accuracy: 0.3683\n",
      "Epoch 11/80\n",
      "2/2 [==============================] - 3s 2s/step - loss: 2.6863 - accuracy: 0.3633\n",
      "Epoch 12/80\n",
      "2/2 [==============================] - 3s 887ms/step - loss: 2.1333 - accuracy: 0.3787\n",
      "Epoch 13/80\n",
      "2/2 [==============================] - 3s 2s/step - loss: 1.7459 - accuracy: 0.4204\n",
      "Epoch 14/80\n",
      "2/2 [==============================] - 3s 2s/step - loss: 2.0318 - accuracy: 0.4137\n",
      "Epoch 15/80\n",
      "2/2 [==============================] - 3s 2s/step - loss: 1.9383 - accuracy: 0.4383\n",
      "Epoch 16/80\n",
      "2/2 [==============================] - 3s 884ms/step - loss: 1.6205 - accuracy: 0.4313\n",
      "Epoch 17/80\n",
      "2/2 [==============================] - 3s 2s/step - loss: 1.2850 - accuracy: 0.4600\n",
      "Epoch 18/80\n",
      "2/2 [==============================] - 3s 2s/step - loss: 1.6679 - accuracy: 0.4321\n",
      "Epoch 19/80\n",
      "2/2 [==============================] - 3s 2s/step - loss: 1.5616 - accuracy: 0.4525\n",
      "Epoch 20/80\n",
      "2/2 [==============================] - 3s 2s/step - loss: 1.1326 - accuracy: 0.5192\n",
      "Epoch 21/80\n",
      "2/2 [==============================] - 3s 2s/step - loss: 1.0461 - accuracy: 0.5192\n",
      "Epoch 22/80\n",
      "2/2 [==============================] - 3s 2s/step - loss: 1.1525 - accuracy: 0.4671\n",
      "Epoch 23/80\n",
      "2/2 [==============================] - 3s 2s/step - loss: 1.2287 - accuracy: 0.4492\n",
      "Epoch 24/80\n",
      "2/2 [==============================] - 3s 883ms/step - loss: 1.1320 - accuracy: 0.4571\n",
      "Epoch 25/80\n",
      "2/2 [==============================] - 3s 966ms/step - loss: 0.9794 - accuracy: 0.5104\n",
      "Epoch 26/80\n",
      "2/2 [==============================] - 3s 973ms/step - loss: 0.9259 - accuracy: 0.5487\n",
      "Epoch 27/80\n",
      "2/2 [==============================] - 3s 904ms/step - loss: 0.9614 - accuracy: 0.5279\n",
      "Epoch 28/80\n",
      "2/2 [==============================] - 3s 887ms/step - loss: 1.1094 - accuracy: 0.4787\n",
      "Epoch 29/80\n",
      "2/2 [==============================] - 3s 939ms/step - loss: 1.1025 - accuracy: 0.4783\n",
      "Epoch 30/80\n",
      "2/2 [==============================] - 3s 873ms/step - loss: 1.0203 - accuracy: 0.4904\n",
      "Epoch 31/80\n",
      "2/2 [==============================] - 3s 901ms/step - loss: 0.9414 - accuracy: 0.5275\n",
      "Epoch 32/80\n",
      "2/2 [==============================] - 3s 2s/step - loss: 1.0565 - accuracy: 0.5104\n",
      "Epoch 33/80\n",
      "2/2 [==============================] - 3s 2s/step - loss: 1.1076 - accuracy: 0.4758\n",
      "Epoch 34/80\n",
      "2/2 [==============================] - 3s 2s/step - loss: 1.0040 - accuracy: 0.5129\n",
      "Epoch 35/80\n",
      "2/2 [==============================] - 3s 891ms/step - loss: 0.9688 - accuracy: 0.5154\n",
      "Epoch 36/80\n",
      "2/2 [==============================] - 3s 901ms/step - loss: 0.9113 - accuracy: 0.5562\n",
      "Epoch 37/80\n",
      "2/2 [==============================] - 3s 2s/step - loss: 1.0340 - accuracy: 0.5046\n",
      "Epoch 38/80\n",
      "2/2 [==============================] - 3s 896ms/step - loss: 1.0293 - accuracy: 0.5121\n",
      "Epoch 39/80\n",
      "2/2 [==============================] - 3s 883ms/step - loss: 0.9624 - accuracy: 0.5346\n",
      "Epoch 40/80\n",
      "2/2 [==============================] - 3s 878ms/step - loss: 0.9485 - accuracy: 0.5333\n",
      "Epoch 41/80\n",
      "2/2 [==============================] - 3s 912ms/step - loss: 0.9123 - accuracy: 0.5408\n",
      "Epoch 42/80\n",
      "2/2 [==============================] - 3s 872ms/step - loss: 0.9462 - accuracy: 0.5521\n",
      "Epoch 43/80\n",
      "2/2 [==============================] - 3s 2s/step - loss: 1.2245 - accuracy: 0.4542\n",
      "Epoch 44/80\n",
      "2/2 [==============================] - 3s 897ms/step - loss: 1.0785 - accuracy: 0.4717\n",
      "Epoch 45/80\n",
      "2/2 [==============================] - 3s 904ms/step - loss: 0.9394 - accuracy: 0.5354\n",
      "Epoch 46/80\n",
      "2/2 [==============================] - 3s 979ms/step - loss: 0.8989 - accuracy: 0.5546\n",
      "Epoch 47/80\n",
      "2/2 [==============================] - 3s 2s/step - loss: 1.0805 - accuracy: 0.4533\n",
      "Epoch 48/80\n",
      "2/2 [==============================] - 3s 886ms/step - loss: 1.0936 - accuracy: 0.4546\n",
      "Epoch 49/80\n",
      "2/2 [==============================] - 3s 2s/step - loss: 1.0899 - accuracy: 0.4954\n",
      "Epoch 50/80\n",
      "2/2 [==============================] - 3s 902ms/step - loss: 1.0078 - accuracy: 0.5175\n",
      "Epoch 51/80\n",
      "2/2 [==============================] - 3s 2s/step - loss: 0.8708 - accuracy: 0.5629\n",
      "Epoch 52/80\n",
      "2/2 [==============================] - 3s 2s/step - loss: 0.9426 - accuracy: 0.5504\n",
      "Epoch 53/80\n",
      "2/2 [==============================] - 3s 2s/step - loss: 1.0207 - accuracy: 0.5167\n",
      "Epoch 54/80\n",
      "2/2 [==============================] - 3s 2s/step - loss: 0.9724 - accuracy: 0.5433\n",
      "Epoch 55/80\n",
      "2/2 [==============================] - 3s 881ms/step - loss: 0.9279 - accuracy: 0.5533\n",
      "Epoch 56/80\n",
      "2/2 [==============================] - 3s 878ms/step - loss: 0.8483 - accuracy: 0.5962\n",
      "Epoch 57/80\n",
      "2/2 [==============================] - 3s 2s/step - loss: 0.9552 - accuracy: 0.5467\n",
      "Epoch 58/80\n",
      "2/2 [==============================] - 3s 883ms/step - loss: 0.9636 - accuracy: 0.5408\n",
      "Epoch 59/80\n",
      "2/2 [==============================] - 3s 2s/step - loss: 0.9733 - accuracy: 0.5300\n",
      "Epoch 60/80\n",
      "2/2 [==============================] - 3s 2s/step - loss: 0.9811 - accuracy: 0.5250\n",
      "Epoch 61/80\n",
      "2/2 [==============================] - 3s 888ms/step - loss: 0.9476 - accuracy: 0.5296\n",
      "Epoch 62/80\n",
      "2/2 [==============================] - 3s 892ms/step - loss: 0.8863 - accuracy: 0.5592\n",
      "Epoch 63/80\n",
      "2/2 [==============================] - 3s 881ms/step - loss: 0.8522 - accuracy: 0.5808\n",
      "Epoch 64/80\n",
      "2/2 [==============================] - 3s 879ms/step - loss: 0.8851 - accuracy: 0.5821\n",
      "Epoch 65/80\n",
      "2/2 [==============================] - 3s 2s/step - loss: 1.2263 - accuracy: 0.4650\n",
      "Epoch 66/80\n",
      "2/2 [==============================] - 3s 903ms/step - loss: 1.0508 - accuracy: 0.5158\n",
      "Epoch 67/80\n",
      "2/2 [==============================] - 3s 989ms/step - loss: 0.8960 - accuracy: 0.5371\n",
      "Epoch 68/80\n",
      "2/2 [==============================] - 3s 2s/step - loss: 0.9597 - accuracy: 0.4925\n",
      "Epoch 69/80\n",
      "2/2 [==============================] - 3s 926ms/step - loss: 0.9450 - accuracy: 0.5117\n",
      "Epoch 70/80\n",
      "2/2 [==============================] - 3s 904ms/step - loss: 0.9513 - accuracy: 0.5196\n",
      "Epoch 71/80\n",
      "2/2 [==============================] - 3s 881ms/step - loss: 1.0145 - accuracy: 0.5121\n",
      "Epoch 72/80\n",
      "2/2 [==============================] - 3s 2s/step - loss: 1.1399 - accuracy: 0.4867\n",
      "Epoch 73/80\n",
      "2/2 [==============================] - 3s 2s/step - loss: 0.9194 - accuracy: 0.5562\n",
      "Epoch 74/80\n",
      "2/2 [==============================] - 3s 2s/step - loss: 0.8729 - accuracy: 0.5621\n",
      "Epoch 75/80\n",
      "2/2 [==============================] - 3s 2s/step - loss: 0.8806 - accuracy: 0.5771\n",
      "Epoch 76/80\n",
      "2/2 [==============================] - 3s 884ms/step - loss: 0.8680 - accuracy: 0.5888\n",
      "Epoch 77/80\n",
      "2/2 [==============================] - 3s 2s/step - loss: 1.0446 - accuracy: 0.5304\n",
      "Epoch 78/80\n",
      "2/2 [==============================] - 3s 886ms/step - loss: 0.9866 - accuracy: 0.5454\n",
      "Epoch 79/80\n",
      "2/2 [==============================] - 3s 931ms/step - loss: 0.8509 - accuracy: 0.5992\n",
      "Epoch 80/80\n",
      "2/2 [==============================] - 3s 2s/step - loss: 0.9103 - accuracy: 0.5825\n",
      "--- 222.24569129943848 seconds ---\n"
     ]
    }
   ],
   "source": [
    "start_time = time.time() # stoppen der Startzeit\n",
    "\n",
    "model_primitiv.compile(optimizer='adam', \n",
    "                       loss='categorical_crossentropy', \n",
    "                       metrics=['accuracy'])\n",
    "\n",
    "history = model_primitiv.fit(\n",
    "      train_generator,  \n",
    "      epochs=80,\n",
    "      verbose=1)\n",
    "\n",
    "print(\"--- %s seconds ---\" % (time.time() - start_time)) # printen der Dauer"
   ]
  },
  {
   "cell_type": "code",
   "execution_count": 13,
   "id": "478e15d6",
   "metadata": {},
   "outputs": [],
   "source": [
    "#model_primitiv.save('simple_MLP.h5')"
   ]
  },
  {
   "cell_type": "markdown",
   "id": "215d73a1",
   "metadata": {},
   "source": [
    "### Schritt 3.3: Testvorhersage eines beliebigen Bildes\n",
    "\n",
    "Im folgenden Codebeispiel kann man das vorgegebene Bild von der KI vorhersagen lassen oder sich ein eigenes Bildbeispiel aus dem Web suchen. Zuerst müssen die Bibliotheken für die Bildverarbeitung in die Umgebung geladen werden."
   ]
  },
  {
   "cell_type": "code",
   "execution_count": 14,
   "id": "53a7606d",
   "metadata": {},
   "outputs": [],
   "source": [
    "import skimage.io\n",
    "from skimage import transform\n",
    "from tensorflow.keras.preprocessing import image"
   ]
  },
  {
   "cell_type": "markdown",
   "id": "70a8db6d",
   "metadata": {},
   "source": [
    "### Schritt 3.4: Testbild suchen\n",
    "\n",
    "Im Folgenden wird die URL zu diesem Testbild in der Variablen ''url_'' gespeichert. Um was für ein Bild handelt es sich? Ersetze abcd durch das Tier, das auf https://raw.githubusercontent.com/marcellusruben/All_things_medium/main/Lime/panda_00024.jpg zu sehen ist.\n",
    "\n",
    "- abcd"
   ]
  },
  {
   "cell_type": "code",
   "execution_count": 15,
   "id": "972897ad",
   "metadata": {},
   "outputs": [],
   "source": [
    "#old: https://raw.githubusercontent.com/marcellusruben/All_things_medium/main/Lime/panda_00024.jpg\n",
    "# dog: https://www.dasgesundetier.de/magazin/gfx/article/hund_verdauung.jpg\n",
    "url_ = 'https://raw.githubusercontent.com/marcellusruben/All_things_medium/main/Lime/panda_00024.jpg'"
   ]
  },
  {
   "cell_type": "markdown",
   "id": "84a77898",
   "metadata": {},
   "source": [
    "### Schritt 3.5: Definition der Transformationsfunktion\n",
    "\n",
    "In diesem Schritt wird eine Funktion definiert, die ein beliebiges Bild als Argument erhält und als Rückgabewert das Array mit den Pixelwerten zurückgibt."
   ]
  },
  {
   "cell_type": "code",
   "execution_count": 16,
   "id": "e1625e08",
   "metadata": {},
   "outputs": [],
   "source": [
    "def read_and_transform_img(url):\n",
    "\n",
    "    img = skimage.io.imread(url)\n",
    "    img_ = skimage.transform.resize(img, (100,100))\n",
    "    \n",
    "    img__ = image.img_to_array(img_)\n",
    "    img___ = np.expand_dims(img__, axis=0)\n",
    "\n",
    "    return img___"
   ]
  },
  {
   "cell_type": "markdown",
   "id": "c965791c",
   "metadata": {},
   "source": [
    "### Schritt 3.6: Transformation des Bildes und Vorhersage des Bildes\n",
    "\n",
    "Hier wird die obige Funktion aufgerufen, das Bild aus der URL in ein Array von Bildpunkten umgewandelt und schließlich die Vorhersage durchgeführt."
   ]
  },
  {
   "cell_type": "code",
   "execution_count": 17,
   "id": "d68ed044",
   "metadata": {},
   "outputs": [
    {
     "name": "stdout",
     "output_type": "stream",
     "text": [
      "1/1 [==============================] - 0s 65ms/step\n"
     ]
    }
   ],
   "source": [
    "images = read_and_transform_img(url_) # Umwandeln des Bildes\n",
    "preds = model_primitiv.predict(images) # erstellen der Modellvorhersage für das Bild"
   ]
  },
  {
   "cell_type": "markdown",
   "id": "b6b3cbb9",
   "metadata": {},
   "source": [
    "### Schritt 3.7: Anzeige der Vorhersage\n",
    "\n",
    "Das von der KI erkannte Tier wird nun angezeigt. Diese Anzeige ist allerdings wenig intuitiv.\n",
    "\n",
    "Hinweis: Meistens wird nur die Wahrscheinlichkeit für ein Ereignis zurückgegeben. In diesem Fall werden die Wahrscheinlichkeiten für Katze, Hund und Panda zurückgegeben. \n",
    "\n",
    "Das bedeutet, dass das Bild unter der obigen URL mit einer Wahrscheinlichkeit von 58% als Panda erkannt wurde."
   ]
  },
  {
   "cell_type": "code",
   "execution_count": 18,
   "id": "b6730b63",
   "metadata": {},
   "outputs": [
    {
     "name": "stdout",
     "output_type": "stream",
     "text": [
      "[0.21398613 0.26983905 0.5161748 ]\n"
     ]
    }
   ],
   "source": [
    "print(preds[0])"
   ]
  },
  {
   "cell_type": "markdown",
   "id": "3ad1b1e5",
   "metadata": {},
   "source": [
    "### Schritt 3.8: Verbesserung der Lesbarkeit der Ergebnisse"
   ]
  },
  {
   "cell_type": "code",
   "execution_count": 19,
   "id": "329bf5ef",
   "metadata": {},
   "outputs": [
    {
     "name": "stdout",
     "output_type": "stream",
     "text": [
      "It's a panda!\n",
      "0.5161748\n"
     ]
    }
   ],
   "source": [
    "prediction = np.argmax(preds)\n",
    "pct = np.max(preds)\n",
    "\n",
    "if prediction == 0:\n",
    "    print('It\\'s a cat!')\n",
    "elif prediction == 1:\n",
    "    print('It\\'s a dog!')\n",
    "else:\n",
    "    print('It\\'s a panda!')\n",
    "\n",
    "print(pct)"
   ]
  },
  {
   "cell_type": "markdown",
   "id": "867a8fa2",
   "metadata": {},
   "source": [
    "### Aufgaben für Schritt 3\n",
    "1. Bearbeiten Sie die Aufgaben sorgfältig. Falls Fragen auftauchen\n",
    "- doppelklicken Sie in den entsprechenden Textblock\n",
    "- und fügen Sie am Ende des Textblocks das Stichwort \"### Fragen\" ein.\n",
    "- Jetzt können Sie Ihre Fragen formulieren.\n",
    "\n",
    "2) Verwenden Sie auch andere Bilder als das Panda-Bild aus Schritt 3.4! Kopieren Sie dazu den Link zu dem Bild aus der Adresszeile Ihres Browsers und ersetzen Sie ihn durch den Wert https://raw.githubusercontent.com/marcellusruben/All_things_medium/main/Lime/panda_00024.jpg. Bitte beachten Sie, dass der Link bzw. die URL in Anführungszeichen gesetzt werden muss.\n",
    "\n",
    "3. Suchen Sie den Begriff ''binäre Klassifikation'' und schreiben Sie Ihre Antwort hier in diesen Textblock.\n",
    "- Antwort zu Aufgabe 3: abcd\n",
    "\n",
    "4. Nennen Sie zwei Beispiele für binäre Klassifikationen.\n",
    "- Beispiel 1: abcd\n",
    "- Beispiel 2: efgh"
   ]
  },
  {
   "cell_type": "markdown",
   "id": "432647e1",
   "metadata": {},
   "source": [
    "# Schritt 4: Ein MLP coden\n",
    "\n",
    "Hier soll selber der Code fürn ein Multilayer Perceptron geschrieben werden. Die Definition des Neuronalen Netzes steht hierbei im Fokus."
   ]
  },
  {
   "cell_type": "markdown",
   "id": "8b054107",
   "metadata": {},
   "source": [
    "### Schritt 4.1: Laden der Bibliotheken und der Trainingsdaten"
   ]
  },
  {
   "cell_type": "code",
   "execution_count": 32,
   "id": "7f297e38",
   "metadata": {},
   "outputs": [
    {
     "data": {
      "image/png": "[encoded data removed]",
      "text/plain": [
       "<Figure size 640x480 with 9 Axes>"
      ]
     },
     "metadata": {},
     "output_type": "display_data"
    }
   ],
   "source": [
    "from keras.datasets import mnist\n",
    "\n",
    "# load dataset\n",
    "(x_train, y_train),(x_test, y_test) = mnist.load_data()\n",
    "\n",
    "for i in range(9):\n",
    "    plt.subplot(3,3,i+1)\n",
    "    plt.imshow(x_train[i], cmap='gray', interpolation='none')\n",
    "    plt.axis('off')\n",
    "    plt.title(\"Class {}\".format(y_train[i]))\n"
   ]
  },
  {
   "cell_type": "code",
   "execution_count": 33,
   "id": "a14c0952",
   "metadata": {},
   "outputs": [],
   "source": [
    "# compute the number of labels\n",
    "num_labels = len(np.unique(y_train))\n",
    "# convert to one-hot vector\n",
    "y_train = to_categorical(y_train)\n",
    "y_test = to_categorical(y_test)\n",
    "# image dimensions (assumed square)\n",
    "image_size = x_train.shape[1]\n",
    "input_size = image_size * image_size\n",
    "input_size\n",
    "# resize and normalize\n",
    "x_train = np.reshape(x_train, [-1, input_size])\n",
    "x_train = x_train.astype('float32') / 255\n",
    "x_test = np.reshape(x_test, [-1, input_size])\n",
    "x_test = x_test.astype('float32') / 255"
   ]
  },
  {
   "cell_type": "code",
   "execution_count": 34,
   "id": "adac6184",
   "metadata": {},
   "outputs": [],
   "source": [
    "sgd = SGD(learning_rate=1.0, weight_decay=1e-3, momentum=0.5)\n",
    "# network parameters\n",
    "batch_size = 128"
   ]
  },
  {
   "cell_type": "code",
   "execution_count": null,
   "id": "ded603fb",
   "metadata": {},
   "outputs": [],
   "source": [
    "# Beschreibung der Aufgabe erstellen der Schichten etc."
   ]
  },
  {
   "cell_type": "code",
   "execution_count": 35,
   "id": "8153e76d",
   "metadata": {},
   "outputs": [],
   "source": [
    "model_mnist = Sequential([ \n",
    "    # hinzufügen eines Dense-Schicht: 10000 Neuronen, Eingabe-Dimension von 784 und einer 'relu'\n",
    "    tf.keras.layers.Dense(10000, input_dim=784, activation='relu'),\n",
    "    # hinzufügen einer Ausgabeschicht als Dense-Layer für 10 Ausgabewerte mit 'softmax'\n",
    "    tf.keras.layers.Dense(10, activation='softmax')\n",
    "])"
   ]
  },
  {
   "cell_type": "code",
   "execution_count": 36,
   "id": "f0acb82d",
   "metadata": {},
   "outputs": [
    {
     "name": "stdout",
     "output_type": "stream",
     "text": [
      "Epoch 1/2\n",
      "469/469 [==============================] - 28s 58ms/step - loss: 0.3429 - accuracy: 0.9173\n",
      "Epoch 2/2\n",
      "469/469 [==============================] - 27s 58ms/step - loss: 0.1022 - accuracy: 0.9688\n"
     ]
    },
    {
     "data": {
      "text/plain": [
       "<keras.callbacks.History at 0x23a12c6ae00>"
      ]
     },
     "execution_count": 36,
     "metadata": {},
     "output_type": "execute_result"
    }
   ],
   "source": [
    "model_mnist.compile(loss='categorical_crossentropy', \n",
    "              optimizer=sgd,\n",
    "              metrics=['accuracy'])\n",
    "model_mnist.fit(x_train, y_train, epochs=2, batch_size=batch_size)"
   ]
  },
  {
   "cell_type": "code",
   "execution_count": 37,
   "id": "ec447dac",
   "metadata": {},
   "outputs": [
    {
     "name": "stdout",
     "output_type": "stream",
     "text": [
      "79/79 [==============================] - 1s 11ms/step - loss: 0.1112 - accuracy: 0.9656\n",
      "\n",
      "Test accuracy: 96.6%\n"
     ]
    }
   ],
   "source": [
    "loss, acc = model_mnist.evaluate(x_test, y_test, batch_size=batch_size)\n",
    "print(\"\\nTest accuracy: %.1f%%\" % (100.0 * acc))"
   ]
  },
  {
   "cell_type": "markdown",
   "id": "cb9ebedd",
   "metadata": {},
   "source": [
    "## Schritt 5: Erstellen eines Convolutional Neural Nertworks (CNN oder ConvNet)\n",
    "\n",
    "Hier wird eine spezielles Neuronales Netzwerk erstellt, im deutschen würde man das es etwa als 'faltendes neuronales Netzwerk' übersetzen. https://de.wikipedia.org/wiki/Convolutional_Neural_Network "
   ]
  },
  {
   "cell_type": "markdown",
   "id": "019784f0",
   "metadata": {},
   "source": [
    "### Schritt 5.1: Architekturdefinition des CNN\n",
    "\n",
    "Erläuterung der ersten Faltungsschicht:\n",
    "- Conv2D: beschreibt den Namen der Funktion,\n",
    "- 1. Argument: 16, definiert die Anzahl der Neuronen in diesem Layer\n",
    "- 2. Argument: (3, 3), definiert die Größe des Filterkernels (Faltungsfunktion) die eine Fläche von 3 x 3 Pixeln auf ein Pixel herunterbricht\n",
    "- 3. Argument: activation='relu', definiert die Aktivierungsfunktion der Neurone in dieser Schicht, der ausführliche Name dieser Funktion ist 'Rectified Linear Unit' https://machinelearningmastery.com/rectified-linear-activation-function-for-deep-learning-neural-networks/\n",
    "- 4. Argument: input_shape=(100, 100, 3), definiert die Größe des Eingabebildes 100 x 100 Bildpunkte und drei Wrete für die Farbtiefe\n",
    "- MaxPooling2D: beschreibt eine Funktion, welche überflüssige Informationen abschneidet, aus dem neu entstandenen Bild.\n",
    "- 1. Argument: 2 beschreibt die Anzahl der vertikalten Bildpunkte, die zusammengefasst werden.\n",
    "- 2. Argument: 2 beschreibt die Anzahl der horizontalen Bildpunkte, die zusammengefasst werden.\n",
    "\n",
    "Quellen:\n",
    "- https://de.wikipedia.org/wiki/Convolutional_Neural_Network\n",
    "- https://www.deeplearningbook.org/contents/convnets.html "
   ]
  },
  {
   "cell_type": "code",
   "execution_count": 32,
   "id": "2755953b",
   "metadata": {},
   "outputs": [],
   "source": [
    "model = Sequential([\n",
    "    \n",
    "    # Erste Schicht: erste Filterschicht und Eingabeschicht\n",
    "        Conv2D(16, (3,3), activation='relu', input_shape=(100, 100, 3)),\n",
    "    # Zweite Schicht \n",
    "        MaxPooling2D(2, 2),\n",
    "    \n",
    "    # Zweite Schicht: eine weitere Faltungsschicht mit einem anschließenden Pooling Layer\n",
    "        Conv2D(32, (3,3), activation='relu'),\n",
    "        MaxPooling2D(2,2),\n",
    "    \n",
    "    # Dritte Schicht: \n",
    "        Conv2D(64, (3,3), activation='relu'),\n",
    "        MaxPooling2D(2,2),\n",
    "    \n",
    "        Flatten(),\n",
    "    \n",
    "    # Vierte Schicht: \n",
    "        Dense(512, activation='relu'),\n",
    "        Dropout(0.2),\n",
    "    \n",
    "    # Ausgabe Schicht: \n",
    "        Dense(3, activation='softmax') \n",
    "])"
   ]
  },
  {
   "cell_type": "markdown",
   "id": "d933d0bf",
   "metadata": {},
   "source": [
    "### Schritt 5.2: Trainieren des Modells.\n",
    "\n",
    "Achtung den nachfolgenden Block ausführen, falls kein kompiliertes Modell vorliegt."
   ]
  },
  {
   "cell_type": "code",
   "execution_count": 33,
   "id": "33d19fcf",
   "metadata": {},
   "outputs": [
    {
     "name": "stdout",
     "output_type": "stream",
     "text": [
      "Epoch 1/80\n",
      "2/2 [==============================] - 7s 949ms/step - loss: 1.8113 - accuracy: 0.1329\n",
      "Epoch 2/80\n",
      "2/2 [==============================] - 7s 5s/step - loss: 1.2726 - accuracy: 0.1333\n",
      "Epoch 3/80\n",
      "2/2 [==============================] - 7s 5s/step - loss: 1.1316 - accuracy: 0.3333\n",
      "Epoch 4/80\n",
      "2/2 [==============================] - 7s 5s/step - loss: 1.1433 - accuracy: 0.3333\n",
      "Epoch 5/80\n",
      "2/2 [==============================] - 7s 5s/step - loss: 1.1666 - accuracy: 0.3333\n",
      "Epoch 6/80\n",
      "2/2 [==============================] - 6s 935ms/step - loss: 1.1544 - accuracy: 0.3333\n",
      "Epoch 7/80\n",
      "2/2 [==============================] - 7s 5s/step - loss: 1.1653 - accuracy: 0.3333\n",
      "Epoch 8/80\n",
      "2/2 [==============================] - 7s 915ms/step - loss: 1.1557 - accuracy: 0.3333\n",
      "Epoch 9/80\n",
      "2/2 [==============================] - 7s 5s/step - loss: 1.1719 - accuracy: 0.3333\n",
      "Epoch 10/80\n",
      "2/2 [==============================] - 7s 5s/step - loss: 1.2010 - accuracy: 0.3333\n",
      "Epoch 11/80\n",
      "2/2 [==============================] - 6s 956ms/step - loss: 1.1738 - accuracy: 0.3333\n",
      "Epoch 12/80\n",
      "2/2 [==============================] - 6s 1s/step - loss: 1.1028 - accuracy: 0.3333\n",
      "Epoch 13/80\n",
      "2/2 [==============================] - 7s 1s/step - loss: 1.0583 - accuracy: 0.3333\n",
      "Epoch 14/80\n",
      "2/2 [==============================] - 7s 1s/step - loss: 1.0382 - accuracy: 0.3333\n",
      "Epoch 15/80\n",
      "2/2 [==============================] - 7s 926ms/step - loss: 1.0385 - accuracy: 0.3333\n",
      "Epoch 16/80\n",
      "2/2 [==============================] - 7s 1s/step - loss: 1.0608 - accuracy: 0.3333\n",
      "Epoch 17/80\n",
      "2/2 [==============================] - 7s 5s/step - loss: 1.1660 - accuracy: 0.3333\n",
      "Epoch 18/80\n",
      "2/2 [==============================] - 7s 5s/step - loss: 1.1197 - accuracy: 0.3333\n",
      "Epoch 19/80\n",
      "2/2 [==============================] - 7s 1s/step - loss: 1.0694 - accuracy: 0.3333\n",
      "Epoch 20/80\n",
      "2/2 [==============================] - 6s 956ms/step - loss: 0.9794 - accuracy: 0.3333\n",
      "Epoch 21/80\n",
      "2/2 [==============================] - 7s 5s/step - loss: 0.9520 - accuracy: 0.3333\n",
      "Epoch 22/80\n",
      "2/2 [==============================] - 7s 5s/step - loss: 0.9563 - accuracy: 0.3338\n",
      "Epoch 23/80\n",
      "2/2 [==============================] - 7s 5s/step - loss: 0.9740 - accuracy: 0.3354\n",
      "Epoch 24/80\n",
      "2/2 [==============================] - 7s 5s/step - loss: 1.0092 - accuracy: 0.3425\n",
      "Epoch 25/80\n",
      "2/2 [==============================] - 6s 988ms/step - loss: 1.0017 - accuracy: 0.3479\n",
      "Epoch 26/80\n",
      "2/2 [==============================] - 7s 5s/step - loss: 0.9690 - accuracy: 0.3787\n",
      "Epoch 27/80\n",
      "2/2 [==============================] - 7s 5s/step - loss: 0.9604 - accuracy: 0.3929\n",
      "Epoch 28/80\n",
      "2/2 [==============================] - 7s 5s/step - loss: 0.9469 - accuracy: 0.4117\n",
      "Epoch 29/80\n",
      "2/2 [==============================] - 7s 5s/step - loss: 0.9359 - accuracy: 0.4292\n",
      "Epoch 30/80\n",
      "2/2 [==============================] - 6s 951ms/step - loss: 0.9297 - accuracy: 0.4458\n",
      "Epoch 31/80\n",
      "2/2 [==============================] - 6s 962ms/step - loss: 0.9098 - accuracy: 0.4854\n",
      "Epoch 32/80\n",
      "2/2 [==============================] - 7s 983ms/step - loss: 0.9001 - accuracy: 0.5067\n",
      "Epoch 33/80\n",
      "2/2 [==============================] - 6s 933ms/step - loss: 0.8975 - accuracy: 0.5150\n",
      "Epoch 34/80\n",
      "2/2 [==============================] - 6s 933ms/step - loss: 0.9040 - accuracy: 0.5217\n",
      "Epoch 35/80\n",
      "2/2 [==============================] - 6s 978ms/step - loss: 0.9145 - accuracy: 0.5171\n",
      "Epoch 36/80\n",
      "2/2 [==============================] - 7s 1s/step - loss: 0.9264 - accuracy: 0.5229\n",
      "Epoch 37/80\n",
      "2/2 [==============================] - 7s 5s/step - loss: 0.9496 - accuracy: 0.5204\n",
      "Epoch 38/80\n",
      "2/2 [==============================] - 6s 933ms/step - loss: 0.9368 - accuracy: 0.5350\n",
      "Epoch 39/80\n",
      "2/2 [==============================] - 6s 944ms/step - loss: 0.8897 - accuracy: 0.5779\n",
      "Epoch 40/80\n",
      "2/2 [==============================] - 7s 5s/step - loss: 0.8695 - accuracy: 0.6129\n",
      "Epoch 41/80\n",
      "2/2 [==============================] - 6s 932ms/step - loss: 0.8650 - accuracy: 0.6087\n",
      "Epoch 42/80\n",
      "2/2 [==============================] - 7s 5s/step - loss: 0.8652 - accuracy: 0.6033\n",
      "Epoch 43/80\n",
      "2/2 [==============================] - 7s 5s/step - loss: 0.8700 - accuracy: 0.5958\n",
      "Epoch 44/80\n",
      "2/2 [==============================] - 6s 917ms/step - loss: 0.8608 - accuracy: 0.5992\n",
      "Epoch 45/80\n",
      "2/2 [==============================] - 7s 994ms/step - loss: 0.8128 - accuracy: 0.6371\n",
      "Epoch 46/80\n",
      "2/2 [==============================] - 7s 5s/step - loss: 0.8330 - accuracy: 0.6296\n",
      "Epoch 47/80\n",
      "2/2 [==============================] - 7s 5s/step - loss: 0.8478 - accuracy: 0.6150\n",
      "Epoch 48/80\n",
      "2/2 [==============================] - 7s 983ms/step - loss: 0.8244 - accuracy: 0.6317\n",
      "Epoch 49/80\n",
      "2/2 [==============================] - 7s 5s/step - loss: 0.7685 - accuracy: 0.6504\n",
      "Epoch 50/80\n",
      "2/2 [==============================] - 6s 972ms/step - loss: 0.7579 - accuracy: 0.6696\n",
      "Epoch 51/80\n",
      "2/2 [==============================] - 7s 5s/step - loss: 0.7783 - accuracy: 0.6546\n",
      "Epoch 52/80\n",
      "2/2 [==============================] - 6s 959ms/step - loss: 0.7514 - accuracy: 0.6758\n",
      "Epoch 53/80\n",
      "2/2 [==============================] - 7s 5s/step - loss: 0.7565 - accuracy: 0.6492\n",
      "Epoch 54/80\n",
      "2/2 [==============================] - 7s 926ms/step - loss: 0.7372 - accuracy: 0.6642\n",
      "Epoch 55/80\n",
      "2/2 [==============================] - 6s 1s/step - loss: 0.7057 - accuracy: 0.6862\n",
      "Epoch 56/80\n",
      "2/2 [==============================] - 6s 913ms/step - loss: 0.6687 - accuracy: 0.7092\n",
      "Epoch 57/80\n",
      "2/2 [==============================] - 6s 925ms/step - loss: 0.6541 - accuracy: 0.7100\n",
      "Epoch 58/80\n",
      "2/2 [==============================] - 8s 5s/step - loss: 0.8021 - accuracy: 0.6396\n",
      "Epoch 59/80\n",
      "2/2 [==============================] - 7s 5s/step - loss: 0.7440 - accuracy: 0.6754\n",
      "Epoch 60/80\n",
      "2/2 [==============================] - 7s 5s/step - loss: 0.6228 - accuracy: 0.7196\n",
      "Epoch 61/80\n",
      "2/2 [==============================] - 7s 952ms/step - loss: 0.6294 - accuracy: 0.7171\n",
      "Epoch 62/80\n",
      "2/2 [==============================] - 7s 5s/step - loss: 0.7034 - accuracy: 0.6771\n",
      "Epoch 63/80\n",
      "2/2 [==============================] - 7s 934ms/step - loss: 0.6792 - accuracy: 0.7063\n",
      "Epoch 64/80\n",
      "2/2 [==============================] - 7s 5s/step - loss: 0.7448 - accuracy: 0.6533\n",
      "Epoch 65/80\n",
      "2/2 [==============================] - 7s 5s/step - loss: 0.7174 - accuracy: 0.6692\n",
      "Epoch 66/80\n",
      "2/2 [==============================] - 6s 949ms/step - loss: 0.6777 - accuracy: 0.6925\n",
      "Epoch 67/80\n",
      "2/2 [==============================] - 7s 1s/step - loss: 0.6114 - accuracy: 0.7329\n",
      "Epoch 68/80\n",
      "2/2 [==============================] - 7s 992ms/step - loss: 0.5900 - accuracy: 0.7496\n",
      "Epoch 69/80\n",
      "2/2 [==============================] - 7s 957ms/step - loss: 0.5710 - accuracy: 0.7533\n",
      "Epoch 70/80\n",
      "2/2 [==============================] - 7s 5s/step - loss: 0.6805 - accuracy: 0.7033\n",
      "Epoch 71/80\n",
      "2/2 [==============================] - 6s 951ms/step - loss: 0.6739 - accuracy: 0.7096\n",
      "Epoch 72/80\n",
      "2/2 [==============================] - 7s 5s/step - loss: 0.5969 - accuracy: 0.7387\n",
      "Epoch 73/80\n",
      "2/2 [==============================] - 7s 5s/step - loss: 0.6008 - accuracy: 0.7204\n",
      "Epoch 74/80\n",
      "2/2 [==============================] - 7s 5s/step - loss: 0.5500 - accuracy: 0.7529\n",
      "Epoch 75/80\n",
      "2/2 [==============================] - 7s 5s/step - loss: 0.5224 - accuracy: 0.7750\n",
      "Epoch 76/80\n",
      "2/2 [==============================] - 8s 5s/step - loss: 0.5332 - accuracy: 0.7738\n",
      "Epoch 77/80\n",
      "2/2 [==============================] - 7s 5s/step - loss: 0.5593 - accuracy: 0.7533\n",
      "Epoch 78/80\n",
      "2/2 [==============================] - 7s 6s/step - loss: 0.5262 - accuracy: 0.7733\n",
      "Epoch 79/80\n",
      "2/2 [==============================] - 7s 5s/step - loss: 0.4844 - accuracy: 0.7992\n",
      "Epoch 80/80\n",
      "2/2 [==============================] - 7s 5s/step - loss: 0.4889 - accuracy: 0.7971\n",
      "--- 541.3584883213043 seconds ---\n"
     ]
    }
   ],
   "source": [
    "start_time = time.time() # stoppen der Startzeit\n",
    "\n",
    "model.compile(optimizer='adam', \n",
    "                       loss='categorical_crossentropy', \n",
    "                       metrics=['accuracy'])\n",
    "\n",
    "history = model.fit(\n",
    "      train_generator,  \n",
    "      epochs=80,\n",
    "      verbose=1)\n",
    "\n",
    "print(\"--- %s seconds ---\" % (time.time() - start_time)) # printen der Dauer"
   ]
  },
  {
   "cell_type": "markdown",
   "id": "14be58b1",
   "metadata": {},
   "source": [
    "### Schritt 5.3: Speichern des Modells nur nach Training!\n",
    "\n",
    "Achtung model.save() nur einkommentieren und aufrufen, wenn das Modell trainiert wurde. Falls nicht einfach mit dem nächsten Schritt fortfahren."
   ]
  },
  {
   "cell_type": "code",
   "execution_count": 45,
   "id": "f28603a3",
   "metadata": {},
   "outputs": [],
   "source": [
    "#model.save('cnn_model.h5')"
   ]
  },
  {
   "cell_type": "markdown",
   "id": "ac4e664b",
   "metadata": {},
   "source": [
    "### Schritt 5.4: Laden des Modells\n",
    "\n",
    "Achtung nur einkommentieren und laden eines trainierten Modells! Sonst ist keine sinnvolle Vorhersage möglich."
   ]
  },
  {
   "cell_type": "code",
   "execution_count": 52,
   "id": "6a7da04e",
   "metadata": {},
   "outputs": [],
   "source": [
    "model = tf.keras.models.load_model('cnn_model_good.h5')"
   ]
  },
  {
   "cell_type": "markdown",
   "id": "2039d86f",
   "metadata": {},
   "source": [
    "## Vorhersagen durchführen mit dem ConvNet\n",
    "\n",
    "Die folgende Schritt ist nur auszuführen, falls es unter Schritt drei nicht geschehen ist."
   ]
  },
  {
   "cell_type": "markdown",
   "id": "4889edef",
   "metadata": {},
   "source": [
    "### Schritt 5.5: Einbinden der Bibliotheken zur Bildverarbeitung\n",
    "\n",
    "Achtung nur ausführen, falls dies noch nicht unter Schritt 3 erfolgt ist."
   ]
  },
  {
   "cell_type": "code",
   "execution_count": 37,
   "id": "c9ed78c5",
   "metadata": {},
   "outputs": [],
   "source": [
    "import skimage.io\n",
    "from skimage import transform\n",
    "from tensorflow.keras.preprocessing import image\n",
    "\n",
    "# hund: https://www.dasgesundetier.de/magazin/gfx/article/hund_verdauung.jpg\n",
    "# old panda: https://raw.githubusercontent.com/marcellusruben/All_things_medium/main/Lime/panda_00024.jpg \n",
    "url_ = 'https://raw.githubusercontent.com/marcellusruben/All_things_medium/main/Lime/panda_00024.jpg'\n",
    "\n",
    "def read_and_transform_img(url):\n",
    "\n",
    "    img = skimage.io.imread(url)\n",
    "    img_ = skimage.transform.resize(img, (100,100))\n",
    "    \n",
    "    img__ = image.img_to_array(img_)\n",
    "    img___ = np.expand_dims(img__, axis=0)\n",
    "\n",
    "    return img___"
   ]
  },
  {
   "cell_type": "markdown",
   "id": "1c9207a9",
   "metadata": {},
   "source": [
    "### Schritt 5.6: Speichern des Bildarrays in einer Variable\n",
    "\n",
    "Achtung nur wenn es unter Schritt 3 nicht erfolgt ist."
   ]
  },
  {
   "cell_type": "code",
   "execution_count": 38,
   "id": "e7f42c6c",
   "metadata": {},
   "outputs": [],
   "source": [
    "images = read_and_transform_img(url_)"
   ]
  },
  {
   "cell_type": "markdown",
   "id": "7563689f",
   "metadata": {},
   "source": [
    "### Schritt 5.7: Klassifizieren des Bildes mit den CNN\n",
    "\n",
    "Achtung das Ergebnis wird in einer neuen Variable gespeichert. Es wird zudem die Vorhersagefunktion von ''model'' aufgerufen und nicht von ''model_primitive''."
   ]
  },
  {
   "cell_type": "code",
   "execution_count": 53,
   "id": "41d35ee5",
   "metadata": {},
   "outputs": [
    {
     "name": "stdout",
     "output_type": "stream",
     "text": [
      "1/1 [==============================] - 0s 64ms/step\n"
     ]
    }
   ],
   "source": [
    "preds_cnn = model.predict(images)"
   ]
  },
  {
   "cell_type": "markdown",
   "id": "3e881356",
   "metadata": {},
   "source": [
    "### Schritt 5.8: Anzeigen der Wahrscheinlichkeiten\n",
    "\n",
    "Die Anzeige der Ergebnisse des CNN Model."
   ]
  },
  {
   "cell_type": "code",
   "execution_count": 54,
   "id": "4d8ebed5",
   "metadata": {},
   "outputs": [
    {
     "name": "stdout",
     "output_type": "stream",
     "text": [
      "[0.11028233 0.2527387  0.6369789 ]\n"
     ]
    }
   ],
   "source": [
    "print(preds_cnn[0])"
   ]
  },
  {
   "cell_type": "markdown",
   "id": "b4a91bfa",
   "metadata": {},
   "source": [
    "### Schritt 5.9: Darstellungen der Klassenwahrscheinlichkeiten\n",
    "\n",
    "Analog wie oben ist hier das Tier und seine Wahscheinlichkeit abzulesen."
   ]
  },
  {
   "cell_type": "code",
   "execution_count": 55,
   "id": "2f338bce",
   "metadata": {},
   "outputs": [
    {
     "name": "stdout",
     "output_type": "stream",
     "text": [
      "It's a panda!\n",
      "0.6369789\n"
     ]
    }
   ],
   "source": [
    "prediction = np.argmax(preds_cnn)\n",
    "pct = np.max(preds_cnn)\n",
    "\n",
    "if prediction == 0:\n",
    "    print('It\\'s a cat!')\n",
    "elif prediction == 1:\n",
    "    print('It\\'s a dog!')\n",
    "else:\n",
    "    print('It\\'s a panda!')\n",
    "\n",
    "print(pct)"
   ]
  },
  {
   "cell_type": "markdown",
   "id": "b9619834",
   "metadata": {},
   "source": [
    "## Aufgaben Schitt 5\n",
    "\n",
    "1. Vergleiche das Ergebnis aus Schritt 4.9 mit dem Ergebnis von Schritt 3.8. Was stellst du fest?\n",
    "\n",
    "2. Nimm ein weiteres Bild aus dem Web und lasse es von beiden KIs vorhersagen. Dokumentiere deine Ergebnisse.\n",
    "\n",
    "3. Welches Modell ist deiner Meinung nach besser wenn es um die Klassifikation von Bildern geht?\n",
    "\n",
    "4. Kann man den Ergebnissen uneingeschränkt trauen?"
   ]
  },
  {
   "cell_type": "markdown",
   "id": "73e98e6a",
   "metadata": {},
   "source": [
    "# Schritt 6: Kann ich dem Modell vertrauen?\n",
    "\n",
    "Stichworte: erklärbare künstliche Intelligenz, eXplainable Artificial Intelligence, XAI\n",
    "\n",
    "In diesem Abschnitt des Notebooks geht es darum, die Entscheidungen welche durch künstliche Intelligenzen getroffen werden nachvollziehbar zu machen. Als Beispiel könnte man an eine KI denken, welche in Aufnahmen von MRT Bildern nach bösartigen Tumoren sucht. Diese Entscheidung ist nicht trivial, weil es um die Gesundheit von Menschen geht. Auf der anderen Seite gibt es schon Anwendungen die Mediziner bei dieser Suche unterstützen.\n",
    "\n",
    "Um nun zu verstehen wieso in einem Bild, etwas erkannt wurde kann man XAI Methoden nutzen um die Bildpunkte einfärben zu lassen aufgrund derer das Modell eine Entscheidung getroffen hat."
   ]
  },
  {
   "cell_type": "code",
   "execution_count": 42,
   "id": "98299b2d",
   "metadata": {},
   "outputs": [
    {
     "name": "stdout",
     "output_type": "stream",
     "text": [
      "Collecting lime\n",
      "  Downloading lime-0.2.0.1.tar.gz (275 kB)\n",
      "                                              0.0/275.7 kB ? eta -:--:--\n",
      "     ---------------                        112.6/275.7 kB 2.2 MB/s eta 0:00:01\n",
      "     -------------------------------------- 275.7/275.7 kB 3.4 MB/s eta 0:00:00\n",
      "  Preparing metadata (setup.py): started\n",
      "  Preparing metadata (setup.py): finished with status 'done'\n",
      "Requirement already satisfied: matplotlib in c:\\users\\falko\\desktop\\it-sommerfest\\.venv\\lib\\site-packages (from lime) (3.7.1)\n",
      "Requirement already satisfied: numpy in c:\\users\\falko\\desktop\\it-sommerfest\\.venv\\lib\\site-packages (from lime) (1.23.5)\n",
      "Requirement already satisfied: scipy in c:\\users\\falko\\desktop\\it-sommerfest\\.venv\\lib\\site-packages (from lime) (1.10.1)\n",
      "Collecting tqdm (from lime)\n",
      "  Downloading tqdm-4.65.0-py3-none-any.whl (77 kB)\n",
      "                                              0.0/77.1 kB ? eta -:--:--\n",
      "     ---------------------------------------- 77.1/77.1 kB 4.2 MB/s eta 0:00:00\n",
      "Collecting scikit-learn>=0.18 (from lime)\n",
      "  Downloading scikit_learn-1.2.2-cp310-cp310-win_amd64.whl (8.3 MB)\n",
      "                                              0.0/8.3 MB ? eta -:--:--\n",
      "     ---                                      0.8/8.3 MB 26.1 MB/s eta 0:00:01\n",
      "     ----------------                         3.4/8.3 MB 36.5 MB/s eta 0:00:01\n",
      "     -------------------------------------    7.8/8.3 MB 55.4 MB/s eta 0:00:01\n",
      "     ---------------------------------------- 8.3/8.3 MB 48.2 MB/s eta 0:00:00\n",
      "Requirement already satisfied: scikit-image>=0.12 in c:\\users\\falko\\desktop\\it-sommerfest\\.venv\\lib\\site-packages (from lime) (0.21.0)\n",
      "Requirement already satisfied: networkx>=2.8 in c:\\users\\falko\\desktop\\it-sommerfest\\.venv\\lib\\site-packages (from scikit-image>=0.12->lime) (3.1)\n",
      "Requirement already satisfied: pillow>=9.0.1 in c:\\users\\falko\\desktop\\it-sommerfest\\.venv\\lib\\site-packages (from scikit-image>=0.12->lime) (9.5.0)\n",
      "Requirement already satisfied: imageio>=2.27 in c:\\users\\falko\\desktop\\it-sommerfest\\.venv\\lib\\site-packages (from scikit-image>=0.12->lime) (2.31.1)\n",
      "Requirement already satisfied: tifffile>=2022.8.12 in c:\\users\\falko\\desktop\\it-sommerfest\\.venv\\lib\\site-packages (from scikit-image>=0.12->lime) (2023.4.12)\n",
      "Requirement already satisfied: PyWavelets>=1.1.1 in c:\\users\\falko\\desktop\\it-sommerfest\\.venv\\lib\\site-packages (from scikit-image>=0.12->lime) (1.4.1)\n",
      "Requirement already satisfied: packaging>=21 in c:\\users\\falko\\desktop\\it-sommerfest\\.venv\\lib\\site-packages (from scikit-image>=0.12->lime) (23.1)\n",
      "Requirement already satisfied: lazy_loader>=0.2 in c:\\users\\falko\\desktop\\it-sommerfest\\.venv\\lib\\site-packages (from scikit-image>=0.12->lime) (0.2)\n",
      "Collecting joblib>=1.1.1 (from scikit-learn>=0.18->lime)\n",
      "  Downloading joblib-1.2.0-py3-none-any.whl (297 kB)\n",
      "                                              0.0/298.0 kB ? eta -:--:--\n",
      "     -------------------------------------- 298.0/298.0 kB 9.3 MB/s eta 0:00:00\n",
      "Collecting threadpoolctl>=2.0.0 (from scikit-learn>=0.18->lime)\n",
      "  Downloading threadpoolctl-3.1.0-py3-none-any.whl (14 kB)\n",
      "Requirement already satisfied: contourpy>=1.0.1 in c:\\users\\falko\\desktop\\it-sommerfest\\.venv\\lib\\site-packages (from matplotlib->lime) (1.1.0)\n",
      "Requirement already satisfied: cycler>=0.10 in c:\\users\\falko\\desktop\\it-sommerfest\\.venv\\lib\\site-packages (from matplotlib->lime) (0.11.0)\n",
      "Requirement already satisfied: fonttools>=4.22.0 in c:\\users\\falko\\desktop\\it-sommerfest\\.venv\\lib\\site-packages (from matplotlib->lime) (4.40.0)\n",
      "Requirement already satisfied: kiwisolver>=1.0.1 in c:\\users\\falko\\desktop\\it-sommerfest\\.venv\\lib\\site-packages (from matplotlib->lime) (1.4.4)\n",
      "Requirement already satisfied: pyparsing>=2.3.1 in c:\\users\\falko\\desktop\\it-sommerfest\\.venv\\lib\\site-packages (from matplotlib->lime) (3.1.0)\n",
      "Requirement already satisfied: python-dateutil>=2.7 in c:\\users\\falko\\desktop\\it-sommerfest\\.venv\\lib\\site-packages (from matplotlib->lime) (2.8.2)\n",
      "Requirement already satisfied: colorama in c:\\users\\falko\\desktop\\it-sommerfest\\.venv\\lib\\site-packages (from tqdm->lime) (0.4.6)\n",
      "Requirement already satisfied: six>=1.5 in c:\\users\\falko\\desktop\\it-sommerfest\\.venv\\lib\\site-packages (from python-dateutil>=2.7->matplotlib->lime) (1.16.0)\n",
      "Building wheels for collected packages: lime\n",
      "  Building wheel for lime (setup.py): started\n",
      "  Building wheel for lime (setup.py): finished with status 'done'\n",
      "  Created wheel for lime: filename=lime-0.2.0.1-py3-none-any.whl size=283846 sha256=2d4674eac0b9ec7fd4af09b2626d46617c3cd7eb5f19311bfada9cf89516aec5\n",
      "  Stored in directory: c:\\users\\falko\\appdata\\local\\pip\\cache\\wheels\\fd\\a2\\af\\9ac0a1a85a27f314a06b39e1f492bee1547d52549a4606ed89\n",
      "Successfully built lime\n",
      "Installing collected packages: tqdm, threadpoolctl, joblib, scikit-learn, lime\n",
      "Successfully installed joblib-1.2.0 lime-0.2.0.1 scikit-learn-1.2.2 threadpoolctl-3.1.0 tqdm-4.65.0\n"
     ]
    },
    {
     "name": "stderr",
     "output_type": "stream",
     "text": [
      "C:\\Users\\falko\\Desktop\\it-sommerfest\\.venv\\lib\\site-packages\\tqdm\\auto.py:21: TqdmWarning: IProgress not found. Please update jupyter and ipywidgets. See https://ipywidgets.readthedocs.io/en/stable/user_install.html\n",
      "  from .autonotebook import tqdm as notebook_tqdm\n"
     ]
    }
   ],
   "source": [
    "!pip install lime\n",
    "from lime import lime_image\n",
    "explainer = lime_image.LimeImageExplainer()"
   ]
  },
  {
   "cell_type": "code",
   "execution_count": 70,
   "id": "84db7056",
   "metadata": {},
   "outputs": [
    {
     "name": "stderr",
     "output_type": "stream",
     "text": [
      "\r",
      "  0%|                                                                                                                                                                                    | 0/1000 [00:00<?, ?it/s]"
     ]
    },
    {
     "name": "stdout",
     "output_type": "stream",
     "text": [
      "1/1 [==============================] - 0s 34ms/step\n",
      "1/1 [==============================] - 0s 32ms/step\n"
     ]
    },
    {
     "name": "stderr",
     "output_type": "stream",
     "text": [
      "\r",
      "  2%|███▍                                                                                                                                                                      | 20/1000 [00:00<00:05, 175.22it/s]"
     ]
    },
    {
     "name": "stdout",
     "output_type": "stream",
     "text": [
      "1/1 [==============================] - 0s 15ms/step\n",
      "1/1 [==============================] - 0s 33ms/step\n"
     ]
    },
    {
     "name": "stderr",
     "output_type": "stream",
     "text": [
      "\r",
      "  4%|██████▊                                                                                                                                                                   | 40/1000 [00:00<00:05, 176.54it/s]"
     ]
    },
    {
     "name": "stdout",
     "output_type": "stream",
     "text": [
      "1/1 [==============================] - 0s 29ms/step\n",
      "1/1 [==============================] - 0s 27ms/step\n"
     ]
    },
    {
     "name": "stderr",
     "output_type": "stream",
     "text": [
      "\r",
      "  6%|██████████▏                                                                                                                                                               | 60/1000 [00:00<00:05, 168.15it/s]"
     ]
    },
    {
     "name": "stdout",
     "output_type": "stream",
     "text": [
      "1/1 [==============================] - 0s 16ms/step\n",
      "1/1 [==============================] - 0s 32ms/step\n"
     ]
    },
    {
     "name": "stderr",
     "output_type": "stream",
     "text": [
      "\r",
      "  8%|█████████████▌                                                                                                                                                            | 80/1000 [00:00<00:05, 172.64it/s]"
     ]
    },
    {
     "name": "stdout",
     "output_type": "stream",
     "text": [
      "1/1 [==============================] - 0s 31ms/step\n",
      "1/1 [==============================] - 0s 18ms/step\n"
     ]
    },
    {
     "name": "stderr",
     "output_type": "stream",
     "text": [
      "\r",
      " 10%|████████████████▉                                                                                                                                                        | 100/1000 [00:00<00:05, 172.43it/s]"
     ]
    },
    {
     "name": "stdout",
     "output_type": "stream",
     "text": [
      "1/1 [==============================] - 0s 16ms/step\n",
      "1/1 [==============================] - 0s 18ms/step\n"
     ]
    },
    {
     "name": "stderr",
     "output_type": "stream",
     "text": [
      "\r",
      " 12%|████████████████████▎                                                                                                                                                    | 120/1000 [00:00<00:05, 173.64it/s]"
     ]
    },
    {
     "name": "stdout",
     "output_type": "stream",
     "text": [
      "1/1 [==============================] - 0s 28ms/step\n",
      "1/1 [==============================] - 0s 32ms/step\n"
     ]
    },
    {
     "name": "stderr",
     "output_type": "stream",
     "text": [
      "\r",
      " 14%|███████████████████████▋                                                                                                                                                 | 140/1000 [00:00<00:05, 169.09it/s]"
     ]
    },
    {
     "name": "stdout",
     "output_type": "stream",
     "text": [
      "1/1 [==============================] - 0s 16ms/step\n",
      "1/1 [==============================] - 0s 32ms/step\n"
     ]
    },
    {
     "name": "stderr",
     "output_type": "stream",
     "text": [
      "\r",
      " 16%|███████████████████████████                                                                                                                                              | 160/1000 [00:00<00:04, 172.26it/s]"
     ]
    },
    {
     "name": "stdout",
     "output_type": "stream",
     "text": [
      "1/1 [==============================] - 0s 39ms/step\n",
      "1/1 [==============================] - 0s 33ms/step\n"
     ]
    },
    {
     "name": "stderr",
     "output_type": "stream",
     "text": [
      "\r",
      " 18%|██████████████████████████████▍                                                                                                                                          | 180/1000 [00:01<00:04, 165.97it/s]"
     ]
    },
    {
     "name": "stdout",
     "output_type": "stream",
     "text": [
      "1/1 [==============================] - 0s 28ms/step\n",
      "1/1 [==============================] - 0s 32ms/step\n"
     ]
    },
    {
     "name": "stderr",
     "output_type": "stream",
     "text": [
      "\r",
      " 20%|█████████████████████████████████▊                                                                                                                                       | 200/1000 [00:01<00:04, 164.03it/s]"
     ]
    },
    {
     "name": "stdout",
     "output_type": "stream",
     "text": [
      "1/1 [==============================] - 0s 32ms/step\n",
      "1/1 [==============================] - 0s 26ms/step\n"
     ]
    },
    {
     "name": "stderr",
     "output_type": "stream",
     "text": [
      "\r",
      " 22%|█████████████████████████████████████▏                                                                                                                                   | 220/1000 [00:01<00:04, 164.62it/s]"
     ]
    },
    {
     "name": "stdout",
     "output_type": "stream",
     "text": [
      "1/1 [==============================] - 0s 23ms/step\n",
      "1/1 [==============================] - 0s 23ms/step\n"
     ]
    },
    {
     "name": "stderr",
     "output_type": "stream",
     "text": [
      "\r",
      " 24%|████████████████████████████████████████▌                                                                                                                                | 240/1000 [00:01<00:04, 169.01it/s]"
     ]
    },
    {
     "name": "stdout",
     "output_type": "stream",
     "text": [
      "1/1 [==============================] - 0s 16ms/step\n",
      "1/1 [==============================] - 0s 33ms/step\n"
     ]
    },
    {
     "name": "stderr",
     "output_type": "stream",
     "text": [
      "\r",
      " 26%|███████████████████████████████████████████▉                                                                                                                             | 260/1000 [00:01<00:04, 167.33it/s]"
     ]
    },
    {
     "name": "stdout",
     "output_type": "stream",
     "text": [
      "1/1 [==============================] - 0s 30ms/step\n",
      "1/1 [==============================] - 0s 19ms/step\n"
     ]
    },
    {
     "name": "stderr",
     "output_type": "stream",
     "text": [
      "\r",
      " 28%|███████████████████████████████████████████████▎                                                                                                                         | 280/1000 [00:01<00:04, 166.07it/s]"
     ]
    },
    {
     "name": "stdout",
     "output_type": "stream",
     "text": [
      "1/1 [==============================] - 0s 35ms/step\n",
      "1/1 [==============================] - 0s 28ms/step\n"
     ]
    },
    {
     "name": "stderr",
     "output_type": "stream",
     "text": [
      "\r",
      " 30%|██████████████████████████████████████████████████▋                                                                                                                      | 300/1000 [00:01<00:04, 168.15it/s]"
     ]
    },
    {
     "name": "stdout",
     "output_type": "stream",
     "text": [
      "1/1 [==============================] - 0s 15ms/step\n",
      "1/1 [==============================] - 0s 26ms/step\n"
     ]
    },
    {
     "name": "stderr",
     "output_type": "stream",
     "text": [
      "\r",
      " 32%|██████████████████████████████████████████████████████                                                                                                                   | 320/1000 [00:01<00:04, 168.63it/s]"
     ]
    },
    {
     "name": "stdout",
     "output_type": "stream",
     "text": [
      "1/1 [==============================] - 0s 38ms/step\n",
      "1/1 [==============================] - 0s 26ms/step\n"
     ]
    },
    {
     "name": "stderr",
     "output_type": "stream",
     "text": [
      "\r",
      " 34%|█████████████████████████████████████████████████████████▍                                                                                                               | 340/1000 [00:02<00:03, 170.84it/s]"
     ]
    },
    {
     "name": "stdout",
     "output_type": "stream",
     "text": [
      "1/1 [==============================] - 0s 32ms/step\n",
      "1/1 [==============================] - 0s 31ms/step\n"
     ]
    },
    {
     "name": "stderr",
     "output_type": "stream",
     "text": [
      "\r",
      " 36%|████████████████████████████████████████████████████████████▊                                                                                                            | 360/1000 [00:02<00:03, 169.00it/s]"
     ]
    },
    {
     "name": "stdout",
     "output_type": "stream",
     "text": [
      "1/1 [==============================] - 0s 31ms/step\n",
      "1/1 [==============================] - 0s 13ms/step\n"
     ]
    },
    {
     "name": "stderr",
     "output_type": "stream",
     "text": [
      "\r",
      " 38%|████████████████████████████████████████████████████████████████▏                                                                                                        | 380/1000 [00:02<00:03, 167.01it/s]"
     ]
    },
    {
     "name": "stdout",
     "output_type": "stream",
     "text": [
      "1/1 [==============================] - 0s 43ms/step\n",
      "1/1 [==============================] - 0s 32ms/step\n"
     ]
    },
    {
     "name": "stderr",
     "output_type": "stream",
     "text": [
      "\r",
      " 40%|███████████████████████████████████████████████████████████████████▌                                                                                                     | 400/1000 [00:02<00:03, 171.10it/s]"
     ]
    },
    {
     "name": "stdout",
     "output_type": "stream",
     "text": [
      "1/1 [==============================] - 0s 16ms/step\n",
      "1/1 [==============================] - 0s 18ms/step\n",
      "1/1 [==============================] - 0s 13ms/step\n"
     ]
    },
    {
     "name": "stderr",
     "output_type": "stream",
     "text": [
      "\r",
      " 43%|████████████████████████████████████████████████████████████████████████▋                                                                                                | 430/1000 [00:02<00:03, 177.71it/s]"
     ]
    },
    {
     "name": "stdout",
     "output_type": "stream",
     "text": [
      "1/1 [==============================] - 0s 23ms/step\n",
      "1/1 [==============================] - 0s 24ms/step\n"
     ]
    },
    {
     "name": "stderr",
     "output_type": "stream",
     "text": [
      "\r",
      " 45%|████████████████████████████████████████████████████████████████████████████                                                                                             | 450/1000 [00:02<00:03, 180.92it/s]"
     ]
    },
    {
     "name": "stdout",
     "output_type": "stream",
     "text": [
      "1/1 [==============================] - 0s 15ms/step\n",
      "1/1 [==============================] - 0s 16ms/step\n"
     ]
    },
    {
     "name": "stderr",
     "output_type": "stream",
     "text": [
      "\r",
      " 47%|███████████████████████████████████████████████████████████████████████████████▍                                                                                         | 470/1000 [00:02<00:02, 185.88it/s]"
     ]
    },
    {
     "name": "stdout",
     "output_type": "stream",
     "text": [
      "1/1 [==============================] - 0s 10ms/step\n",
      "1/1 [==============================] - 0s 14ms/step\n"
     ]
    },
    {
     "name": "stderr",
     "output_type": "stream",
     "text": [
      "\r",
      " 50%|███████████████████████████████████████████████████████████████████████████████████▋                                                                                     | 495/1000 [00:02<00:02, 203.13it/s]"
     ]
    },
    {
     "name": "stdout",
     "output_type": "stream",
     "text": [
      "1/1 [==============================] - 0s 32ms/step\n",
      "1/1 [==============================] - 0s 26ms/step\n",
      "1/1 [==============================] - 0s 16ms/step\n"
     ]
    },
    {
     "name": "stderr",
     "output_type": "stream",
     "text": [
      "\r",
      " 52%|███████████████████████████████████████████████████████████████████████████████████████▉                                                                                 | 520/1000 [00:02<00:02, 197.83it/s]"
     ]
    },
    {
     "name": "stdout",
     "output_type": "stream",
     "text": [
      "1/1 [==============================] - 0s 14ms/step\n",
      "1/1 [==============================] - 0s 21ms/step\n"
     ]
    },
    {
     "name": "stderr",
     "output_type": "stream",
     "text": [
      "\r",
      " 54%|███████████████████████████████████████████████████████████████████████████████████████████▍                                                                             | 541/1000 [00:03<00:02, 195.26it/s]"
     ]
    },
    {
     "name": "stdout",
     "output_type": "stream",
     "text": [
      "1/1 [==============================] - 0s 16ms/step\n",
      "1/1 [==============================] - 0s 16ms/step\n",
      "1/1 [==============================] - 0s 14ms/step\n"
     ]
    },
    {
     "name": "stderr",
     "output_type": "stream",
     "text": [
      "\r",
      " 57%|████████████████████████████████████████████████████████████████████████████████████████████████▎                                                                        | 570/1000 [00:03<00:02, 198.23it/s]"
     ]
    },
    {
     "name": "stdout",
     "output_type": "stream",
     "text": [
      "1/1 [==============================] - 0s 26ms/step\n",
      "1/1 [==============================] - 0s 33ms/step\n"
     ]
    },
    {
     "name": "stderr",
     "output_type": "stream",
     "text": [
      "\r",
      " 59%|███████████████████████████████████████████████████████████████████████████████████████████████████▋                                                                     | 590/1000 [00:03<00:02, 191.60it/s]"
     ]
    },
    {
     "name": "stdout",
     "output_type": "stream",
     "text": [
      "1/1 [==============================] - 0s 25ms/step\n",
      "1/1 [==============================] - 0s 20ms/step\n",
      "1/1 [==============================] - 0s 20ms/step\n"
     ]
    },
    {
     "name": "stderr",
     "output_type": "stream",
     "text": [
      "\r",
      " 62%|████████████████████████████████████████████████████████████████████████████████████████████████████████▊                                                                | 620/1000 [00:03<00:01, 197.87it/s]"
     ]
    },
    {
     "name": "stdout",
     "output_type": "stream",
     "text": [
      "1/1 [==============================] - 0s 25ms/step\n",
      "1/1 [==============================] - 0s 15ms/step\n"
     ]
    },
    {
     "name": "stderr",
     "output_type": "stream",
     "text": [
      "\r",
      " 64%|████████████████████████████████████████████████████████████████████████████████████████████████████████████▎                                                            | 641/1000 [00:03<00:01, 195.65it/s]"
     ]
    },
    {
     "name": "stdout",
     "output_type": "stream",
     "text": [
      "1/1 [==============================] - 0s 24ms/step\n",
      "1/1 [==============================] - 0s 9ms/step\n",
      "1/1 [==============================] - 0s 30ms/step\n"
     ]
    },
    {
     "name": "stderr",
     "output_type": "stream",
     "text": [
      "\r",
      " 67%|█████████████████████████████████████████████████████████████████████████████████████████████████████████████████▏                                                       | 670/1000 [00:03<00:01, 196.85it/s]"
     ]
    },
    {
     "name": "stdout",
     "output_type": "stream",
     "text": [
      "1/1 [==============================] - 0s 16ms/step\n",
      "1/1 [==============================] - 0s 16ms/step\n",
      "1/1 [==============================] - 0s 15ms/step\n"
     ]
    },
    {
     "name": "stderr",
     "output_type": "stream",
     "text": [
      "\r",
      " 70%|██████████████████████████████████████████████████████████████████████████████████████████████████████████████████████▎                                                  | 700/1000 [00:03<00:01, 202.80it/s]"
     ]
    },
    {
     "name": "stdout",
     "output_type": "stream",
     "text": [
      "1/1 [==============================] - 0s 16ms/step\n",
      "1/1 [==============================] - 0s 9ms/step\n"
     ]
    },
    {
     "name": "stderr",
     "output_type": "stream",
     "text": [
      "\r",
      " 72%|█████████████████████████████████████████████████████████████████████████████████████████████████████████████████████████▊                                               | 721/1000 [00:03<00:01, 199.78it/s]"
     ]
    },
    {
     "name": "stdout",
     "output_type": "stream",
     "text": [
      "1/1 [==============================] - 0s 30ms/step\n",
      "1/1 [==============================] - 0s 32ms/step\n",
      "1/1 [==============================] - 0s 25ms/step\n"
     ]
    },
    {
     "name": "stderr",
     "output_type": "stream",
     "text": [
      "\r",
      " 75%|██████████████████████████████████████████████████████████████████████████████████████████████████████████████████████████████▊                                          | 750/1000 [00:04<00:01, 197.13it/s]"
     ]
    },
    {
     "name": "stdout",
     "output_type": "stream",
     "text": [
      "1/1 [==============================] - 0s 15ms/step\n",
      "1/1 [==============================] - 0s 17ms/step\n"
     ]
    },
    {
     "name": "stderr",
     "output_type": "stream",
     "text": [
      "\r",
      " 77%|██████████████████████████████████████████████████████████████████████████████████████████████████████████████████████████████████▏                                      | 770/1000 [00:04<00:01, 196.75it/s]"
     ]
    },
    {
     "name": "stdout",
     "output_type": "stream",
     "text": [
      "1/1 [==============================] - 0s 16ms/step\n",
      "1/1 [==============================] - 0s 32ms/step\n"
     ]
    },
    {
     "name": "stderr",
     "output_type": "stream",
     "text": [
      "\r",
      " 79%|█████████████████████████████████████████████████████████████████████████████████████████████████████████████████████████████████████▌                                   | 790/1000 [00:04<00:01, 192.48it/s]"
     ]
    },
    {
     "name": "stdout",
     "output_type": "stream",
     "text": [
      "1/1 [==============================] - 0s 27ms/step\n",
      "1/1 [==============================] - 0s 16ms/step\n"
     ]
    },
    {
     "name": "stderr",
     "output_type": "stream",
     "text": [
      "\r",
      " 82%|██████████████████████████████████████████████████████████████████████████████████████████████████████████████████████████████████████████▍                              | 819/1000 [00:04<00:00, 211.88it/s]"
     ]
    },
    {
     "name": "stdout",
     "output_type": "stream",
     "text": [
      "1/1 [==============================] - 0s 19ms/step\n",
      "1/1 [==============================] - 0s 29ms/step\n",
      "1/1 [==============================] - 0s 16ms/step\n"
     ]
    },
    {
     "name": "stderr",
     "output_type": "stream",
     "text": [
      "\r",
      " 84%|██████████████████████████████████████████████████████████████████████████████████████████████████████████████████████████████████████████████▏                          | 841/1000 [00:04<00:01, 134.68it/s]"
     ]
    },
    {
     "name": "stdout",
     "output_type": "stream",
     "text": [
      "1/1 [==============================] - 0s 24ms/step\n",
      "1/1 [==============================] - 0s 22ms/step\n"
     ]
    },
    {
     "name": "stderr",
     "output_type": "stream",
     "text": [
      "\r",
      " 86%|█████████████████████████████████████████████████████████████████████████████████████████████████████████████████████████████████████████████████▎                       | 860/1000 [00:04<00:00, 142.34it/s]"
     ]
    },
    {
     "name": "stdout",
     "output_type": "stream",
     "text": [
      "1/1 [==============================] - 0s 16ms/step\n",
      "1/1 [==============================] - 0s 25ms/step\n"
     ]
    },
    {
     "name": "stderr",
     "output_type": "stream",
     "text": [
      "\r",
      " 88%|████████████████████████████████████████████████████████████████████████████████████████████████████████████████████████████████████████████████████▋                    | 880/1000 [00:04<00:00, 150.92it/s]"
     ]
    },
    {
     "name": "stdout",
     "output_type": "stream",
     "text": [
      "1/1 [==============================] - 0s 32ms/step\n",
      "1/1 [==============================] - 0s 33ms/step\n",
      "1/1 [==============================] - 0s 20ms/step\n"
     ]
    },
    {
     "name": "stderr",
     "output_type": "stream",
     "text": [
      "\r",
      " 91%|█████████████████████████████████████████████████████████████████████████████████████████████████████████████████████████████████████████████████████████▊               | 910/1000 [00:05<00:00, 162.90it/s]"
     ]
    },
    {
     "name": "stdout",
     "output_type": "stream",
     "text": [
      "1/1 [==============================] - 0s 16ms/step\n",
      "1/1 [==============================] - 0s 26ms/step\n"
     ]
    },
    {
     "name": "stderr",
     "output_type": "stream",
     "text": [
      "\r",
      " 93%|█████████████████████████████████████████████████████████████████████████████████████████████████████████████████████████████████████████████████████████████▏           | 930/1000 [00:05<00:00, 168.47it/s]"
     ]
    },
    {
     "name": "stdout",
     "output_type": "stream",
     "text": [
      "1/1 [==============================] - 0s 32ms/step\n",
      "1/1 [==============================] - 0s 22ms/step\n"
     ]
    },
    {
     "name": "stderr",
     "output_type": "stream",
     "text": [
      "\r",
      " 96%|██████████████████████████████████████████████████████████████████████████████████████████████████████████████████████████████████████████████████████████████████       | 959/1000 [00:05<00:00, 192.81it/s]"
     ]
    },
    {
     "name": "stdout",
     "output_type": "stream",
     "text": [
      "1/1 [==============================] - 0s 9ms/step\n",
      "1/1 [==============================] - 0s 32ms/step\n",
      "1/1 [==============================] - 0s 32ms/step\n"
     ]
    },
    {
     "name": "stderr",
     "output_type": "stream",
     "text": [
      "\r",
      " 98%|█████████████████████████████████████████████████████████████████████████████████████████████████████████████████████████████████████████████████████████████████████▌   | 980/1000 [00:05<00:00, 178.15it/s]"
     ]
    },
    {
     "name": "stdout",
     "output_type": "stream",
     "text": [
      "1/1 [==============================] - 0s 31ms/step\n",
      "1/1 [==============================] - 0s 16ms/step\n"
     ]
    },
    {
     "name": "stderr",
     "output_type": "stream",
     "text": [
      "100%|████████████████████████████████████████████████████████████████████████████████████████████████████████████████████████████████████████████████████████████████████████| 1000/1000 [00:05<00:00, 178.34it/s]\n"
     ]
    }
   ],
   "source": [
    "explanation = explainer.explain_instance(images[0].astype('double'), \n",
    "                                         model.predict,  \n",
    "                                         top_labels=3, \n",
    "                                         hide_color=0, \n",
    "                                         num_samples=1000)"
   ]
  },
  {
   "cell_type": "code",
   "execution_count": 71,
   "id": "35c4e2b4",
   "metadata": {},
   "outputs": [
    {
     "data": {
      "image/png": "[encoded data removed]",
      "text/plain": [
       "<Figure size 1500x1500 with 2 Axes>"
      ]
     },
     "metadata": {},
     "output_type": "display_data"
    }
   ],
   "source": [
    "from skimage.segmentation import mark_boundaries\n",
    "\n",
    "temp_1, mask_1 = explanation.get_image_and_mask(explanation.top_labels[0], positive_only=True, num_features=5, hide_rest=True)\n",
    "temp_2, mask_2 = explanation.get_image_and_mask(explanation.top_labels[0], positive_only=False, num_features=10, hide_rest=False)\n",
    "\n",
    "fig, (ax1, ax2) = plt.subplots(1, 2, figsize=(15,15))\n",
    "ax1.imshow(mark_boundaries(temp_1, mask_1))\n",
    "ax2.imshow(mark_boundaries(temp_2, mask_2))\n",
    "ax1.axis('off')\n",
    "ax2.axis('off')\n",
    "\n",
    "plt.savefig('mask_default.png')"
   ]
  },
  {
   "cell_type": "code",
   "execution_count": null,
   "id": "874a8007",
   "metadata": {},
   "outputs": [],
   "source": []
  }
 ],
 "metadata": {
  "kernelspec": {
   "display_name": "Python 3 (ipykernel)",
   "language": "python",
   "name": "python3"
  },
  "language_info": {
   "codemirror_mode": {
    "name": "ipython",
    "version": 3
   },
   "file_extension": ".py",
   "mimetype": "text/x-python",
   "name": "python",
   "nbconvert_exporter": "python",
   "pygments_lexer": "ipython3",
   "version": "3.10.11"
  }
 },
 "nbformat": 4,
 "nbformat_minor": 5
}
