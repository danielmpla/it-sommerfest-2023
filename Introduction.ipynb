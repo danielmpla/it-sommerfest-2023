{
 "cells": [
  {
   "cell_type": "markdown",
   "metadata": {
    "collapsed": false,
    "jupyter": {
     "outputs_hidden": false
    }
   },
   "source": [
    "# IT-Sommerfest 2023\n",
    "\n",
    "## Einführung in maschinelles Lernen\n",
    "*Disclaimer:* Die Animationen und der Code wurden größtenteils aus dem Buch \"Neural Networks from Scratch\" entnommen. Weitere Informationen zum Buch finden Sie unter [nnfs.io](https://nnfs.io).\n",
    "\n",
    "### Einführung in das Problem\n",
    "\n",
    "Im Folgenden wollen wir Schritt für Schritt ein neuronales Netz entwickeln, welches aus Daten lernen kann. Um eine Vorstellung zu bekommen, womit das neuronale Netz arbeitet und warum es aussieht wie es aussieht sollen zuerst die Daten gezeigt werden, die gelernt werden. Hierbei wollen wir uns dem MNIST-Datensatz bedienen. Dieser Datensatz kann im Bereich des maschinellen Lernens als `Hello World` Beispiel angesehen werden. Es handelt sich hierbei um handschriftlich geschriebene Ziffern von $0$ bis $9$. Dieser Datensatz eignet sich besonders gut für Einsteiger, da hier bereits einige Vorverarbeitungsschritte durchgeführt wurden sind, die es uns ermöglichen die Daten sofort zu verwenden. Dazu zählt unter anderem die klare Abhebung der Ziffern von dem Untergrund. Alle Ziffern sind korrekt ausgerichtet, zentriert und der Schwerpunkt befindet sich in der Mitte. Die Ziffern liegen in Schwarz-Weiß in 28x28 Pixeln vor. Es folgt ein Beispiel der Daten:\n",
    "\n",
    "![](resources/mnist.jpg)\n",
    "Quelle: https://sefiks.com/2018/08/15/from-neural-networks-to-deep-learning/\n",
    "\n",
    "Wie wir sehen, wird hier eine $8$ abgebildet. Damit der Computer diese und weitere lernen kann muss die Zahl in ein Format umgewandelt werden, welches maschinenlesbar ist. Dies wird im zweiten Schritt symbolisiert. Da die Ziffer in Graustufen vorliegt haben wir Werte zwischen $0$ und $255$, wobei $0$ schwarz ist und $255$ weiß. Im letzten Schritt ist zu sehen, dass diese Daten in ein neuronales Netz gegeben werden. Dieses wollen wir uns im nächsten Schritt ansehen, wenn auch mit anderen Daten.\n",
    "\n",
    "### neuronale Netze\n",
    "\n",
    "Ein neuronales Netz besteht aus mehreren Neuronen, die sich in Schichten befinden. Jedes Neuron empfängt Daten. Diese werden gewichtet und mit einem Bias versehen. Bei jedem Netz kann die Anzahl der Schichten, Neuronen, Gewichte und Biases unterschiedlich sein, wie die folgende Animation veranschaulicht.\n"
   ]
  },
  {
   "cell_type": "code",
   "execution_count": 1,
   "outputs": [
    {
     "data": {
      "text/plain": "<IPython.core.display.HTML object>",
      "text/html": "<iframe width=\"560\" height=\"315\" src=\"https://www.youtube-nocookie.com/embed/Ls1dJqZtI7w?controls=0\" title=\"YouTube video player\" frameborder=\"0\" allow=\"accelerometer; autoplay; clipboard-write; encrypted-media; gyroscope; picture-in-picture; web-share\" allowfullscreen></iframe>\n"
     },
     "metadata": {},
     "output_type": "display_data"
    }
   ],
   "source": [
    "%%HTML\n",
    "<iframe width=\"560\" height=\"315\" src=\"https://www.youtube-nocookie.com/embed/Ls1dJqZtI7w?controls=0\" title=\"YouTube video player\" frameborder=\"0\" allow=\"accelerometer; autoplay; clipboard-write; encrypted-media; gyroscope; picture-in-picture; web-share\" allowfullscreen></iframe>"
   ],
   "metadata": {
    "collapsed": false,
    "ExecuteTime": {
     "end_time": "2023-06-21T13:31:47.490013100Z",
     "start_time": "2023-06-21T13:31:45.553797300Z"
    }
   }
  },
  {
   "cell_type": "markdown",
   "source": [
    "### Ein Neuron\n",
    "\n",
    "Als grundlegende Basis für unsere neuronalen Netze dienen die Neuronen. Die ursprüngliche Idee war es die Neuronen im Gehirn möglichst gut nachzubilden. Wie sich aber herausgestellt hat, ist dies nicht gut gelungen. Trotzdem bilden sie die Grundlage für die meisten der heutigen intelligenten Maschinen. Jedes Neuron hat erhält Daten als Input ($x_0, x_1, ... x_i$), welche einzeln mit einem dazugehörigen Gewicht ($w_0, w_1, ..., w_i$) multipliziert werden. Die gewichteten Eingaben werden dann aufsummiert und mit einem Bias bzw. Aktivierungsschwelle ($\\theta$) versehen. Üblicherweise folgt noch ein Aktivierungsfunktion, die den Output in einem bestimmten Wertebereich beschränkt. Außerdem sorgen nicht-lineare Aktivierungsfunktionen dafür, dass wir komplexe Daten lernen können. Schematisch könnte ein Neuron wie folgt aussehen:\n",
    "\n",
    "![](resources/neuron.png)\n",
    "Quelle: https://de.wikipedia.org/wiki/Datei:Computer.Science.AI.Neuron.svg\n",
    "\n",
    "Die dazu entsprechende Formel sieht wie folgt aus: $Y = X \\cdot w + \\theta$. Woran erinnert dies Formel?\n",
    "\n",
    "Damit können wir nun das erste Neuron implementieren:"
   ],
   "metadata": {
    "collapsed": false
   }
  },
  {
   "cell_type": "code",
   "execution_count": 2,
   "metadata": {
    "collapsed": false,
    "jupyter": {
     "outputs_hidden": false
    },
    "ExecuteTime": {
     "end_time": "2023-06-21T13:31:47.496005900Z",
     "start_time": "2023-06-21T13:31:45.595792800Z"
    }
   },
   "outputs": [
    {
     "name": "stdout",
     "output_type": "stream",
     "text": [
      "2.3\n"
     ]
    }
   ],
   "source": [
    "inputs = [1, 2, 3]\n",
    "weights = [0.2, 0.8, -0.5]\n",
    "bias = 2\n",
    "\n",
    "output = (inputs[0] * weights[0] +\n",
    "          inputs[1] * weights[1] +\n",
    "          inputs[2] * weights[2] +\n",
    "          bias)\n",
    "print(output)"
   ]
  },
  {
   "cell_type": "code",
   "execution_count": 3,
   "outputs": [
    {
     "data": {
      "text/plain": "<IPython.core.display.HTML object>",
      "text/html": "<iframe width=\"560\" height=\"315\" src=\"https://www.youtube.com/embed/vbeanwfm0Q4?controls=0\" title=\"YouTube video player\" frameborder=\"0\" allow=\"accelerometer; autoplay; clipboard-write; encrypted-media; gyroscope; picture-in-picture; web-share\" allowfullscreen></iframe>\n"
     },
     "metadata": {},
     "output_type": "display_data"
    }
   ],
   "source": [
    "%%HTML\n",
    "<iframe width=\"560\" height=\"315\" src=\"https://www.youtube.com/embed/vbeanwfm0Q4?controls=0\" title=\"YouTube video player\" frameborder=\"0\" allow=\"accelerometer; autoplay; clipboard-write; encrypted-media; gyroscope; picture-in-picture; web-share\" allowfullscreen></iframe>"
   ],
   "metadata": {
    "collapsed": false,
    "ExecuteTime": {
     "end_time": "2023-06-21T13:31:47.499006200Z",
     "start_time": "2023-06-21T13:31:45.643795100Z"
    }
   }
  },
  {
   "cell_type": "markdown",
   "source": [
    "**Aufgabe 1:** Erstellen Sie ein Neuron für 4 Eingabewerte mit den folgenden Eingaben und Gewichten!"
   ],
   "metadata": {
    "collapsed": false
   }
  },
  {
   "cell_type": "code",
   "execution_count": 4,
   "metadata": {
    "collapsed": false,
    "jupyter": {
     "outputs_hidden": false
    },
    "ExecuteTime": {
     "end_time": "2023-06-21T13:31:47.499006200Z",
     "start_time": "2023-06-21T13:31:45.739793700Z"
    }
   },
   "outputs": [],
   "source": [
    "inputs = [1.0, 2.0, 3.0, 2.5]\n",
    "weights = [0.2, 0.8, -0.5, 1.0]\n",
    "bias = 2.0\n",
    "\n",
    "# Your code goes here"
   ]
  },
  {
   "cell_type": "markdown",
   "source": [
    "### Ein Layer aus Neuronen\n",
    "\n",
    "Wie in dem folgenden Bild zu sehen ist, besteht eine Schicht eines neuronalen Netzes immer aus mehreren Neuronen. Deswegen wollen wir im Folgenden eine Schicht eines neuronalen Netzes implementieren. Die Ausgabe des Layers wird dabei als Liste realisiert. Wie wir sehen werden, implementieren wir ein vollvernetztes neuronales Netz. Das bedeutet, dass die Inputs in einer Schicht von allen Neuronen mit ihren eigenen Gewichten aufgenommen werden.\n",
    "\n",
    "![](resources/neuralnet.png)"
   ],
   "metadata": {
    "collapsed": false
   }
  },
  {
   "cell_type": "code",
   "execution_count": 5,
   "outputs": [
    {
     "name": "stdout",
     "output_type": "stream",
     "text": [
      "[4.8, 1.21, 2.385]\n"
     ]
    }
   ],
   "source": [
    "inputs = [1, 2, 3, 2.5]\n",
    "weights1 = [0.2, 0.8, -0.5, 1]\n",
    "weights2 = [0.5, -0.91, 0.26, -0.5]\n",
    "weights3 = [-0.26, -0.27, 0.17, 0.87]\n",
    "bias1 = 2\n",
    "bias2 = 3\n",
    "bias3 = 0.5\n",
    "outputs = [\n",
    "    # Neuron 1:\n",
    "    inputs[0] * weights1[0] +\n",
    "    inputs[1] * weights1[1] +\n",
    "    inputs[2] * weights1[2] +\n",
    "    inputs[3] * weights1[3] +\n",
    "    bias1,\n",
    "\n",
    "    # Neuron 2:\n",
    "    inputs[0] * weights2[0] +\n",
    "    inputs[1] * weights2[1] +\n",
    "    inputs[2] * weights2[2] +\n",
    "    inputs[3] * weights2[3] +\n",
    "    bias2,\n",
    "\n",
    "    # Neuron 3:\n",
    "    inputs[0] * weights3[0] +\n",
    "    inputs[1] * weights3[1] +\n",
    "    inputs[2] * weights3[2] +\n",
    "    inputs[3] * weights3[3] +\n",
    "    bias3\n",
    "]\n",
    "\n",
    "print(outputs)"
   ],
   "metadata": {
    "collapsed": false,
    "ExecuteTime": {
     "end_time": "2023-06-21T13:31:47.500003400Z",
     "start_time": "2023-06-21T13:31:45.819800300Z"
    }
   }
  },
  {
   "cell_type": "code",
   "execution_count": 6,
   "outputs": [
    {
     "data": {
      "text/plain": "<IPython.core.display.HTML object>",
      "text/html": "<iframe width=\"560\" height=\"315\" src=\"https://www.youtube.com/embed/Uvngs6sWyBg?controls=0\" title=\"YouTube video player\" frameborder=\"0\" allow=\"accelerometer; autoplay; clipboard-write; encrypted-media; gyroscope; picture-in-picture; web-share\" allowfullscreen></iframe>\n"
     },
     "metadata": {},
     "output_type": "display_data"
    }
   ],
   "source": [
    "%%HTML\n",
    "<iframe width=\"560\" height=\"315\" src=\"https://www.youtube.com/embed/Uvngs6sWyBg?controls=0\" title=\"YouTube video player\" frameborder=\"0\" allow=\"accelerometer; autoplay; clipboard-write; encrypted-media; gyroscope; picture-in-picture; web-share\" allowfullscreen></iframe>"
   ],
   "metadata": {
    "collapsed": false,
    "ExecuteTime": {
     "end_time": "2023-06-21T13:31:47.501003900Z",
     "start_time": "2023-06-21T13:31:45.875795900Z"
    }
   }
  },
  {
   "cell_type": "markdown",
   "source": [
    "**Aufgabe 2:** Implementieren Sie den vorhergehenden Code mit Schleifen, sodass wir nicht mehr explizit auf die einzelnen Gewichte und Inputs zugreifen müssen."
   ],
   "metadata": {
    "collapsed": false
   }
  },
  {
   "cell_type": "code",
   "execution_count": 6,
   "outputs": [],
   "source": [],
   "metadata": {
    "collapsed": false,
    "ExecuteTime": {
     "end_time": "2023-06-21T13:31:47.501003900Z",
     "start_time": "2023-06-21T13:31:45.944879300Z"
    }
   }
  },
  {
   "cell_type": "markdown",
   "source": [
    "**Aufgabe 3:** Gibt es noch eine einfachere Möglichkeit ein solches Netz zu implementieren?"
   ],
   "metadata": {
    "collapsed": false
   }
  },
  {
   "cell_type": "markdown",
   "source": [
    "### Tensoren, Matrizen und Vektoren\n",
    "\n",
    "Richtig! Wir könnten das ganze auch mit Vektoren, Matrizen und Tensoren lösen. Wie das Ganze in Python aussieht werden wir im Folgenden sehen."
   ],
   "metadata": {
    "collapsed": false
   }
  },
  {
   "cell_type": "code",
   "execution_count": 7,
   "outputs": [
    {
     "data": {
      "text/plain": "<IPython.core.display.HTML object>",
      "text/html": "<iframe width=\"560\" height=\"315\" src=\"https://www.youtube.com/embed/z_fcBg6_bKU?controls=0\" title=\"YouTube video player\" frameborder=\"0\" allow=\"accelerometer; autoplay; clipboard-write; encrypted-media; gyroscope; picture-in-picture; web-share\" allowfullscreen></iframe>\n"
     },
     "metadata": {},
     "output_type": "display_data"
    }
   ],
   "source": [
    "%%HTML\n",
    "<iframe width=\"560\" height=\"315\" src=\"https://www.youtube.com/embed/z_fcBg6_bKU?controls=0\" title=\"YouTube video player\" frameborder=\"0\" allow=\"accelerometer; autoplay; clipboard-write; encrypted-media; gyroscope; picture-in-picture; web-share\" allowfullscreen></iframe>"
   ],
   "metadata": {
    "collapsed": false,
    "ExecuteTime": {
     "end_time": "2023-06-21T13:31:47.502006100Z",
     "start_time": "2023-06-21T13:31:45.970877400Z"
    }
   }
  },
  {
   "cell_type": "code",
   "execution_count": 8,
   "outputs": [],
   "source": [
    "vector = [1,5,6,2]\n",
    "matrix = [[4,2],\n",
    "          [5,1],\n",
    "          [8,2]]\n",
    "tensor = [\n",
    "    [[1,5,6,2],\n",
    "     [3,2,1,3]],\n",
    "    [[5,2,1,2],\n",
    "     [6,4,8,4]],\n",
    "    [[2,8,5,3],\n",
    "     [1,1,9,4]]\n",
    "]"
   ],
   "metadata": {
    "collapsed": false,
    "ExecuteTime": {
     "end_time": "2023-06-21T13:31:47.502006100Z",
     "start_time": "2023-06-21T13:31:46.024882300Z"
    }
   }
  },
  {
   "cell_type": "markdown",
   "source": [
    "## Alles wird einfacher mit numpy\n",
    "\n",
    "### Überblick numpy\n",
    "\n",
    "Im Folgenden werden wir `numpy` als Bibliothek verwenden, um mathematische Operationen auszufühen. Diese Bibliothek hat sich als \"Standard\" in Python durchgesetzt, weil sie einfach zu verwenden ist und effizient implementiert ist.\n",
    "\n",
    "Im Folgenden sollen die wichtigsten Funktionen aufgezählt werden:\n",
    "\n",
    "`numpy.log(x)` - natürlicher Logarithmus\n",
    "`numpy.sum(a)` - bildet die Summe eines Arrays\n",
    "`numpy.exp(x)` - berechnet die Exponentialfunktion aller Elemente\n",
    "`numpy.dot(a, b)` - Skalarprodukt zweier Arrays\n",
    "`numpy.matmul(x1, x2)` - Matrixprodukt zweier Arrays\n",
    "`a.T` - Transposes des Arrays"
   ],
   "metadata": {
    "collapsed": false
   }
  },
  {
   "cell_type": "code",
   "execution_count": 9,
   "outputs": [
    {
     "data": {
      "text/plain": "<IPython.core.display.HTML object>",
      "text/html": "<iframe width=\"560\" height=\"315\" src=\"https://www.youtube.com/embed/KBPvlUp-m5Y?controls=0\" title=\"YouTube video player\" frameborder=\"0\" allow=\"accelerometer; autoplay; clipboard-write; encrypted-media; gyroscope; picture-in-picture; web-share\" allowfullscreen></iframe>\n"
     },
     "metadata": {},
     "output_type": "display_data"
    }
   ],
   "source": [
    "%%HTML\n",
    "<iframe width=\"560\" height=\"315\" src=\"https://www.youtube.com/embed/KBPvlUp-m5Y?controls=0\" title=\"YouTube video player\" frameborder=\"0\" allow=\"accelerometer; autoplay; clipboard-write; encrypted-media; gyroscope; picture-in-picture; web-share\" allowfullscreen></iframe>"
   ],
   "metadata": {
    "collapsed": false,
    "ExecuteTime": {
     "end_time": "2023-06-21T13:31:47.522007500Z",
     "start_time": "2023-06-21T13:31:46.096882400Z"
    }
   }
  },
  {
   "cell_type": "code",
   "execution_count": 10,
   "outputs": [
    {
     "data": {
      "text/plain": "<IPython.core.display.HTML object>",
      "text/html": "<iframe width=\"560\" height=\"315\" src=\"https://www.youtube.com/embed/D-zJAbTxwtg?controls=0\" title=\"YouTube video player\" frameborder=\"0\" allow=\"accelerometer; autoplay; clipboard-write; encrypted-media; gyroscope; picture-in-picture; web-share\" allowfullscreen></iframe>\n"
     },
     "metadata": {},
     "output_type": "display_data"
    }
   ],
   "source": [
    "%%HTML\n",
    "<iframe width=\"560\" height=\"315\" src=\"https://www.youtube.com/embed/D-zJAbTxwtg?controls=0\" title=\"YouTube video player\" frameborder=\"0\" allow=\"accelerometer; autoplay; clipboard-write; encrypted-media; gyroscope; picture-in-picture; web-share\" allowfullscreen></iframe>"
   ],
   "metadata": {
    "collapsed": false,
    "ExecuteTime": {
     "end_time": "2023-06-21T13:31:47.523012700Z",
     "start_time": "2023-06-21T13:31:46.128880700Z"
    }
   }
  },
  {
   "cell_type": "markdown",
   "source": [
    "### Ein Neuron mit numpy\n",
    "\n",
    "Im Folgenden wird nun ein Neuron mit `numpy` umgesetzt. Dafür muss `numpy` aber erst mal importiert werden. Als \"Standard\" hat es sich dabei durchgesetzt `numpy` als alias `np` zu importieren, um Schreibaufwand zu sparen, auch wenn es sich dabei eigentlich um ein \"Code Smell\" handelt. (siehe Gang of Four \"Design Patterns\")\n",
    "\n",
    "Wie wir sehen könne Zugriffe auf die einzelnen Elemente durch das Skalarprodukt ersetzen."
   ],
   "metadata": {
    "collapsed": false
   }
  },
  {
   "cell_type": "code",
   "execution_count": 11,
   "outputs": [
    {
     "name": "stdout",
     "output_type": "stream",
     "text": [
      "4.8\n"
     ]
    }
   ],
   "source": [
    "import numpy as np\n",
    "\n",
    "inputs = [1.0, 2.0, 3.0, 2.5]\n",
    "weights = [0.2, 0.8, -0.5, 1.0]\n",
    "bias = 2.0\n",
    "\n",
    "outputs = np.dot(weights, inputs) + bias\n",
    "\n",
    "print(outputs)"
   ],
   "metadata": {
    "collapsed": false,
    "ExecuteTime": {
     "end_time": "2023-06-21T13:31:47.529009500Z",
     "start_time": "2023-06-21T13:31:46.161881100Z"
    }
   }
  },
  {
   "cell_type": "code",
   "execution_count": 12,
   "outputs": [
    {
     "data": {
      "text/plain": "<IPython.core.display.HTML object>",
      "text/html": "<iframe width=\"560\" height=\"315\" src=\"https://www.youtube.com/embed/7ReqEO4U7Lc\" title=\"YouTube video player\" frameborder=\"0\" allow=\"accelerometer; autoplay; clipboard-write; encrypted-media; gyroscope; picture-in-picture; web-share\" allowfullscreen></iframe>\n"
     },
     "metadata": {},
     "output_type": "display_data"
    }
   ],
   "source": [
    "%%HTML\n",
    "<iframe width=\"560\" height=\"315\" src=\"https://www.youtube.com/embed/7ReqEO4U7Lc\" title=\"YouTube video player\" frameborder=\"0\" allow=\"accelerometer; autoplay; clipboard-write; encrypted-media; gyroscope; picture-in-picture; web-share\" allowfullscreen></iframe>"
   ],
   "metadata": {
    "collapsed": false,
    "ExecuteTime": {
     "end_time": "2023-06-21T13:31:47.529009500Z",
     "start_time": "2023-06-21T13:31:46.922007700Z"
    }
   }
  },
  {
   "cell_type": "markdown",
   "source": [
    "## Ein Layer mit numpy\n",
    "\n",
    "Das ganze können wir nun auch auf einen ganzen Layer erweitern. Wie wir sehen lässt sich auch das mit einem Skalarprodukt implementieren, wobei unsere Gewichte nun eine Matrix sind."
   ],
   "metadata": {
    "collapsed": false
   }
  },
  {
   "cell_type": "code",
   "execution_count": 13,
   "outputs": [
    {
     "name": "stdout",
     "output_type": "stream",
     "text": [
      "[4.8   1.21  2.385]\n"
     ]
    }
   ],
   "source": [
    "import numpy as np\n",
    "\n",
    "inputs = [1.0, 2.0, 3.0, 2.5]\n",
    "weights = [[0.2, 0.8, -0.5, 1], [0.5, -0.91, 0.26, -0.5], [-0.26, -0.27, 0.17, 0.87]]\n",
    "biases = [2.0, 3.0, 0.5]\n",
    "\n",
    "layer_outputs = np.dot(weights, inputs) + biases\n",
    "\n",
    "print(layer_outputs)"
   ],
   "metadata": {
    "collapsed": false,
    "ExecuteTime": {
     "end_time": "2023-06-21T13:31:47.530008200Z",
     "start_time": "2023-06-21T13:31:46.946007600Z"
    }
   }
  },
  {
   "cell_type": "code",
   "execution_count": 14,
   "outputs": [
    {
     "data": {
      "text/plain": "<IPython.core.display.HTML object>",
      "text/html": "<iframe width=\"560\" height=\"315\" src=\"https://www.youtube.com/embed/Fhbcl0grca8?controls=0\" title=\"YouTube video player\" frameborder=\"0\" allow=\"accelerometer; autoplay; clipboard-write; ncrypted-media; gyroscope; picture-in-picture; web-share\" allowfullscreen></iframe>\n"
     },
     "metadata": {},
     "output_type": "display_data"
    }
   ],
   "source": [
    "%%HTML\n",
    "<iframe width=\"560\" height=\"315\" src=\"https://www.youtube.com/embed/Fhbcl0grca8?controls=0\" title=\"YouTube video player\" frameborder=\"0\" allow=\"accelerometer; autoplay; clipboard-write; ncrypted-media; gyroscope; picture-in-picture; web-share\" allowfullscreen></iframe>"
   ],
   "metadata": {
    "collapsed": false,
    "ExecuteTime": {
     "end_time": "2023-06-21T13:31:47.530008200Z",
     "start_time": "2023-06-21T13:31:46.979006800Z"
    }
   }
  },
  {
   "cell_type": "markdown",
   "source": [
    "### Batch Daten\n",
    "\n",
    "Wenn wir später die neuronalen Netze zum Lernen verwenden, werden wir in der Regel nicht nach jedem einzelnen Datum ein Training, das heißt eine Anpassung der Gewichte durchführen, da dadurch das neuronale Netz zu sehr auf die einzelnen Daten trainiert werden würde. Stattdessen verwenden wir in der Regel Batches von Daten. Dadurch wird deren arithmetisches Mittel gelernt und unser neuronales Netz wird nicht zu sehr in eine bestimmte Richtung gedrängt.\n",
    "\n",
    "Wie sich herausstellt, wird dadurch aus unserem Input-Vektor (bisher war es ein Zeilenvektor) nun eine Matrix, die wir auch mittels dem Skalarprodukt aufmultipliziren können. Allerdings benötigen wir nun das Transpose der Gewichte."
   ],
   "metadata": {
    "collapsed": false
   }
  },
  {
   "cell_type": "code",
   "execution_count": 15,
   "outputs": [
    {
     "data": {
      "text/plain": "<IPython.core.display.HTML object>",
      "text/html": "<iframe width=\"560\" height=\"315\" src=\"https://www.youtube.com/embed/iBCM3zkHXeo?controls=0\" title=\"YouTube video player\" frameborder=\"0\" allow=\"accelerometer; autoplay; clipboard-write; encrypted-media; gyroscope; picture-in-picture; web-share\" allowfullscreen></iframe>\n"
     },
     "metadata": {},
     "output_type": "display_data"
    }
   ],
   "source": [
    "%%HTML\n",
    "<iframe width=\"560\" height=\"315\" src=\"https://www.youtube.com/embed/iBCM3zkHXeo?controls=0\" title=\"YouTube video player\" frameborder=\"0\" allow=\"accelerometer; autoplay; clipboard-write; encrypted-media; gyroscope; picture-in-picture; web-share\" allowfullscreen></iframe>"
   ],
   "metadata": {
    "collapsed": false,
    "ExecuteTime": {
     "end_time": "2023-06-21T13:31:47.531007500Z",
     "start_time": "2023-06-21T13:31:46.996008900Z"
    }
   }
  },
  {
   "cell_type": "code",
   "execution_count": 16,
   "outputs": [
    {
     "name": "stdout",
     "output_type": "stream",
     "text": [
      "[[ 4.8    1.21   2.385]\n",
      " [ 8.9   -1.81   0.2  ]\n",
      " [ 1.41   1.051  0.026]]\n"
     ]
    }
   ],
   "source": [
    "import numpy as np\n",
    "\n",
    "\n",
    "inputs = [[1.0, 2.0, 3.0, 2.5],\n",
    "          [2.0, 5.0, -1.0, 2.0],\n",
    "          [-1.5, 2.7, 3.3, -0.8]]\n",
    "weights = [[0.2, 0.8, -0.5, 1.0],\n",
    "           [0.5, -0.91, 0.26, -0.5],\n",
    "           [-0.26, -0.27, 0.17, 0.87]]\n",
    "biases = [2.0, 3.0, 0.5]\n",
    "\n",
    "layer_outputs = np.dot(inputs, np.array(weights).T) + biases\n",
    "\n",
    "print(layer_outputs)"
   ],
   "metadata": {
    "collapsed": false,
    "ExecuteTime": {
     "end_time": "2023-06-21T13:31:47.531007500Z",
     "start_time": "2023-06-21T13:31:47.021008300Z"
    }
   }
  },
  {
   "cell_type": "markdown",
   "source": [
    "### Erstellen weiterer Layer\n",
    "\n",
    "Da die neuronalen Netze nie ohne einen hidden-layer (siehe zweites Bild) auskommen müssen wir nun betrachten, wie wir mehrere Schichten verwenden können. Auch hier verwenden wir wieder das Skalarprodukt. Und genau wie es die schematische Abbildung zeigt, ist der Input des zweiten Layers der Output des ersten Layers."
   ],
   "metadata": {
    "collapsed": false
   }
  },
  {
   "cell_type": "code",
   "execution_count": 17,
   "outputs": [
    {
     "name": "stdout",
     "output_type": "stream",
     "text": [
      "[[ 0.5031  -1.04185 -2.03875]\n",
      " [ 0.2434  -2.7332  -5.7633 ]\n",
      " [-0.99314  1.41254 -0.35655]]\n"
     ]
    }
   ],
   "source": [
    "import numpy as np\n",
    "\n",
    "inputs = [[1, 2, 3, 2.5], [2., 5., -1., 2], [-1.5, 2.7, 3.3, -0.8]]\n",
    "weights = [[0.2, 0.8, -0.5, 1], [0.5, -0.91, 0.26, -0.5], [-0.26, -0.27, 0.17, 0.87]]\n",
    "biases = [2, 3, 0.5]\n",
    "\n",
    "weights2 = [[0.1, -0.14, 0.5], [-0.5, 0.12, -0.33], [-0.44, 0.73, -0.13]]\n",
    "biases2 = [-1, 2, -0.5]\n",
    "\n",
    "layer1_outputs = np.dot(inputs, np.array(weights).T) + biases\n",
    "layer2_outputs = np.dot(layer1_outputs, np.array(weights2).T) + biases2\n",
    "\n",
    "print(layer2_outputs)"
   ],
   "metadata": {
    "collapsed": false,
    "ExecuteTime": {
     "end_time": "2023-06-21T13:31:47.532007200Z",
     "start_time": "2023-06-21T13:31:47.053007800Z"
    }
   }
  },
  {
   "cell_type": "markdown",
   "source": [
    "### ein erster Datensatz\n",
    "\n",
    "Nun wollen wir mit einem einfacheren Datensatz beginnen. Wir verwenden dazu das Spiral-Dataset, welches nur zwei Parameter hat und damit leichter veranschaulicht werden kann. Dabei sind die einzelnen Punkte einer von drei Klassen zugeordnet, was anhand der Farben zu erkennen ist. Insgesamt ist der Datensatz schwer zu lernen, weil wir nicht einfach eine gerade Linie ziehen können, um die Punkte der zweier Klassen voneinander zu trennen."
   ],
   "metadata": {
    "collapsed": false
   }
  },
  {
   "cell_type": "code",
   "execution_count": 18,
   "outputs": [
    {
     "data": {
      "text/plain": "<Figure size 640x480 with 1 Axes>",
      "image/png": "[encoded data removed]"
     },
     "metadata": {},
     "output_type": "display_data"
    }
   ],
   "source": [
    "!pip install nnfs\n",
    "\n",
    "import matplotlib.pyplot as plt\n",
    "from nnfs.datasets import spiral_data\n",
    "\n",
    "X, y = spiral_data(samples=100, classes=3)\n",
    "\n",
    "plt.scatter(X[:, 0], X[:, 1], c=y, cmap='brg')\n",
    "plt.show()"
   ],
   "metadata": {
    "collapsed": false,
    "ExecuteTime": {
     "end_time": "2023-06-21T13:31:51.761782Z",
     "start_time": "2023-06-21T13:31:47.080008600Z"
    }
   }
  },
  {
   "cell_type": "markdown",
   "source": [
    "## Dense-Layer sind Klasse\n",
    "\n",
    "### Der Dense Layer\n",
    "\n",
    "Im Folgenden wird der bisherige Code in einer Klasse gebündelt. Klassen kann man sich als Schablonen oder Kochrezepte vorstellen. Sie selbst dienen nicht der Berechnung, wenn man dann aber einen z.B. Kuchen erstellt haben wir eine Anleitung wie dieser aussehen soll. **Sie müssen sich nicht weiter mit der Notation von Klassen auseinandersetzen. Wir verwenden diese hier nur, um im weiteren Verlauf ein einheitliches Framework aufzubauen.**\n",
    "\n",
    "Der Dense Layer ist, wie es der Name schon sagt, eine vollvernetzte Schicht. Da wir in der Regel keine Gewichte gegeben haben, müssen wir diese initial für jeden Layer selbst erstellen. Da es hier keine allgemeine Regel gibt, welche Gewichte die besten sind, verwenden wir einfach zufällige Zahlen.\n",
    "\n",
    "Unsere bisherigen Berechnungen sind der genannte \"forward pass\" eines neuronalen Netzes. Der Begriff wird besser verständlich, wenn wir uns später sein Gegenstück ansehen."
   ],
   "metadata": {
    "collapsed": false
   }
  },
  {
   "cell_type": "code",
   "execution_count": 19,
   "outputs": [
    {
     "name": "stdout",
     "output_type": "stream",
     "text": [
      "[[ 0.0000000e+00  0.0000000e+00  0.0000000e+00]\n",
      " [-1.0475188e-04  1.1395361e-04 -4.7983500e-05]\n",
      " [-2.7414842e-04  3.1729150e-04 -8.6921798e-05]\n",
      " [-4.2188365e-04  5.2666257e-04 -5.5912682e-05]\n",
      " [-5.7707680e-04  7.1401405e-04 -8.9430439e-05]]\n"
     ]
    }
   ],
   "source": [
    "import numpy as np\n",
    "import nnfs\n",
    "from nnfs.datasets import spiral_data\n",
    "\n",
    "nnfs.init()\n",
    "\n",
    "\n",
    "# Dense layer\n",
    "class Layer_Dense:\n",
    "\n",
    "    # Layer initialization\n",
    "    def __init__(self, n_inputs, n_neurons):\n",
    "        # Initialize weights and biases\n",
    "        self.weights = 0.01 * np.random.randn(n_inputs, n_neurons)\n",
    "        self.biases = np.zeros((1, n_neurons))\n",
    "\n",
    "\n",
    "    # Forward pass\n",
    "    def forward(self, inputs):\n",
    "        # Calculate output values from inputs, weights and biases\n",
    "        self.output = np.dot(inputs, self.weights) + self.biases\n",
    "\n",
    "\n",
    "# Create dataset\n",
    "X, y = spiral_data(samples=100, classes=3)\n",
    "\n",
    "# Create Dense layer with 2 input features and 3 output values\n",
    "dense1 = Layer_Dense(2, 3)\n",
    "\n",
    "# Perform a forward pass of our training data through this layer\n",
    "dense1.forward(X)\n",
    "\n",
    "# Let's see output of the first few samples:\n",
    "print(dense1.output[:5])"
   ],
   "metadata": {
    "collapsed": false,
    "ExecuteTime": {
     "end_time": "2023-06-21T13:31:52.024495100Z",
     "start_time": "2023-06-21T13:31:51.731774700Z"
    }
   }
  },
  {
   "cell_type": "markdown",
   "source": [
    "## Aktivierungsfunktionen\n",
    "\n",
    "Bereits im ersten Bild war eine Aktivierungsfunktion zu sehen. Diese Funktionen beschränken die Ausgabe auf einen bestimmten Wertebereich. Mit der *ReLU* Funktion kann z.B. dafür gesorgt werden, dass negative Werte auf $0$ gesetzt werden und somit das Neuron nicht \"feuert\". *Softmax* hingegen findet häufig Verwendung bei der letzten Ausgabeschicht eines Klassifikators. Außerdem sorgen nicht-lineare Aktivierungsfunktionen dafür, dass wir komplexe Daten lernen können.\n",
    "\n",
    "![](resources/activation-functions.png)\n",
    "Quelle: https://sefiks.com/2020/02/02/dance-moves-of-deep-learning-activation-functions/"
   ],
   "metadata": {
    "collapsed": false
   }
  },
  {
   "cell_type": "code",
   "execution_count": 20,
   "outputs": [
    {
     "data": {
      "text/plain": "<IPython.core.display.HTML object>",
      "text/html": "<iframe width=\"560\" height=\"315\" src=\"https://www.youtube.com/embed/joA6fEAbAQc?controls=0\" title=\"YouTube video player\" frameborder=\"0\" allow=\"accelerometer; autoplay; clipboard-write; encrypted-media; gyroscope; picture-in-picture; web-share\" allowfullscreen></iframe>\n"
     },
     "metadata": {},
     "output_type": "display_data"
    }
   ],
   "source": [
    "%%HTML\n",
    "<iframe width=\"560\" height=\"315\" src=\"https://www.youtube.com/embed/joA6fEAbAQc?controls=0\" title=\"YouTube video player\" frameborder=\"0\" allow=\"accelerometer; autoplay; clipboard-write; encrypted-media; gyroscope; picture-in-picture; web-share\" allowfullscreen></iframe>"
   ],
   "metadata": {
    "collapsed": false,
    "ExecuteTime": {
     "end_time": "2023-06-21T13:31:52.069030700Z",
     "start_time": "2023-06-21T13:31:51.884490500Z"
    }
   }
  },
  {
   "cell_type": "code",
   "execution_count": 21,
   "outputs": [],
   "source": [
    "# ReLU activation\n",
    "class Activation_ReLU:\n",
    "    # Forward pass\n",
    "    def forward(self, inputs):\n",
    "        # Calculate output values from input\n",
    "        self.output = np.maximum(0, inputs)"
   ],
   "metadata": {
    "collapsed": false,
    "ExecuteTime": {
     "end_time": "2023-06-21T13:31:52.078033300Z",
     "start_time": "2023-06-21T13:31:51.965492400Z"
    }
   }
  },
  {
   "cell_type": "code",
   "execution_count": 22,
   "outputs": [],
   "source": [
    "# Softmax activation\n",
    "class Activation_Softmax:\n",
    "\n",
    "    # Forward pass\n",
    "    def forward(self, inputs):\n",
    "\n",
    "        # Get unnormalized probabilities\n",
    "        exp_values = np.exp(inputs - np.max(inputs, axis=1,\n",
    "                                            keepdims=True))\n",
    "        # Normalize them for each sample\n",
    "        probabilities = exp_values / np.sum(exp_values, axis=1,\n",
    "                                            keepdims=True)\n",
    "\n",
    "        self.output = probabilities"
   ],
   "metadata": {
    "collapsed": false,
    "ExecuteTime": {
     "end_time": "2023-06-21T13:31:52.255566400Z",
     "start_time": "2023-06-21T13:31:52.011495500Z"
    }
   }
  },
  {
   "cell_type": "code",
   "execution_count": 23,
   "outputs": [
    {
     "name": "stdout",
     "output_type": "stream",
     "text": [
      "[[0.33333334 0.33333334 0.33333334]\n",
      " [0.33333334 0.33333334 0.33333334]\n",
      " [0.33333334 0.33333334 0.33333334]\n",
      " [0.33333334 0.33333334 0.33333334]\n",
      " [0.33333334 0.33333334 0.33333334]]\n"
     ]
    }
   ],
   "source": [
    "# Create dataset\n",
    "X, y = spiral_data(samples=100, classes=3)\n",
    "\n",
    "# Create Dense layer with 2 input features and 3 output values\n",
    "dense1 = Layer_Dense(2, 3)\n",
    "\n",
    "# Create ReLU activation (to be used with Dense layer):\n",
    "activation1 = Activation_ReLU()\n",
    "\n",
    "# Create second Dense layer with 3 input features (as we take output\n",
    "# of previous layer here) and 3 output values\n",
    "dense2 = Layer_Dense(3, 3)\n",
    "\n",
    "# Create Softmax activation (to be used with Dense layer):\n",
    "activation2 = Activation_Softmax()\n",
    "\n",
    "# Make a forward pass of our training data through this layer\n",
    "dense1.forward(X)\n",
    "\n",
    "# Make a forward pass through activation function\n",
    "# it takes the output of first dense layer here\n",
    "activation1.forward(dense1.output)\n",
    "\n",
    "# Make a forward pass through second Dense layer\n",
    "# it takes outputs of activation function of first layer as inputs\n",
    "dense2.forward(activation1.output)\n",
    "\n",
    "# Make a forward pass through activation function\n",
    "# it takes the output of second dense layer here\n",
    "activation2.forward(dense2.output)\n",
    "\n",
    "\n",
    "# Let's see output of the first few samples:\n",
    "print(activation2.output[:5])"
   ],
   "metadata": {
    "collapsed": false,
    "ExecuteTime": {
     "end_time": "2023-06-21T13:31:52.354567500Z",
     "start_time": "2023-06-21T13:31:52.053495400Z"
    }
   }
  },
  {
   "cell_type": "markdown",
   "source": [
    "## Training des neuronalen Netzes\n",
    "\n",
    "### Categorical Cross Entropy\n",
    "\n",
    "Um unser neuronales Netz trainieren zu können benötigen wir ein Maß wie gut oder schlecht es aktuell ist. Dafür verwenden wir in der Optimierung eine Zielfunktion oder Kostenfunktion. Im maschinellen Lernen heißt diese Funkion Loss-Funktion. In der linearen Regression verwenden wir hierzu häufig die quadrierten Fehler. Da wir hier nicht mit diskreten, sondern mit binären Werten arbeiten, verwenden wir die \"Categorical Cross Entropy\"."
   ],
   "metadata": {
    "collapsed": false
   }
  },
  {
   "cell_type": "code",
   "execution_count": 24,
   "outputs": [],
   "source": [
    "# Common loss class\n",
    "class Loss:\n",
    "\n",
    "    # Calculates the data and regularization losses\n",
    "    # given model output and ground truth values\n",
    "    def calculate(self, output, y):\n",
    "\n",
    "        # Calculate sample losses\n",
    "        sample_losses = self.forward(output, y)\n",
    "\n",
    "        # Calculate mean loss\n",
    "        data_loss = np.mean(sample_losses)\n",
    "\n",
    "        # Return loss\n",
    "        return data_loss\n",
    "\n",
    "\n",
    "# Cross-entropy loss\n",
    "class Loss_CategoricalCrossentropy(Loss):\n",
    "\n",
    "    # Forward pass\n",
    "    def forward(self, y_pred, y_true):\n",
    "\n",
    "        # Number of samples in a batch\n",
    "        samples = len(y_pred)\n",
    "\n",
    "        # Clip data to prevent division by 0\n",
    "        # Clip both sides to not drag mean towards any value\n",
    "        y_pred_clipped = np.clip(y_pred, 1e-7, 1 - 1e-7)\n",
    "\n",
    "\n",
    "        # Probabilities for target values -\n",
    "        # only if categorical labels\n",
    "        if len(y_true.shape) == 1:\n",
    "            correct_confidences = y_pred_clipped[\n",
    "                range(samples),\n",
    "                y_true\n",
    "            ]\n",
    "\n",
    "        # Mask values - only for one-hot encoded labels\n",
    "        elif len(y_true.shape) == 2:\n",
    "            correct_confidences = np.sum(\n",
    "                y_pred_clipped*y_true,\n",
    "                axis=1\n",
    "            )\n",
    "\n",
    "        # Losses\n",
    "        negative_log_likelihoods = -np.log(correct_confidences)\n",
    "        return negative_log_likelihoods"
   ],
   "metadata": {
    "collapsed": false,
    "ExecuteTime": {
     "end_time": "2023-06-21T13:31:52.403110100Z",
     "start_time": "2023-06-21T13:31:52.122031500Z"
    }
   }
  },
  {
   "cell_type": "code",
   "execution_count": 25,
   "outputs": [
    {
     "name": "stdout",
     "output_type": "stream",
     "text": [
      "[[0.33333334 0.33333334 0.33333334]\n",
      " [0.33333412 0.3333327  0.33333313]\n",
      " [0.33333495 0.333332   0.33333302]\n",
      " [0.3333358  0.3333313  0.33333293]\n",
      " [0.33333617 0.33333114 0.3333327 ]]\n",
      "loss: 1.0986174\n"
     ]
    }
   ],
   "source": [
    "# Create dataset\n",
    "X, y = spiral_data(samples=100, classes=3)\n",
    "\n",
    "# Create Dense layer with 2 input features and 3 output values\n",
    "dense1 = Layer_Dense(2, 3)\n",
    "\n",
    "# Create ReLU activation (to be used with Dense layer):\n",
    "activation1 = Activation_ReLU()\n",
    "\n",
    "# Create second Dense layer with 3 input features (as we take output\n",
    "# of previous layer here) and 3 output values\n",
    "dense2 = Layer_Dense(3, 3)\n",
    "\n",
    "# Create Softmax activation (to be used with Dense layer):\n",
    "activation2 = Activation_Softmax()\n",
    "\n",
    "# Create loss function\n",
    "loss_function = Loss_CategoricalCrossentropy()\n",
    "\n",
    "# Perform a forward pass of our training data through this layer\n",
    "dense1.forward(X)\n",
    "\n",
    "# Perform a forward pass through activation function\n",
    "# it takes the output of first dense layer here\n",
    "activation1.forward(dense1.output)\n",
    "\n",
    "\n",
    "# Perform a forward pass through second Dense layer\n",
    "# it takes outputs of activation function of first layer as inputs\n",
    "dense2.forward(activation1.output)\n",
    "\n",
    "# Perform a forward pass through activation function\n",
    "# it takes the output of second dense layer here\n",
    "activation2.forward(dense2.output)\n",
    "\n",
    "# Let's see output of the first few samples:\n",
    "print(activation2.output[:5])\n",
    "\n",
    "# Perform a forward pass through loss function\n",
    "# it takes the output of second dense layer here and returns loss\n",
    "loss = loss_function.calculate(activation2.output, y)\n",
    "\n",
    "# Print loss value\n",
    "print('loss:', loss)\n"
   ],
   "metadata": {
    "collapsed": false,
    "ExecuteTime": {
     "end_time": "2023-06-21T13:31:52.406108600Z",
     "start_time": "2023-06-21T13:31:52.154030100Z"
    }
   }
  },
  {
   "cell_type": "markdown",
   "source": [
    "### Wie akkurat ist unser neuronales Netz\n",
    "\n",
    "Die Loss-funktion, deren Wert wir später minimieren wollen gibt uns jedoch noch keinen menschenlesbaren Wert wie gut unser Netz ist. Also wie häufig etwas z.B. richitg klassifiziert wird. Dafür verwenden wir die Akkuratheit."
   ],
   "metadata": {
    "collapsed": false
   }
  },
  {
   "cell_type": "code",
   "execution_count": 26,
   "outputs": [
    {
     "name": "stdout",
     "output_type": "stream",
     "text": [
      "acc: 0.31\n"
     ]
    }
   ],
   "source": [
    "# Calculate accuracy from output of activation2 and targets\n",
    "# calculate values along first axis\n",
    "predictions = np.argmax(activation2.output, axis=1)\n",
    "if len(y.shape) == 2:\n",
    "    y = np.argmax(y, axis=1)\n",
    "accuracy = np.mean(predictions == y)\n",
    "\n",
    "# Print accuracy\n",
    "print('acc:', accuracy)"
   ],
   "metadata": {
    "collapsed": false,
    "ExecuteTime": {
     "end_time": "2023-06-21T13:31:52.444107500Z",
     "start_time": "2023-06-21T13:31:52.211563300Z"
    }
   }
  },
  {
   "cell_type": "markdown",
   "source": [
    "### Ableitungen\n",
    "\n",
    "Mit der Loss-Funktion bewaffnet könnten wir theoretisch sehr leicht die optimalen Parameter herausfinden, indem wir einfach das globale Minimum suchen. Hierfür brauchen wir die erste und zweite Ableitung: [https://www.studysmarter.de/schule/mathe/analysis/globale-extrema/](https://www.studysmarter.de/schule/mathe/analysis/globale-extrema/)."
   ],
   "metadata": {
    "collapsed": false
   }
  },
  {
   "cell_type": "code",
   "execution_count": 27,
   "outputs": [
    {
     "data": {
      "text/plain": "<IPython.core.display.HTML object>",
      "text/html": "<iframe width=\"560\" height=\"315\" src=\"https://www.youtube.com/embed/2zdlQ0MaXBw?controls=0\" title=\"YouTube video player\" frameborder=\"0\" allow=\"accelerometer; autoplay; clipboard-write; encrypted-media; gyroscope; picture-in-picture; web-share\" allowfullscreen></iframe>\n"
     },
     "metadata": {},
     "output_type": "display_data"
    }
   ],
   "source": [
    "%%HTML\n",
    "<iframe width=\"560\" height=\"315\" src=\"https://www.youtube.com/embed/2zdlQ0MaXBw?controls=0\" title=\"YouTube video player\" frameborder=\"0\" allow=\"accelerometer; autoplay; clipboard-write; encrypted-media; gyroscope; picture-in-picture; web-share\" allowfullscreen></iframe>"
   ],
   "metadata": {
    "collapsed": false,
    "ExecuteTime": {
     "end_time": "2023-06-21T13:31:52.717116900Z",
     "start_time": "2023-06-21T13:31:52.278562900Z"
    }
   }
  },
  {
   "cell_type": "markdown",
   "source": [
    "## Backpropagation\n",
    "\n",
    "Bei unseren neuronalen Netzen ist es allerdings nicht mehr möglich die kompletten Ableitungen zu berechnen um somit lokale und globale Minima zu finden. Stattdessen verwenden wir partielle Ableitungen, um mithilfe der Backpropagation einen Weg zu einer besseren Lösung zu finden. Mithilfe des Gradientenabstiegs können wir dann Schritt für Schritt zu einem optimalen Minimum gelangen."
   ],
   "metadata": {
    "collapsed": false
   }
  },
  {
   "cell_type": "code",
   "execution_count": 28,
   "outputs": [
    {
     "data": {
      "text/plain": "<IPython.core.display.HTML object>",
      "text/html": "<iframe width=\"560\" height=\"315\" src=\"https://www.youtube.com/embed/_9qHQA30hys?controls=0\" title=\"YouTube video player\" frameborder=\"0\" allow=\"accelerometer; autoplay; clipboard-write; encrypted-media; gyroscope; picture-in-picture; web-share\" allowfullscreen></iframe>\n"
     },
     "metadata": {},
     "output_type": "display_data"
    }
   ],
   "source": [
    "%%HTML\n",
    "<iframe width=\"560\" height=\"315\" src=\"https://www.youtube.com/embed/_9qHQA30hys?controls=0\" title=\"YouTube video player\" frameborder=\"0\" allow=\"accelerometer; autoplay; clipboard-write; encrypted-media; gyroscope; picture-in-picture; web-share\" allowfullscreen></iframe>"
   ],
   "metadata": {
    "collapsed": false,
    "ExecuteTime": {
     "end_time": "2023-06-21T13:31:52.719112100Z",
     "start_time": "2023-06-21T13:31:52.307561200Z"
    }
   }
  },
  {
   "cell_type": "code",
   "execution_count": 29,
   "outputs": [
    {
     "name": "stdout",
     "output_type": "stream",
     "text": [
      "[[0.33333334 0.33333334 0.33333334]\n",
      " [0.3333332  0.3333332  0.33333364]\n",
      " [0.3333329  0.33333293 0.3333342 ]\n",
      " [0.3333326  0.33333263 0.33333477]\n",
      " [0.33333233 0.3333324  0.33333528]]\n",
      "loss: 1.0986104\n",
      "acc: 0.34\n",
      "[[ 1.5766357e-04  7.8368583e-05  4.7324400e-05]\n",
      " [ 1.8161038e-04  1.1045573e-05 -3.3096312e-05]]\n",
      "[[-3.60553473e-04  9.66117223e-05 -1.03671395e-04]]\n",
      "[[ 5.44109462e-05  1.07411419e-04 -1.61822361e-04]\n",
      " [-4.07913431e-05 -7.16780924e-05  1.12469446e-04]\n",
      " [-5.30112993e-05  8.58172934e-05 -3.28059905e-05]]\n",
      "[[-1.0729185e-05 -9.4610732e-06  2.0027859e-05]]\n"
     ]
    }
   ],
   "source": [
    "from nnfs.datasets import spiral_data\n",
    "\n",
    "nnfs.init()\n",
    "\n",
    "\n",
    "# Dense layer\n",
    "class Layer_Dense:\n",
    "\n",
    "    # Layer initialization\n",
    "    def __init__(self, n_inputs, n_neurons):\n",
    "        # Initialize weights and biases\n",
    "        self.weights = 0.01 * np.random.randn(n_inputs, n_neurons)\n",
    "        self.biases = np.zeros((1, n_neurons))\n",
    "\n",
    "    # Forward pass\n",
    "    def forward(self, inputs):\n",
    "        # Remember input values\n",
    "        self.inputs = inputs\n",
    "        # Calculate output values from inputs, weights and biases\n",
    "        self.output = np.dot(inputs, self.weights) + self.biases\n",
    "\n",
    "    # Backward pass\n",
    "    def backward(self, dvalues):\n",
    "        # Gradients on parameters\n",
    "        self.dweights = np.dot(self.inputs.T, dvalues)\n",
    "        self.dbiases = np.sum(dvalues, axis=0, keepdims=True)\n",
    "        # Gradient on values\n",
    "        self.dinputs = np.dot(dvalues, self.weights.T)\n",
    "\n",
    "\n",
    "# ReLU activation\n",
    "class Activation_ReLU:\n",
    "\n",
    "    # Forward pass\n",
    "    def forward(self, inputs):\n",
    "\n",
    "        # Remember input values\n",
    "        self.inputs = inputs\n",
    "        # Calculate output values from inputs\n",
    "        self.output = np.maximum(0, inputs)\n",
    "\n",
    "    # Backward pass\n",
    "    def backward(self, dvalues):\n",
    "        # Since we need to modify original variable,\n",
    "        # let's make a copy of values first\n",
    "        self.dinputs = dvalues.copy()\n",
    "\n",
    "        # Zero gradient where input values were negative\n",
    "        self.dinputs[self.inputs <= 0] = 0\n",
    "\n",
    "\n",
    "# Softmax activation\n",
    "class Activation_Softmax:\n",
    "\n",
    "    # Forward pass\n",
    "    def forward(self, inputs):\n",
    "        # Remember input values\n",
    "        self.inputs = inputs\n",
    "\n",
    "        # Get unnormalized probabilities\n",
    "        exp_values = np.exp(inputs - np.max(inputs, axis=1,\n",
    "                                            keepdims=True))\n",
    "        # Normalize them for each sample\n",
    "        probabilities = exp_values / np.sum(exp_values, axis=1,\n",
    "                                            keepdims=True)\n",
    "\n",
    "        self.output = probabilities\n",
    "\n",
    "    # Backward pass\n",
    "    def backward(self, dvalues):\n",
    "\n",
    "        # Create uninitialized array\n",
    "        self.dinputs = np.empty_like(dvalues)\n",
    "\n",
    "        # Enumerate outputs and gradients\n",
    "        for index, (single_output, single_dvalues) in \\\n",
    "                enumerate(zip(self.output, dvalues)):\n",
    "            # Flatten output array\n",
    "            single_output = single_output.reshape(-1, 1)\n",
    "            # Calculate Jacobian matrix of the output\n",
    "            jacobian_matrix = np.diagflat(single_output) - \\\n",
    "                              np.dot(single_output, single_output.T)\n",
    "\n",
    "            # Calculate sample-wise gradient\n",
    "            # and add it to the array of sample gradients\n",
    "            self.dinputs[index] = np.dot(jacobian_matrix,\n",
    "                                         single_dvalues)\n",
    "\n",
    "\n",
    "# Common loss class\n",
    "class Loss:\n",
    "\n",
    "    # Calculates the data and regularization losses\n",
    "    # given model output and ground truth values\n",
    "    def calculate(self, output, y):\n",
    "\n",
    "        # Calculate sample losses\n",
    "        sample_losses = self.forward(output, y)\n",
    "\n",
    "        # Calculate mean loss\n",
    "        data_loss = np.mean(sample_losses)\n",
    "\n",
    "        # Return loss\n",
    "        return data_loss\n",
    "\n",
    "\n",
    "# Cross-entropy loss\n",
    "class Loss_CategoricalCrossentropy(Loss):\n",
    "\n",
    "    # Forward pass\n",
    "    def forward(self, y_pred, y_true):\n",
    "\n",
    "        # Number of samples in a batch\n",
    "        samples = len(y_pred)\n",
    "\n",
    "        # Clip data to prevent division by 0\n",
    "        # Clip both sides to not drag mean towards any value\n",
    "        y_pred_clipped = np.clip(y_pred, 1e-7, 1 - 1e-7)\n",
    "\n",
    "        # Probabilities for target values -\n",
    "        # only if categorical labels\n",
    "        if len(y_true.shape) == 1:\n",
    "            correct_confidences = y_pred_clipped[\n",
    "                range(samples),\n",
    "                y_true\n",
    "            ]\n",
    "\n",
    "\n",
    "        # Mask values - only for one-hot encoded labels\n",
    "        elif len(y_true.shape) == 2:\n",
    "            correct_confidences = np.sum(\n",
    "                y_pred_clipped * y_true,\n",
    "                axis=1\n",
    "            )\n",
    "\n",
    "        # Losses\n",
    "        negative_log_likelihoods = -np.log(correct_confidences)\n",
    "        return negative_log_likelihoods\n",
    "\n",
    "    # Backward pass\n",
    "    def backward(self, dvalues, y_true):\n",
    "\n",
    "        # Number of samples\n",
    "        samples = len(dvalues)\n",
    "        # Number of labels in every sample\n",
    "        # We'll use the first sample to count them\n",
    "        labels = len(dvalues[0])\n",
    "\n",
    "        # If labels are sparse, turn them into one-hot vector\n",
    "        if len(y_true.shape) == 1:\n",
    "            y_true = np.eye(labels)[y_true]\n",
    "\n",
    "        # Calculate gradient\n",
    "        self.dinputs = -y_true / dvalues\n",
    "        # Normalize gradient\n",
    "        self.dinputs = self.dinputs / samples\n",
    "\n",
    "\n",
    "# Softmax classifier - combined Softmax activation\n",
    "# and cross-entropy loss for faster backward step\n",
    "class Activation_Softmax_Loss_CategoricalCrossentropy():\n",
    "\n",
    "    # Creates activation and loss function objects\n",
    "    def __init__(self):\n",
    "        self.activation = Activation_Softmax()\n",
    "        self.loss = Loss_CategoricalCrossentropy()\n",
    "\n",
    "    # Forward pass\n",
    "    def forward(self, inputs, y_true):\n",
    "        # Output layer's activation function\n",
    "        self.activation.forward(inputs)\n",
    "        # Set the output\n",
    "        self.output = self.activation.output\n",
    "        # Calculate and return loss value\n",
    "        return self.loss.calculate(self.output, y_true)\n",
    "\n",
    "\n",
    "    # Backward pass\n",
    "    def backward(self, dvalues, y_true):\n",
    "\n",
    "        # Number of samples\n",
    "        samples = len(dvalues)\n",
    "\n",
    "        # If labels are one-hot encoded,\n",
    "        # turn them into discrete values\n",
    "        if len(y_true.shape) == 2:\n",
    "            y_true = np.argmax(y_true, axis=1)\n",
    "\n",
    "        # Copy so we can safely modify\n",
    "        self.dinputs = dvalues.copy()\n",
    "        # Calculate gradient\n",
    "        self.dinputs[range(samples), y_true] -= 1\n",
    "        # Normalize gradient\n",
    "        self.dinputs = self.dinputs / samples\n",
    "\n",
    "\n",
    "# Create dataset\n",
    "X, y = spiral_data(samples=100, classes=3)\n",
    "\n",
    "# Create Dense layer with 2 input features and 3 output values\n",
    "dense1 = Layer_Dense(2, 3)\n",
    "\n",
    "# Create ReLU activation (to be used with Dense layer):\n",
    "activation1 = Activation_ReLU()\n",
    "\n",
    "# Create second Dense layer with 3 input features (as we take output\n",
    "# of previous layer here) and 3 output values (output values)\n",
    "dense2 = Layer_Dense(3, 3)\n",
    "\n",
    "# Create Softmax classifier's combined loss and activation\n",
    "loss_activation = Activation_Softmax_Loss_CategoricalCrossentropy()\n",
    "\n",
    "# Perform a forward pass of our training data through this layer\n",
    "dense1.forward(X)\n",
    "\n",
    "# Perform a forward pass through activation function\n",
    "# takes the output of first dense layer here\n",
    "activation1.forward(dense1.output)\n",
    "\n",
    "# Perform a forward pass through second Dense layer\n",
    "# takes outputs of activation function of first layer as inputs\n",
    "dense2.forward(activation1.output)\n",
    "\n",
    "# Perform a forward pass through the activation/loss function\n",
    "# takes the output of second dense layer here and returns loss\n",
    "loss = loss_activation.forward(dense2.output, y)\n",
    "# Let's see output of the first few samples:\n",
    "print(loss_activation.output[:5])\n",
    "\n",
    "# Print loss value\n",
    "print('loss:', loss)\n",
    "\n",
    "# Calculate accuracy from output of activation2 and targets\n",
    "# calculate values along first axis\n",
    "predictions = np.argmax(loss_activation.output, axis=1)\n",
    "if len(y.shape) == 2:\n",
    "    y = np.argmax(y, axis=1)\n",
    "accuracy = np.mean(predictions==y)\n",
    "\n",
    "# Print accuracy\n",
    "print('acc:', accuracy)\n",
    "\n",
    "# Backward pass\n",
    "loss_activation.backward(loss_activation.output, y)\n",
    "dense2.backward(loss_activation.dinputs)\n",
    "activation1.backward(dense2.dinputs)\n",
    "dense1.backward(activation1.dinputs)\n",
    "\n",
    "# Print gradients\n",
    "print(dense1.dweights)\n",
    "print(dense1.dbiases)\n",
    "print(dense2.dweights)\n",
    "print(dense2.dbiases)"
   ],
   "metadata": {
    "collapsed": false,
    "ExecuteTime": {
     "end_time": "2023-06-21T13:31:53.047930200Z",
     "start_time": "2023-06-21T13:31:52.349563900Z"
    }
   }
  },
  {
   "cell_type": "markdown",
   "source": [
    "### Stochastic Gradient Descent\n",
    "\n",
    "Zum Optimieren unserer Kostenfunktionen wollen wir nun die Funktion Stochastic Gradient Descent einführen. Es handelt sich dabei um den vorher angesprochenen Gradientenabstieg, also das schrittweise gehen in Richtung des Minimums anand des aktuellen Anstiegs. Um etwas feingranularer in eine bestimmte Richtung gehen zu können verwenden wir die Lernrate. Diese gibt wie stark wir in Richtung des Abstiegs gehen. Dabei ist die Verwendung einer guten Lernrate sehr wichtig, wobei die optimale Lernrate nicht universal ist."
   ],
   "metadata": {
    "collapsed": false
   }
  },
  {
   "cell_type": "code",
   "execution_count": 30,
   "outputs": [
    {
     "data": {
      "text/plain": "<IPython.core.display.HTML object>",
      "text/html": "<iframe width=\"560\" height=\"315\" src=\"https://www.youtube.com/embed/B4qIVGwky4c?controls=0\" title=\"YouTube video player\" frameborder=\"0\" allow=\"accelerometer; autoplay; clipboard-write; encrypted-media; gyroscope; picture-in-picture; web-share\" allowfullscreen></iframe>\n"
     },
     "metadata": {},
     "output_type": "display_data"
    }
   ],
   "source": [
    "%%HTML\n",
    "<iframe width=\"560\" height=\"315\" src=\"https://www.youtube.com/embed/B4qIVGwky4c?controls=0\" title=\"YouTube video player\" frameborder=\"0\" allow=\"accelerometer; autoplay; clipboard-write; encrypted-media; gyroscope; picture-in-picture; web-share\" allowfullscreen></iframe>"
   ],
   "metadata": {
    "collapsed": false,
    "ExecuteTime": {
     "end_time": "2023-06-21T13:31:53.276926600Z",
     "start_time": "2023-06-21T13:31:52.676110800Z"
    }
   }
  },
  {
   "cell_type": "code",
   "execution_count": 31,
   "outputs": [
    {
     "data": {
      "text/plain": "<IPython.core.display.HTML object>",
      "text/html": "<iframe width=\"560\" height=\"315\" src=\"https://www.youtube.com/embed/CeCBgQXb8Sw?controls=0\" title=\"YouTube video player\" frameborder=\"0\" allow=\"accelerometer; autoplay; clipboard-write; encrypted-media; gyroscope; picture-in-picture; web-share\" allowfullscreen></iframe>\n"
     },
     "metadata": {},
     "output_type": "display_data"
    }
   ],
   "source": [
    "%%HTML\n",
    "<iframe width=\"560\" height=\"315\" src=\"https://www.youtube.com/embed/CeCBgQXb8Sw?controls=0\" title=\"YouTube video player\" frameborder=\"0\" allow=\"accelerometer; autoplay; clipboard-write; encrypted-media; gyroscope; picture-in-picture; web-share\" allowfullscreen></iframe>"
   ],
   "metadata": {
    "collapsed": false,
    "ExecuteTime": {
     "end_time": "2023-06-21T13:31:53.277926700Z",
     "start_time": "2023-06-21T13:31:52.743798600Z"
    }
   }
  },
  {
   "cell_type": "code",
   "execution_count": 32,
   "outputs": [
    {
     "data": {
      "text/plain": "<IPython.core.display.HTML object>",
      "text/html": "<iframe width=\"560\" height=\"315\" src=\"https://www.youtube.com/embed/37xsHIH7q3c?controls=0\" title=\"YouTube video player\" frameborder=\"0\" allow=\"accelerometer; autoplay; clipboard-write; encrypted-media; gyroscope; picture-in-picture; web-share\" allowfullscreen></iframe>\n"
     },
     "metadata": {},
     "output_type": "display_data"
    }
   ],
   "source": [
    "%%HTML\n",
    "<iframe width=\"560\" height=\"315\" src=\"https://www.youtube.com/embed/37xsHIH7q3c?controls=0\" title=\"YouTube video player\" frameborder=\"0\" allow=\"accelerometer; autoplay; clipboard-write; encrypted-media; gyroscope; picture-in-picture; web-share\" allowfullscreen></iframe>"
   ],
   "metadata": {
    "collapsed": false,
    "ExecuteTime": {
     "end_time": "2023-06-21T13:31:53.279927Z",
     "start_time": "2023-06-21T13:31:52.788929500Z"
    }
   }
  },
  {
   "cell_type": "code",
   "execution_count": 33,
   "outputs": [],
   "source": [
    "# SGD optimizer\n",
    "class Optimizer_SGD:\n",
    "\n",
    "    # Initialize optimizer - set settings,\n",
    "    # learning rate of 1. is default for this optimizer\n",
    "    def __init__(self, learning_rate=1.):\n",
    "        self.learning_rate = learning_rate\n",
    "        self.current_learning_rate = learning_rate\n",
    "\n",
    "    # Update parameters\n",
    "    def update_params(self, layer):\n",
    "\n",
    "        weight_updates = -self.current_learning_rate * \\\n",
    "                         layer.dweights\n",
    "        bias_updates = -self.current_learning_rate * \\\n",
    "                       layer.dbiases\n",
    "\n",
    "        # Update weights and biases using either\n",
    "        # vanilla or momentum updates\n",
    "        layer.weights += weight_updates\n",
    "        layer.biases += bias_updates"
   ],
   "metadata": {
    "collapsed": false,
    "ExecuteTime": {
     "end_time": "2023-06-21T13:31:53.397930900Z",
     "start_time": "2023-06-21T13:31:52.824927600Z"
    }
   }
  },
  {
   "cell_type": "code",
   "execution_count": 34,
   "outputs": [
    {
     "name": "stdout",
     "output_type": "stream",
     "text": [
      "epoch: 0, acc: 0.347, loss: 1.099, lr: 1.0\n",
      "epoch: 100, acc: 0.407, loss: 1.070, lr: 1.0\n",
      "epoch: 200, acc: 0.410, loss: 1.064, lr: 1.0\n",
      "epoch: 300, acc: 0.427, loss: 1.061, lr: 1.0\n",
      "epoch: 400, acc: 0.420, loss: 1.059, lr: 1.0\n",
      "epoch: 500, acc: 0.420, loss: 1.056, lr: 1.0\n",
      "epoch: 600, acc: 0.420, loss: 1.052, lr: 1.0\n",
      "epoch: 700, acc: 0.433, loss: 1.043, lr: 1.0\n",
      "epoch: 800, acc: 0.453, loss: 1.029, lr: 1.0\n",
      "epoch: 900, acc: 0.503, loss: 1.014, lr: 1.0\n",
      "epoch: 1000, acc: 0.450, loss: 1.018, lr: 1.0\n",
      "epoch: 1100, acc: 0.460, loss: 1.013, lr: 1.0\n",
      "epoch: 1200, acc: 0.437, loss: 1.007, lr: 1.0\n",
      "epoch: 1300, acc: 0.453, loss: 1.005, lr: 1.0\n",
      "epoch: 1400, acc: 0.420, loss: 1.002, lr: 1.0\n",
      "epoch: 1500, acc: 0.450, loss: 0.990, lr: 1.0\n",
      "epoch: 1600, acc: 0.443, loss: 0.996, lr: 1.0\n",
      "epoch: 1700, acc: 0.487, loss: 0.983, lr: 1.0\n",
      "epoch: 1800, acc: 0.470, loss: 0.972, lr: 1.0\n",
      "epoch: 1900, acc: 0.473, loss: 0.964, lr: 1.0\n",
      "epoch: 2000, acc: 0.500, loss: 0.952, lr: 1.0\n",
      "epoch: 2100, acc: 0.490, loss: 0.945, lr: 1.0\n",
      "epoch: 2200, acc: 0.517, loss: 0.943, lr: 1.0\n",
      "epoch: 2300, acc: 0.517, loss: 0.925, lr: 1.0\n",
      "epoch: 2400, acc: 0.533, loss: 0.923, lr: 1.0\n",
      "epoch: 2500, acc: 0.520, loss: 0.908, lr: 1.0\n",
      "epoch: 2600, acc: 0.537, loss: 0.900, lr: 1.0\n",
      "epoch: 2700, acc: 0.553, loss: 0.872, lr: 1.0\n",
      "epoch: 2800, acc: 0.540, loss: 0.859, lr: 1.0\n",
      "epoch: 2900, acc: 0.583, loss: 0.844, lr: 1.0\n",
      "epoch: 3000, acc: 0.600, loss: 0.838, lr: 1.0\n",
      "epoch: 3100, acc: 0.607, loss: 0.845, lr: 1.0\n",
      "epoch: 3200, acc: 0.567, loss: 0.977, lr: 1.0\n",
      "epoch: 3300, acc: 0.583, loss: 0.896, lr: 1.0\n",
      "epoch: 3400, acc: 0.597, loss: 0.859, lr: 1.0\n",
      "epoch: 3500, acc: 0.607, loss: 0.835, lr: 1.0\n",
      "epoch: 3600, acc: 0.600, loss: 0.852, lr: 1.0\n",
      "epoch: 3700, acc: 0.580, loss: 0.862, lr: 1.0\n",
      "epoch: 3800, acc: 0.597, loss: 0.816, lr: 1.0\n",
      "epoch: 3900, acc: 0.660, loss: 0.746, lr: 1.0\n",
      "epoch: 4000, acc: 0.527, loss: 0.901, lr: 1.0\n",
      "epoch: 4100, acc: 0.617, loss: 0.805, lr: 1.0\n",
      "epoch: 4200, acc: 0.683, loss: 0.710, lr: 1.0\n",
      "epoch: 4300, acc: 0.650, loss: 0.707, lr: 1.0\n",
      "epoch: 4400, acc: 0.613, loss: 0.792, lr: 1.0\n",
      "epoch: 4500, acc: 0.640, loss: 0.743, lr: 1.0\n",
      "epoch: 4600, acc: 0.650, loss: 0.734, lr: 1.0\n",
      "epoch: 4700, acc: 0.637, loss: 0.801, lr: 1.0\n",
      "epoch: 4800, acc: 0.650, loss: 0.733, lr: 1.0\n",
      "epoch: 4900, acc: 0.667, loss: 0.706, lr: 1.0\n",
      "epoch: 5000, acc: 0.680, loss: 0.677, lr: 1.0\n",
      "epoch: 5100, acc: 0.693, loss: 0.668, lr: 1.0\n",
      "epoch: 5200, acc: 0.680, loss: 0.671, lr: 1.0\n",
      "epoch: 5300, acc: 0.683, loss: 0.650, lr: 1.0\n",
      "epoch: 5400, acc: 0.683, loss: 0.672, lr: 1.0\n",
      "epoch: 5500, acc: 0.663, loss: 0.738, lr: 1.0\n",
      "epoch: 5600, acc: 0.697, loss: 0.645, lr: 1.0\n",
      "epoch: 5700, acc: 0.687, loss: 0.643, lr: 1.0\n",
      "epoch: 5800, acc: 0.553, loss: 0.973, lr: 1.0\n",
      "epoch: 5900, acc: 0.697, loss: 0.629, lr: 1.0\n",
      "epoch: 6000, acc: 0.700, loss: 0.635, lr: 1.0\n",
      "epoch: 6100, acc: 0.490, loss: 1.333, lr: 1.0\n",
      "epoch: 6200, acc: 0.710, loss: 0.626, lr: 1.0\n",
      "epoch: 6300, acc: 0.707, loss: 0.625, lr: 1.0\n",
      "epoch: 6400, acc: 0.643, loss: 0.751, lr: 1.0\n",
      "epoch: 6500, acc: 0.707, loss: 0.625, lr: 1.0\n",
      "epoch: 6600, acc: 0.710, loss: 0.617, lr: 1.0\n",
      "epoch: 6700, acc: 0.707, loss: 0.631, lr: 1.0\n",
      "epoch: 6800, acc: 0.697, loss: 0.651, lr: 1.0\n",
      "epoch: 6900, acc: 0.713, loss: 0.618, lr: 1.0\n",
      "epoch: 7000, acc: 0.703, loss: 0.632, lr: 1.0\n",
      "epoch: 7100, acc: 0.697, loss: 0.640, lr: 1.0\n",
      "epoch: 7200, acc: 0.713, loss: 0.606, lr: 1.0\n",
      "epoch: 7300, acc: 0.690, loss: 0.663, lr: 1.0\n",
      "epoch: 7400, acc: 0.707, loss: 0.606, lr: 1.0\n",
      "epoch: 7500, acc: 0.710, loss: 0.612, lr: 1.0\n",
      "epoch: 7600, acc: 0.710, loss: 0.616, lr: 1.0\n",
      "epoch: 7700, acc: 0.710, loss: 0.604, lr: 1.0\n",
      "epoch: 7800, acc: 0.703, loss: 0.628, lr: 1.0\n",
      "epoch: 7900, acc: 0.710, loss: 0.603, lr: 1.0\n",
      "epoch: 8000, acc: 0.707, loss: 0.616, lr: 1.0\n",
      "epoch: 8100, acc: 0.710, loss: 0.605, lr: 1.0\n",
      "epoch: 8200, acc: 0.710, loss: 0.617, lr: 1.0\n",
      "epoch: 8300, acc: 0.710, loss: 0.626, lr: 1.0\n",
      "epoch: 8400, acc: 0.707, loss: 0.603, lr: 1.0\n",
      "epoch: 8500, acc: 0.463, loss: 1.761, lr: 1.0\n",
      "epoch: 8600, acc: 0.720, loss: 0.591, lr: 1.0\n",
      "epoch: 8700, acc: 0.713, loss: 0.604, lr: 1.0\n",
      "epoch: 8800, acc: 0.697, loss: 0.660, lr: 1.0\n",
      "epoch: 8900, acc: 0.723, loss: 0.588, lr: 1.0\n",
      "epoch: 9000, acc: 0.717, loss: 0.593, lr: 1.0\n",
      "epoch: 9100, acc: 0.670, loss: 0.720, lr: 1.0\n",
      "epoch: 9200, acc: 0.713, loss: 0.594, lr: 1.0\n",
      "epoch: 9300, acc: 0.723, loss: 0.585, lr: 1.0\n",
      "epoch: 9400, acc: 0.727, loss: 0.598, lr: 1.0\n",
      "epoch: 9500, acc: 0.673, loss: 0.723, lr: 1.0\n",
      "epoch: 9600, acc: 0.730, loss: 0.579, lr: 1.0\n",
      "epoch: 9700, acc: 0.713, loss: 0.588, lr: 1.0\n",
      "epoch: 9800, acc: 0.723, loss: 0.581, lr: 1.0\n",
      "epoch: 9900, acc: 0.727, loss: 0.591, lr: 1.0\n",
      "epoch: 10000, acc: 0.723, loss: 0.595, lr: 1.0\n"
     ]
    }
   ],
   "source": [
    "# Create dataset\n",
    "X, y = spiral_data(samples=100, classes=3)\n",
    "\n",
    "# Create Dense layer with 2 input features and 64 output values\n",
    "dense1 = Layer_Dense(2, 64)\n",
    "\n",
    "# Create ReLU activation (to be used with Dense layer):\n",
    "activation1 = Activation_ReLU()\n",
    "\n",
    "# Create second Dense layer with 64 input features (as we take output\n",
    "# of previous layer here) and 3 output values (output values)\n",
    "dense2 = Layer_Dense(64, 3)\n",
    "# Create Softmax classifier's combined loss and activation\n",
    "loss_activation = Activation_Softmax_Loss_CategoricalCrossentropy()\n",
    "\n",
    "# Create optimizer\n",
    "optimizer = Optimizer_SGD()\n",
    "\n",
    "# Train in loop\n",
    "for epoch in range(10001):\n",
    "\n",
    "    # Perform a forward pass of our training data through this layer\n",
    "    dense1.forward(X)\n",
    "\n",
    "    # Perform a forward pass through activation function\n",
    "    # takes the output of first dense layer here\n",
    "    activation1.forward(dense1.output)\n",
    "\n",
    "    # Perform a forward pass through second Dense layer\n",
    "    # takes outputs of activation function of first layer as inputs\n",
    "    dense2.forward(activation1.output)\n",
    "\n",
    "    # Perform a forward pass through the activation/loss function\n",
    "    # takes the output of second dense layer here and returns loss\n",
    "    loss = loss_activation.forward(dense2.output, y)\n",
    "\n",
    "    # Calculate accuracy from output of activation2 and targets\n",
    "    # calculate values along first axis\n",
    "    predictions = np.argmax(loss_activation.output, axis=1)\n",
    "    if len(y.shape) == 2:\n",
    "        y = np.argmax(y, axis=1)\n",
    "    accuracy = np.mean(predictions==y)\n",
    "\n",
    "    if not epoch % 100:\n",
    "        print(f'epoch: {epoch}, ' +\n",
    "              f'acc: {accuracy:.3f}, ' +\n",
    "              f'loss: {loss:.3f}, ' +\n",
    "              f'lr: {optimizer.current_learning_rate}')\n",
    "\n",
    "    # Backward pass\n",
    "    loss_activation.backward(loss_activation.output, y)\n",
    "    dense2.backward(loss_activation.dinputs)\n",
    "    activation1.backward(dense2.dinputs)\n",
    "    dense1.backward(activation1.dinputs)\n",
    "\n",
    "    # Update weights and biases\n",
    "    optimizer.update_params(dense1)\n",
    "    optimizer.update_params(dense2)"
   ],
   "metadata": {
    "collapsed": false,
    "ExecuteTime": {
     "end_time": "2023-06-21T13:32:18.432415700Z",
     "start_time": "2023-06-21T13:31:52.896928800Z"
    }
   }
  },
  {
   "cell_type": "markdown",
   "source": [
    "**Aufgabe 4:** Testen Sie verschiedener Lernraten!"
   ],
   "metadata": {
    "collapsed": false
   }
  },
  {
   "cell_type": "code",
   "execution_count": 35,
   "outputs": [
    {
     "name": "stdout",
     "output_type": "stream",
     "text": [
      "epoch: 0, acc: 0.367, loss: 1.099, lr: 1.0\n",
      "epoch: 100, acc: 0.413, loss: 1.063, lr: 0.9099181073703367\n",
      "epoch: 200, acc: 0.413, loss: 1.061, lr: 0.8340283569641367\n",
      "epoch: 300, acc: 0.423, loss: 1.060, lr: 0.7698229407236336\n",
      "epoch: 400, acc: 0.410, loss: 1.057, lr: 0.7147962830593281\n",
      "epoch: 500, acc: 0.427, loss: 1.052, lr: 0.66711140760507\n",
      "epoch: 600, acc: 0.440, loss: 1.036, lr: 0.6253908692933083\n",
      "epoch: 700, acc: 0.473, loss: 1.009, lr: 0.5885815185403178\n",
      "epoch: 800, acc: 0.523, loss: 0.975, lr: 0.5558643690939411\n",
      "epoch: 900, acc: 0.520, loss: 0.967, lr: 0.526592943654555\n",
      "epoch: 1000, acc: 0.473, loss: 0.963, lr: 0.5002501250625312\n",
      "epoch: 1100, acc: 0.477, loss: 0.953, lr: 0.4764173415912339\n",
      "epoch: 1200, acc: 0.480, loss: 0.948, lr: 0.45475216007276037\n",
      "epoch: 1300, acc: 0.497, loss: 0.940, lr: 0.43497172683775553\n",
      "epoch: 1400, acc: 0.513, loss: 0.931, lr: 0.4168403501458941\n",
      "epoch: 1500, acc: 0.520, loss: 0.927, lr: 0.4001600640256102\n",
      "epoch: 1600, acc: 0.507, loss: 0.917, lr: 0.3847633705271258\n",
      "epoch: 1700, acc: 0.547, loss: 0.934, lr: 0.3705075954057058\n",
      "epoch: 1800, acc: 0.513, loss: 0.887, lr: 0.35727045373347627\n",
      "epoch: 1900, acc: 0.513, loss: 0.916, lr: 0.3449465332873405\n",
      "epoch: 2000, acc: 0.577, loss: 0.909, lr: 0.33344448149383127\n",
      "epoch: 2100, acc: 0.497, loss: 0.922, lr: 0.32268473701193934\n",
      "epoch: 2200, acc: 0.547, loss: 0.900, lr: 0.31259768677711786\n",
      "epoch: 2300, acc: 0.520, loss: 0.853, lr: 0.3031221582297666\n",
      "epoch: 2400, acc: 0.523, loss: 0.883, lr: 0.29420417769932333\n",
      "epoch: 2500, acc: 0.570, loss: 0.881, lr: 0.2857959416976279\n",
      "epoch: 2600, acc: 0.540, loss: 0.840, lr: 0.2778549597110308\n",
      "epoch: 2700, acc: 0.543, loss: 0.860, lr: 0.2703433360367667\n",
      "epoch: 2800, acc: 0.560, loss: 0.858, lr: 0.26322716504343247\n",
      "epoch: 2900, acc: 0.600, loss: 0.867, lr: 0.25647601949217746\n",
      "epoch: 3000, acc: 0.567, loss: 0.822, lr: 0.25006251562890724\n",
      "epoch: 3100, acc: 0.573, loss: 0.816, lr: 0.2439619419370578\n",
      "epoch: 3200, acc: 0.603, loss: 0.827, lr: 0.23815194093831865\n",
      "epoch: 3300, acc: 0.617, loss: 0.827, lr: 0.23261223540358225\n",
      "epoch: 3400, acc: 0.613, loss: 0.816, lr: 0.22732439190725165\n",
      "epoch: 3500, acc: 0.600, loss: 0.804, lr: 0.22227161591464767\n",
      "epoch: 3600, acc: 0.597, loss: 0.786, lr: 0.21743857360295715\n",
      "epoch: 3700, acc: 0.650, loss: 0.820, lr: 0.21281123643328367\n",
      "epoch: 3800, acc: 0.613, loss: 0.803, lr: 0.20837674515524068\n",
      "epoch: 3900, acc: 0.623, loss: 0.780, lr: 0.20412329046744235\n",
      "epoch: 4000, acc: 0.630, loss: 0.783, lr: 0.2000400080016003\n",
      "epoch: 4100, acc: 0.613, loss: 0.762, lr: 0.19611688566385566\n",
      "epoch: 4200, acc: 0.613, loss: 0.775, lr: 0.19234468166955185\n",
      "epoch: 4300, acc: 0.643, loss: 0.773, lr: 0.18871485185884126\n",
      "epoch: 4400, acc: 0.647, loss: 0.754, lr: 0.18521948508983144\n",
      "epoch: 4500, acc: 0.643, loss: 0.764, lr: 0.18185124568103292\n",
      "epoch: 4600, acc: 0.647, loss: 0.757, lr: 0.1786033220217896\n",
      "epoch: 4700, acc: 0.650, loss: 0.724, lr: 0.1754693805930865\n",
      "epoch: 4800, acc: 0.640, loss: 0.733, lr: 0.17244352474564578\n",
      "epoch: 4900, acc: 0.677, loss: 0.719, lr: 0.16952025767079165\n",
      "epoch: 5000, acc: 0.647, loss: 0.730, lr: 0.16669444907484582\n",
      "epoch: 5100, acc: 0.673, loss: 0.710, lr: 0.16396130513198884\n",
      "epoch: 5200, acc: 0.657, loss: 0.723, lr: 0.16131634134537828\n",
      "epoch: 5300, acc: 0.683, loss: 0.697, lr: 0.15875535799333226\n",
      "epoch: 5400, acc: 0.667, loss: 0.699, lr: 0.1562744178777934\n",
      "epoch: 5500, acc: 0.690, loss: 0.688, lr: 0.15386982612709646\n",
      "epoch: 5600, acc: 0.710, loss: 0.703, lr: 0.15153811183512653\n",
      "epoch: 5700, acc: 0.690, loss: 0.704, lr: 0.14927601134497687\n",
      "epoch: 5800, acc: 0.713, loss: 0.667, lr: 0.14708045300779526\n",
      "epoch: 5900, acc: 0.690, loss: 0.660, lr: 0.14494854326714016\n",
      "epoch: 6000, acc: 0.690, loss: 0.648, lr: 0.1428775539362766\n",
      "epoch: 6100, acc: 0.730, loss: 0.639, lr: 0.1408649105507818\n",
      "epoch: 6200, acc: 0.687, loss: 0.687, lr: 0.13890818169190167\n",
      "epoch: 6300, acc: 0.720, loss: 0.646, lr: 0.13700506918755992\n",
      "epoch: 6400, acc: 0.733, loss: 0.621, lr: 0.13515339910798757\n",
      "epoch: 6500, acc: 0.707, loss: 0.652, lr: 0.13335111348179757\n",
      "epoch: 6600, acc: 0.727, loss: 0.631, lr: 0.13159626266614027\n",
      "epoch: 6700, acc: 0.737, loss: 0.606, lr: 0.12988699831146902\n",
      "epoch: 6800, acc: 0.740, loss: 0.588, lr: 0.12822156686754713\n",
      "epoch: 6900, acc: 0.730, loss: 0.610, lr: 0.126598303582732\n",
      "epoch: 7000, acc: 0.717, loss: 0.614, lr: 0.12501562695336915\n",
      "epoch: 7100, acc: 0.727, loss: 0.589, lr: 0.12347203358439313\n",
      "epoch: 7200, acc: 0.723, loss: 0.596, lr: 0.12196609342602757\n",
      "epoch: 7300, acc: 0.763, loss: 0.566, lr: 0.12049644535486204\n",
      "epoch: 7400, acc: 0.777, loss: 0.560, lr: 0.11906179307060363\n",
      "epoch: 7500, acc: 0.777, loss: 0.562, lr: 0.11766090128250381\n",
      "epoch: 7600, acc: 0.753, loss: 0.558, lr: 0.11629259216187929\n",
      "epoch: 7700, acc: 0.747, loss: 0.568, lr: 0.11495574203931487\n",
      "epoch: 7800, acc: 0.747, loss: 0.550, lr: 0.11364927832708263\n",
      "epoch: 7900, acc: 0.757, loss: 0.535, lr: 0.11237217664906168\n",
      "epoch: 8000, acc: 0.770, loss: 0.542, lr: 0.11112345816201799\n",
      "epoch: 8100, acc: 0.780, loss: 0.512, lr: 0.10990218705352237\n",
      "epoch: 8200, acc: 0.787, loss: 0.522, lr: 0.10870746820306555\n",
      "epoch: 8300, acc: 0.793, loss: 0.511, lr: 0.1075384449940854\n",
      "epoch: 8400, acc: 0.793, loss: 0.502, lr: 0.10639429726566654\n",
      "epoch: 8500, acc: 0.813, loss: 0.490, lr: 0.10527423939362038\n",
      "epoch: 8600, acc: 0.827, loss: 0.486, lr: 0.10417751849150952\n",
      "epoch: 8700, acc: 0.823, loss: 0.478, lr: 0.10310341272296113\n",
      "epoch: 8800, acc: 0.830, loss: 0.474, lr: 0.1020512297173181\n",
      "epoch: 8900, acc: 0.823, loss: 0.472, lr: 0.10102030508132134\n",
      "epoch: 9000, acc: 0.810, loss: 0.469, lr: 0.1000100010001\n",
      "epoch: 9100, acc: 0.807, loss: 0.462, lr: 0.09901970492127933\n",
      "epoch: 9200, acc: 0.817, loss: 0.455, lr: 0.09804882831650162\n",
      "epoch: 9300, acc: 0.827, loss: 0.450, lr: 0.09709680551509856\n",
      "epoch: 9400, acc: 0.833, loss: 0.444, lr: 0.09616309260505818\n",
      "epoch: 9500, acc: 0.837, loss: 0.439, lr: 0.09524716639679968\n",
      "epoch: 9600, acc: 0.837, loss: 0.435, lr: 0.09434852344560807\n",
      "epoch: 9700, acc: 0.847, loss: 0.430, lr: 0.09346667912889055\n",
      "epoch: 9800, acc: 0.843, loss: 0.426, lr: 0.09260116677470137\n",
      "epoch: 9900, acc: 0.853, loss: 0.421, lr: 0.09175153683824203\n",
      "epoch: 10000, acc: 0.850, loss: 0.417, lr: 0.09091735612328393\n"
     ]
    }
   ],
   "source": [
    "class Optimizer_SGD:\n",
    "\n",
    "    # Initialize optimizer - set settings,\n",
    "    # learning rate of 1. is default for this optimizer\n",
    "    def __init__(self, learning_rate=1., decay=0., momentum=0.):\n",
    "        self.learning_rate = learning_rate\n",
    "        self.current_learning_rate = learning_rate\n",
    "        self.decay = decay\n",
    "        self.iterations = 0\n",
    "        self.momentum = momentum\n",
    "\n",
    "    # Call once before any parameter updates\n",
    "    def pre_update_params(self):\n",
    "        if self.decay:\n",
    "            self.current_learning_rate = self.learning_rate * \\\n",
    "                (1. / (1. + self.decay * self.iterations))\n",
    "\n",
    "    # Update parameters\n",
    "    def update_params(self, layer):\n",
    "\n",
    "        # If we use momentum\n",
    "        if self.momentum:\n",
    "\n",
    "            # If layer does not contain momentum arrays, create them\n",
    "            # filled with zeros\n",
    "            if not hasattr(layer, 'weight_momentums'):\n",
    "                layer.weight_momentums = np.zeros_like(layer.weights)\n",
    "                # If there is no momentum array for weights\n",
    "                # The array doesn't exist for biases yet either.\n",
    "                layer.bias_momentums = np.zeros_like(layer.biases)\n",
    "\n",
    "            # Build weight updates with momentum - take previous\n",
    "            # updates multiplied by retain factor and update with\n",
    "            # current gradients\n",
    "            weight_updates = \\\n",
    "                self.momentum * layer.weight_momentums - \\\n",
    "                self.current_learning_rate * layer.dweights\n",
    "            layer.weight_momentums = weight_updates\n",
    "\n",
    "            # Build bias updates\n",
    "            bias_updates = \\\n",
    "                self.momentum * layer.bias_momentums - \\\n",
    "                self.current_learning_rate * layer.dbiases\n",
    "            layer.bias_momentums = bias_updates\n",
    "\n",
    "        # Vanilla SGD updates (as before momentum update)\n",
    "        else:\n",
    "            weight_updates = -self.current_learning_rate * \\\n",
    "                             layer.dweights\n",
    "            bias_updates = -self.current_learning_rate * \\\n",
    "                           layer.dbiases\n",
    "\n",
    "        # Update weights and biases using either\n",
    "        # vanilla or momentum updates\n",
    "        layer.weights += weight_updates\n",
    "        layer.biases += bias_updates\n",
    "\n",
    "\n",
    "    # Call once after any parameter updates\n",
    "    def post_update_params(self):\n",
    "        self.iterations += 1\n",
    "\n",
    "# Create dataset\n",
    "X, y = spiral_data(samples=100, classes=3)\n",
    "\n",
    "# Create Dense layer with 2 input features and 64 output values\n",
    "dense1 = Layer_Dense(2, 64)\n",
    "\n",
    "# Create ReLU activation (to be used with Dense layer):\n",
    "activation1 = Activation_ReLU()\n",
    "\n",
    "# Create second Dense layer with 64 input features (as we take output\n",
    "# of previous layer here) and 3 output values (output values)\n",
    "dense2 = Layer_Dense(64, 3)\n",
    "# Create Softmax classifier's combined loss and activation\n",
    "loss_activation = Activation_Softmax_Loss_CategoricalCrossentropy()\n",
    "\n",
    "# Create optimizer\n",
    "optimizer = Optimizer_SGD(decay=1e-3, momentum=0.5)\n",
    "\n",
    "# Train in loop\n",
    "for epoch in range(10001):\n",
    "\n",
    "    # Perform a forward pass of our training data through this layer\n",
    "    dense1.forward(X)\n",
    "\n",
    "    # Perform a forward pass through activation function\n",
    "    # takes the output of first dense layer here\n",
    "    activation1.forward(dense1.output)\n",
    "\n",
    "    # Perform a forward pass through second Dense layer\n",
    "    # takes outputs of activation function of first layer as inputs\n",
    "    dense2.forward(activation1.output)\n",
    "\n",
    "    # Perform a forward pass through the activation/loss function\n",
    "    # takes the output of second dense layer here and returns loss\n",
    "    loss = loss_activation.forward(dense2.output, y)\n",
    "\n",
    "    # Calculate accuracy from output of activation2 and targets\n",
    "    # calculate values along first axis\n",
    "    predictions = np.argmax(loss_activation.output, axis=1)\n",
    "    if len(y.shape) == 2:\n",
    "        y = np.argmax(y, axis=1)\n",
    "    accuracy = np.mean(predictions==y)\n",
    "\n",
    "    if not epoch % 100:\n",
    "        print(f'epoch: {epoch}, ' +\n",
    "              f'acc: {accuracy:.3f}, ' +\n",
    "              f'loss: {loss:.3f}, ' +\n",
    "              f'lr: {optimizer.current_learning_rate}')\n",
    "\n",
    "    # Backward pass\n",
    "    loss_activation.backward(loss_activation.output, y)\n",
    "    dense2.backward(loss_activation.dinputs)\n",
    "    activation1.backward(dense2.dinputs)\n",
    "    dense1.backward(activation1.dinputs)\n",
    "\n",
    "    # Update weights and biases\n",
    "    optimizer.pre_update_params()\n",
    "    optimizer.update_params(dense1)\n",
    "    optimizer.update_params(dense2)\n",
    "    optimizer.post_update_params()"
   ],
   "metadata": {
    "collapsed": false,
    "ExecuteTime": {
     "end_time": "2023-06-21T13:32:31.411302400Z",
     "start_time": "2023-06-21T13:32:18.439418200Z"
    }
   }
  },
  {
   "cell_type": "markdown",
   "source": [
    "## Lernen des MNIST-Datensatzes\n",
    "\n",
    "Im Folgenden wollen wir uns mit dem MNIST Datensatz auseinandersetzen. Dafür werden wir zuerst die Daten in eine Form bringen, die unseren vorherigen entspricht."
   ],
   "metadata": {
    "collapsed": false
   }
  },
  {
   "cell_type": "code",
   "execution_count": 36,
   "outputs": [],
   "source": [
    "from keras.datasets import mnist\n",
    "import keras\n",
    "\n",
    "num_classes = 10\n",
    "(X, Y), _ = mnist.load_data()\n",
    "\n",
    "X = X.astype(\"float32\") / 255\n",
    "X = X.reshape(60000, 784)\n",
    "\n",
    "Y = keras.utils.to_categorical(Y, num_classes)"
   ],
   "metadata": {
    "collapsed": false,
    "ExecuteTime": {
     "end_time": "2023-06-21T13:32:38.915074200Z",
     "start_time": "2023-06-21T13:32:31.423303300Z"
    }
   }
  },
  {
   "cell_type": "markdown",
   "source": [
    "![](resources/mnist.jpg)\n",
    "Quelle: https://sefiks.com/2018/08/15/from-neural-networks-to-deep-learning/\n",
    "\n",
    "Nun wollen wir noch zwei Hilfsfunktionen definieren. Zum einen die Funktion `get_batch`, die uns immer 128 zufällige Werte aus dem neuronalen Netz gibt und `show_sample`, die uns hilft das Bild für eines Inputs anzuzeigen."
   ],
   "metadata": {
    "collapsed": false
   }
  },
  {
   "cell_type": "code",
   "execution_count": 37,
   "outputs": [],
   "source": [
    "def get_batch():\n",
    "    idx = np.random.randint(60000, size=128)\n",
    "    return X[idx, :], Y[idx, :]"
   ],
   "metadata": {
    "collapsed": false,
    "ExecuteTime": {
     "end_time": "2023-06-21T13:32:38.927086700Z",
     "start_time": "2023-06-21T13:32:38.920081500Z"
    }
   }
  },
  {
   "cell_type": "code",
   "execution_count": 38,
   "outputs": [],
   "source": [
    "from matplotlib import pyplot as plt\n",
    "\n",
    "def show_sample(x):\n",
    "    plt.imshow(x.reshape(28,28), cmap='gray', interpolation='none')\n",
    "    plt.axis('off')"
   ],
   "metadata": {
    "collapsed": false,
    "ExecuteTime": {
     "end_time": "2023-06-21T13:32:38.989108100Z",
     "start_time": "2023-06-21T13:32:38.931083100Z"
    }
   }
  },
  {
   "cell_type": "markdown",
   "source": [
    "Nun verwenden wir die Klassen, die wir vorher bereits definiert haben, um ein neuronales Netz für unser neues Problem zu implementieren."
   ],
   "metadata": {
    "collapsed": false
   }
  },
  {
   "cell_type": "code",
   "execution_count": 39,
   "outputs": [
    {
     "name": "stdout",
     "output_type": "stream",
     "text": [
      "epoch: 0, acc: 0.109, loss: 2.300, lr: 1.0\n",
      "epoch: 100, acc: 0.938, loss: 0.215, lr: 0.9099181073703367\n",
      "epoch: 200, acc: 0.969, loss: 0.090, lr: 0.8340283569641367\n",
      "epoch: 300, acc: 0.984, loss: 0.058, lr: 0.7698229407236336\n",
      "epoch: 400, acc: 0.969, loss: 0.112, lr: 0.7147962830593281\n",
      "epoch: 500, acc: 0.961, loss: 0.079, lr: 0.66711140760507\n",
      "epoch: 600, acc: 0.969, loss: 0.102, lr: 0.6253908692933083\n",
      "epoch: 700, acc: 0.984, loss: 0.053, lr: 0.5885815185403178\n"
     ]
    }
   ],
   "source": [
    "# Create Dense layer with 784 input features and 10000 output values\n",
    "dense1 = Layer_Dense(784, 10000)\n",
    "\n",
    "# Create ReLU activation (to be used with Dense layer):\n",
    "activation1 = Activation_ReLU()\n",
    "\n",
    "# Create second Dense layer with 10000 input features (as we take output\n",
    "# of previous layer here) and 10 output values (output values)\n",
    "dense2 = Layer_Dense(10000, 10)\n",
    "# Create Softmax classifier's combined loss and activation\n",
    "loss_activation = Activation_Softmax_Loss_CategoricalCrossentropy()\n",
    "\n",
    "# Create optimizer\n",
    "optimizer = Optimizer_SGD(decay=1e-3, momentum=0.5)\n",
    "\n",
    "# Train in loop\n",
    "for epoch in range(701):\n",
    "    x, y = get_batch()\n",
    "\n",
    "    # Perform a forward pass of our training data through this layer\n",
    "    dense1.forward(x)\n",
    "\n",
    "    # Perform a forward pass through activation function\n",
    "    # takes the output of first dense layer here\n",
    "    activation1.forward(dense1.output)\n",
    "\n",
    "    # Perform a forward pass through second Dense layer\n",
    "    # takes outputs of activation function of first layer as inputs\n",
    "    dense2.forward(activation1.output)\n",
    "\n",
    "    # Perform a forward pass through the activation/loss function\n",
    "    # takes the output of second dense layer here and returns loss\n",
    "    loss = loss_activation.forward(dense2.output, y)\n",
    "\n",
    "    # Calculate accuracy from output of activation2 and targets\n",
    "    # calculate values along first axis\n",
    "    predictions = np.argmax(loss_activation.output, axis=1)\n",
    "    if len(y.shape) == 2:\n",
    "        y = np.argmax(y, axis=1)\n",
    "    accuracy = np.mean(predictions==y)\n",
    "\n",
    "    if not epoch % 100:\n",
    "        print(f'epoch: {epoch}, ' +\n",
    "              f'acc: {accuracy:.3f}, ' +\n",
    "              f'loss: {loss:.3f}, ' +\n",
    "              f'lr: {optimizer.current_learning_rate}')\n",
    "\n",
    "    # Backward pass\n",
    "    loss_activation.backward(loss_activation.output, y)\n",
    "    dense2.backward(loss_activation.dinputs)\n",
    "    activation1.backward(dense2.dinputs)\n",
    "    dense1.backward(activation1.dinputs)\n",
    "\n",
    "    # Update weights and biases\n",
    "    optimizer.pre_update_params()\n",
    "    optimizer.update_params(dense1)\n",
    "    optimizer.update_params(dense2)\n",
    "    optimizer.post_update_params()"
   ],
   "metadata": {
    "collapsed": false,
    "ExecuteTime": {
     "end_time": "2023-06-21T13:39:20.179041400Z",
     "start_time": "2023-06-21T13:32:38.951077700Z"
    }
   }
  },
  {
   "cell_type": "code",
   "execution_count": 40,
   "outputs": [],
   "source": [
    "x = X[[1], :]\n",
    "y = Y[[1], :]\n",
    "\n",
    "dense1.forward(x)\n",
    "\n",
    "# Perform a forward pass through activation function\n",
    "# takes the output of first dense layer here\n",
    "activation1.forward(dense1.output)\n",
    "\n",
    "# Perform a forward pass through second Dense layer\n",
    "# takes outputs of activation function of first layer as inputs\n",
    "dense2.forward(activation1.output)\n",
    "\n",
    "# Perform a forward pass through the activation/loss function\n",
    "# takes the output of second dense layer here and returns loss\n",
    "loss = loss_activation.forward(dense2.output, y)\n",
    "\n",
    "# Calculate accuracy from output of activation2 and targets\n",
    "# calculate values along first axis\n",
    "predictions = np.argmax(loss_activation.output, axis=1)"
   ],
   "metadata": {
    "collapsed": false,
    "ExecuteTime": {
     "end_time": "2023-06-21T13:39:20.265049600Z",
     "start_time": "2023-06-21T13:39:20.186041200Z"
    }
   }
  },
  {
   "cell_type": "code",
   "execution_count": 41,
   "outputs": [
    {
     "data": {
      "text/plain": "array([0], dtype=int64)"
     },
     "execution_count": 41,
     "metadata": {},
     "output_type": "execute_result"
    }
   ],
   "source": [
    "predictions"
   ],
   "metadata": {
    "collapsed": false,
    "ExecuteTime": {
     "end_time": "2023-06-21T13:39:20.290046700Z",
     "start_time": "2023-06-21T13:39:20.270039800Z"
    }
   }
  },
  {
   "cell_type": "code",
   "execution_count": 42,
   "outputs": [
    {
     "data": {
      "text/plain": "<Figure size 640x480 with 1 Axes>",
      "image/png": "[encoded data removed]"
     },
     "metadata": {},
     "output_type": "display_data"
    }
   ],
   "source": [
    "for i in x:\n",
    "    show_sample(i)"
   ],
   "metadata": {
    "collapsed": false,
    "ExecuteTime": {
     "end_time": "2023-06-21T13:39:20.408040700Z",
     "start_time": "2023-06-21T13:39:20.288039800Z"
    }
   }
  },
  {
   "cell_type": "markdown",
   "source": [
    "Wie wir sehen, haben wir ein Framework für neuronale Netze geschrieben. In der nächsten Session wollen wir ein fertiges populäres Framework verwenden, um weitere neuronale Netze zu implementiern."
   ],
   "metadata": {
    "collapsed": false
   }
  }
 ],
 "metadata": {
  "kernelspec": {
   "display_name": "Python 3 (ipykernel)",
   "language": "python",
   "name": "python3"
  },
  "language_info": {
   "codemirror_mode": {
    "name": "ipython",
    "version": 3
   },
   "file_extension": ".py",
   "mimetype": "text/x-python",
   "name": "python",
   "nbconvert_exporter": "python",
   "pygments_lexer": "ipython3",
   "version": "3.10.0"
  }
 },
 "nbformat": 4,
 "nbformat_minor": 4
}
